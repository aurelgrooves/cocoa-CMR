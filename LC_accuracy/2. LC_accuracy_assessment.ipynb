{
 "cells": [
  {
   "cell_type": "code",
   "execution_count": 1,
   "id": "c030d73b-ea82-4442-b44b-8c49def824f2",
   "metadata": {},
   "outputs": [],
   "source": [
    "import ee\n",
    "ee.Initialize()\n",
    "\n",
    "import geemap\n",
    "import pandas as pd\n",
    "import geopandas as gpd\n",
    "import numpy as np \n",
    "\n",
    "import seaborn as sns\n",
    "from matplotlib import pyplot as plt\n",
    "from sklearn.metrics import confusion_matrix\n",
    "from sklearn.metrics import f1_score, precision_score, recall_score, confusion_matrix\n",
    "\n",
    "pd.options.display.float_format = '{:.3f}'.format"
   ]
  },
  {
   "cell_type": "markdown",
   "id": "86cd5499-ef71-4025-936b-9604d5349930",
   "metadata": {},
   "source": [
    "## 1 - input parameters"
   ]
  },
  {
   "cell_type": "code",
   "execution_count": 2,
   "id": "143a9652-4451-46ed-a616-43d5a211245a",
   "metadata": {},
   "outputs": [
    {
     "data": {
      "text/html": [
       "\n",
       "            <style>\n",
       "                .geemap-dark {\n",
       "                    --jp-widgets-color: white;\n",
       "                    --jp-widgets-label-color: white;\n",
       "                    --jp-ui-font-color1: white;\n",
       "                    --jp-layout-color2: #454545;\n",
       "                    background-color: #383838;\n",
       "                }\n",
       "\n",
       "                .geemap-dark .jupyter-button {\n",
       "                    --jp-layout-color3: #383838;\n",
       "                }\n",
       "\n",
       "                .geemap-colab {\n",
       "                    background-color: var(--colab-primary-surface-color, white);\n",
       "                }\n",
       "\n",
       "                .geemap-colab .jupyter-button {\n",
       "                    --jp-layout-color3: var(--colab-primary-surface-color, white);\n",
       "                }\n",
       "            </style>\n",
       "            "
      ],
      "text/plain": [
       "<IPython.core.display.HTML object>"
      ]
     },
     "metadata": {},
     "output_type": "display_data"
    }
   ],
   "source": [
    "ISO = 'CMR'"
   ]
  },
  {
   "cell_type": "code",
   "execution_count": 21,
   "id": "eb85366f-4556-4b32-b97a-b3989cf394eb",
   "metadata": {},
   "outputs": [
    {
     "data": {
      "text/html": [
       "\n",
       "            <style>\n",
       "                .geemap-dark {\n",
       "                    --jp-widgets-color: white;\n",
       "                    --jp-widgets-label-color: white;\n",
       "                    --jp-ui-font-color1: white;\n",
       "                    --jp-layout-color2: #454545;\n",
       "                    background-color: #383838;\n",
       "                }\n",
       "\n",
       "                .geemap-dark .jupyter-button {\n",
       "                    --jp-layout-color3: #383838;\n",
       "                }\n",
       "\n",
       "                .geemap-colab {\n",
       "                    background-color: var(--colab-primary-surface-color, white);\n",
       "                }\n",
       "\n",
       "                .geemap-colab .jupyter-button {\n",
       "                    --jp-layout-color3: var(--colab-primary-surface-color, white);\n",
       "                }\n",
       "            </style>\n",
       "            "
      ],
      "text/plain": [
       "<IPython.core.display.HTML object>"
      ]
     },
     "metadata": {},
     "output_type": "display_data"
    }
   ],
   "source": [
    "classified_image = ee.Image('projects/ee-cocoacmr/assets/outputs/CMR_LC_2020')\n",
    "tnt_image = ee.Image('projects/ee-cocoacmr/assets/outputs/CMR_TNTMMU_2020')\n",
    "#classified_image = ee.Image('projects/ee-cocoacmr/assets/outputs/CMR_GIEC_v10')\n",
    "#classified_image = ee.Image('projects/ee-cocoacmr/assets/outputs/CMR_TNTMMU_2020_v26')"
   ]
  },
  {
   "cell_type": "code",
   "execution_count": 4,
   "id": "0588805d-e4fb-482d-9104-dc73e61374c7",
   "metadata": {},
   "outputs": [
    {
     "data": {
      "text/html": [
       "\n",
       "            <style>\n",
       "                .geemap-dark {\n",
       "                    --jp-widgets-color: white;\n",
       "                    --jp-widgets-label-color: white;\n",
       "                    --jp-ui-font-color1: white;\n",
       "                    --jp-layout-color2: #454545;\n",
       "                    background-color: #383838;\n",
       "                }\n",
       "\n",
       "                .geemap-dark .jupyter-button {\n",
       "                    --jp-layout-color3: #383838;\n",
       "                }\n",
       "\n",
       "                .geemap-colab {\n",
       "                    background-color: var(--colab-primary-surface-color, white);\n",
       "                }\n",
       "\n",
       "                .geemap-colab .jupyter-button {\n",
       "                    --jp-layout-color3: var(--colab-primary-surface-color, white);\n",
       "                }\n",
       "            </style>\n",
       "            "
      ],
      "text/plain": [
       "<IPython.core.display.HTML object>"
      ]
     },
     "metadata": {},
     "output_type": "display_data"
    }
   ],
   "source": [
    "# resolution of the map\n",
    "scale = 10"
   ]
  },
  {
   "cell_type": "code",
   "execution_count": 5,
   "id": "0b4b01ae-99dd-47d6-988a-b4a640d460d5",
   "metadata": {},
   "outputs": [
    {
     "data": {
      "text/html": [
       "\n",
       "            <style>\n",
       "                .geemap-dark {\n",
       "                    --jp-widgets-color: white;\n",
       "                    --jp-widgets-label-color: white;\n",
       "                    --jp-ui-font-color1: white;\n",
       "                    --jp-layout-color2: #454545;\n",
       "                    background-color: #383838;\n",
       "                }\n",
       "\n",
       "                .geemap-dark .jupyter-button {\n",
       "                    --jp-layout-color3: #383838;\n",
       "                }\n",
       "\n",
       "                .geemap-colab {\n",
       "                    background-color: var(--colab-primary-surface-color, white);\n",
       "                }\n",
       "\n",
       "                .geemap-colab .jupyter-button {\n",
       "                    --jp-layout-color3: var(--colab-primary-surface-color, white);\n",
       "                }\n",
       "            </style>\n",
       "            "
      ],
      "text/plain": [
       "<IPython.core.display.HTML object>"
      ]
     },
     "metadata": {},
     "output_type": "display_data"
    }
   ],
   "source": [
    "# band name for classification\n",
    "map_band = 'classification'\n",
    "tnt_band = 'FNF_2020'\n",
    "#map_band = 'FNF_2020'\n",
    "#map_band = 'remapped'"
   ]
  },
  {
   "cell_type": "code",
   "execution_count": 6,
   "id": "d8e5e671-ac09-436c-a517-b71a01fe6ea9",
   "metadata": {},
   "outputs": [
    {
     "data": {
      "text/html": [
       "\n",
       "            <style>\n",
       "                .geemap-dark {\n",
       "                    --jp-widgets-color: white;\n",
       "                    --jp-widgets-label-color: white;\n",
       "                    --jp-ui-font-color1: white;\n",
       "                    --jp-layout-color2: #454545;\n",
       "                    background-color: #383838;\n",
       "                }\n",
       "\n",
       "                .geemap-dark .jupyter-button {\n",
       "                    --jp-layout-color3: #383838;\n",
       "                }\n",
       "\n",
       "                .geemap-colab {\n",
       "                    background-color: var(--colab-primary-surface-color, white);\n",
       "                }\n",
       "\n",
       "                .geemap-colab .jupyter-button {\n",
       "                    --jp-layout-color3: var(--colab-primary-surface-color, white);\n",
       "                }\n",
       "            </style>\n",
       "            "
      ],
      "text/plain": [
       "<IPython.core.display.HTML object>"
      ]
     },
     "metadata": {},
     "output_type": "display_data"
    }
   ],
   "source": [
    "# list of class codes\n",
    "labels = [11,12,13,14,15,21,22,30,41,42,50,60]\n",
    "#labels = [10,20,30,40,50,60]\n",
    "#labels = [0,1]"
   ]
  },
  {
   "cell_type": "code",
   "execution_count": 7,
   "id": "be7e954c-c1b0-4ac5-9c4e-ecd273040f6d",
   "metadata": {},
   "outputs": [
    {
     "data": {
      "text/html": [
       "\n",
       "            <style>\n",
       "                .geemap-dark {\n",
       "                    --jp-widgets-color: white;\n",
       "                    --jp-widgets-label-color: white;\n",
       "                    --jp-ui-font-color1: white;\n",
       "                    --jp-layout-color2: #454545;\n",
       "                    background-color: #383838;\n",
       "                }\n",
       "\n",
       "                .geemap-dark .jupyter-button {\n",
       "                    --jp-layout-color3: #383838;\n",
       "                }\n",
       "\n",
       "                .geemap-colab {\n",
       "                    background-color: var(--colab-primary-surface-color, white);\n",
       "                }\n",
       "\n",
       "                .geemap-colab .jupyter-button {\n",
       "                    --jp-layout-color3: var(--colab-primary-surface-color, white);\n",
       "                }\n",
       "            </style>\n",
       "            "
      ],
      "text/plain": [
       "<IPython.core.display.HTML object>"
      ]
     },
     "metadata": {},
     "output_type": "display_data"
    },
    {
     "data": {
      "text/plain": [
       "Index(['index', 'plotid', 'sampleid', 'sample_internal_id', 'lon', 'lat',\n",
       "       'flagged', 'collection_time', 'sample_geom', 'pl_index', 'pl_jrcmap',\n",
       "       'pl_tcc', 'IPCC_Ref', 'FType_2020_Ref', 'AgType_2020_Ref',\n",
       "       'HumType_2020_Ref', 'collection', 'interpreted', 'IPCC_2020_Code_Ref',\n",
       "       'FNF_2020_Ref', 'FType_2020_Code_Ref', 'AgType_2020_Code_Ref',\n",
       "       'HumType_2020_Code_Ref', 'LC_2020_Code_Ref'],\n",
       "      dtype='object')"
      ]
     },
     "execution_count": 7,
     "metadata": {},
     "output_type": "execute_result"
    }
   ],
   "source": [
    "# CEO data\n",
    "interpretedData = pd.read_csv('/home/sepal-user/COCAFORI/CMR_LC_validated.csv', low_memory=False)\n",
    "interpretedData.columns"
   ]
  },
  {
   "cell_type": "code",
   "execution_count": 8,
   "id": "dab3a8f3-f8af-472d-a88d-2d698f7d8f76",
   "metadata": {},
   "outputs": [
    {
     "data": {
      "text/html": [
       "\n",
       "            <style>\n",
       "                .geemap-dark {\n",
       "                    --jp-widgets-color: white;\n",
       "                    --jp-widgets-label-color: white;\n",
       "                    --jp-ui-font-color1: white;\n",
       "                    --jp-layout-color2: #454545;\n",
       "                    background-color: #383838;\n",
       "                }\n",
       "\n",
       "                .geemap-dark .jupyter-button {\n",
       "                    --jp-layout-color3: #383838;\n",
       "                }\n",
       "\n",
       "                .geemap-colab {\n",
       "                    background-color: var(--colab-primary-surface-color, white);\n",
       "                }\n",
       "\n",
       "                .geemap-colab .jupyter-button {\n",
       "                    --jp-layout-color3: var(--colab-primary-surface-color, white);\n",
       "                }\n",
       "            </style>\n",
       "            "
      ],
      "text/plain": [
       "<IPython.core.display.HTML object>"
      ]
     },
     "metadata": {},
     "output_type": "display_data"
    },
    {
     "data": {
      "text/plain": [
       "2417"
      ]
     },
     "execution_count": 8,
     "metadata": {},
     "output_type": "execute_result"
    }
   ],
   "source": [
    "len(interpretedData)"
   ]
  },
  {
   "cell_type": "code",
   "execution_count": 9,
   "id": "9b022b74-9fc7-4158-8fd4-ee84c7fddecb",
   "metadata": {},
   "outputs": [
    {
     "data": {
      "text/html": [
       "\n",
       "            <style>\n",
       "                .geemap-dark {\n",
       "                    --jp-widgets-color: white;\n",
       "                    --jp-widgets-label-color: white;\n",
       "                    --jp-ui-font-color1: white;\n",
       "                    --jp-layout-color2: #454545;\n",
       "                    background-color: #383838;\n",
       "                }\n",
       "\n",
       "                .geemap-dark .jupyter-button {\n",
       "                    --jp-layout-color3: #383838;\n",
       "                }\n",
       "\n",
       "                .geemap-colab {\n",
       "                    background-color: var(--colab-primary-surface-color, white);\n",
       "                }\n",
       "\n",
       "                .geemap-colab .jupyter-button {\n",
       "                    --jp-layout-color3: var(--colab-primary-surface-color, white);\n",
       "                }\n",
       "            </style>\n",
       "            "
      ],
      "text/plain": [
       "<IPython.core.display.HTML object>"
      ]
     },
     "metadata": {},
     "output_type": "display_data"
    }
   ],
   "source": [
    "# column with LC code\n",
    "ref_column = 'LC_2020_Code_Ref'\n",
    "#ref_column = 'GIEC_2020_Code_Ref'\n",
    "#ref_column = 'FNF_2020_Ref'"
   ]
  },
  {
   "cell_type": "code",
   "execution_count": 10,
   "id": "03a962d9-ef53-4fac-8a77-0ff7940764fa",
   "metadata": {},
   "outputs": [
    {
     "data": {
      "text/html": [
       "\n",
       "            <style>\n",
       "                .geemap-dark {\n",
       "                    --jp-widgets-color: white;\n",
       "                    --jp-widgets-label-color: white;\n",
       "                    --jp-ui-font-color1: white;\n",
       "                    --jp-layout-color2: #454545;\n",
       "                    background-color: #383838;\n",
       "                }\n",
       "\n",
       "                .geemap-dark .jupyter-button {\n",
       "                    --jp-layout-color3: #383838;\n",
       "                }\n",
       "\n",
       "                .geemap-colab {\n",
       "                    background-color: var(--colab-primary-surface-color, white);\n",
       "                }\n",
       "\n",
       "                .geemap-colab .jupyter-button {\n",
       "                    --jp-layout-color3: var(--colab-primary-surface-color, white);\n",
       "                }\n",
       "            </style>\n",
       "            "
      ],
      "text/plain": [
       "<IPython.core.display.HTML object>"
      ]
     },
     "metadata": {},
     "output_type": "display_data"
    }
   ],
   "source": [
    "# name out class area outputs file\n",
    "#area_out = '/home/sepal-user/COCAFORI/CMR_2020_GIEC_types_areas.csv'\n",
    "area_out = '/home/sepal-user/COCAFORI/CMR_2020_LC_types_areas.csv'"
   ]
  },
  {
   "cell_type": "code",
   "execution_count": 11,
   "id": "bc3aad05-db54-46a0-9c85-3b857913afcd",
   "metadata": {},
   "outputs": [
    {
     "data": {
      "text/html": [
       "\n",
       "            <style>\n",
       "                .geemap-dark {\n",
       "                    --jp-widgets-color: white;\n",
       "                    --jp-widgets-label-color: white;\n",
       "                    --jp-ui-font-color1: white;\n",
       "                    --jp-layout-color2: #454545;\n",
       "                    background-color: #383838;\n",
       "                }\n",
       "\n",
       "                .geemap-dark .jupyter-button {\n",
       "                    --jp-layout-color3: #383838;\n",
       "                }\n",
       "\n",
       "                .geemap-colab {\n",
       "                    background-color: var(--colab-primary-surface-color, white);\n",
       "                }\n",
       "\n",
       "                .geemap-colab .jupyter-button {\n",
       "                    --jp-layout-color3: var(--colab-primary-surface-color, white);\n",
       "                }\n",
       "            </style>\n",
       "            "
      ],
      "text/plain": [
       "<IPython.core.display.HTML object>"
      ]
     },
     "metadata": {},
     "output_type": "display_data"
    }
   ],
   "source": [
    "#name of output file with reference and map data\n",
    "#table_out = '/home/sepal-user/COCAFORI/CMR_2020_GIEC_types_ceo.csv'\n",
    "table_out = '/home/sepal-user/COCAFORI/CMR_2020_LC_types_ceo.csv'"
   ]
  },
  {
   "cell_type": "code",
   "execution_count": 12,
   "id": "b9030ab7-4118-4f04-b2fb-f1ce0999243b",
   "metadata": {},
   "outputs": [
    {
     "data": {
      "text/html": [
       "\n",
       "            <style>\n",
       "                .geemap-dark {\n",
       "                    --jp-widgets-color: white;\n",
       "                    --jp-widgets-label-color: white;\n",
       "                    --jp-ui-font-color1: white;\n",
       "                    --jp-layout-color2: #454545;\n",
       "                    background-color: #383838;\n",
       "                }\n",
       "\n",
       "                .geemap-dark .jupyter-button {\n",
       "                    --jp-layout-color3: #383838;\n",
       "                }\n",
       "\n",
       "                .geemap-colab {\n",
       "                    background-color: var(--colab-primary-surface-color, white);\n",
       "                }\n",
       "\n",
       "                .geemap-colab .jupyter-button {\n",
       "                    --jp-layout-color3: var(--colab-primary-surface-color, white);\n",
       "                }\n",
       "            </style>\n",
       "            "
      ],
      "text/plain": [
       "<IPython.core.display.HTML object>"
      ]
     },
     "metadata": {},
     "output_type": "display_data"
    }
   ],
   "source": [
    "#name of output error matrix\n",
    "#matrix_out = '/home/sepal-user/COCAFORI/CMR_2020_LC_types_ref_val_matrix.csv'"
   ]
  },
  {
   "cell_type": "markdown",
   "id": "33812e55-3f0f-4e68-a6ec-7d11dcc8b7aa",
   "metadata": {},
   "source": [
    "### 2 - Get map areas"
   ]
  },
  {
   "cell_type": "code",
   "execution_count": 13,
   "id": "9a71bcdf-4eb2-4339-911e-e1fc0f3f43b0",
   "metadata": {},
   "outputs": [
    {
     "data": {
      "text/html": [
       "\n",
       "            <style>\n",
       "                .geemap-dark {\n",
       "                    --jp-widgets-color: white;\n",
       "                    --jp-widgets-label-color: white;\n",
       "                    --jp-ui-font-color1: white;\n",
       "                    --jp-layout-color2: #454545;\n",
       "                    background-color: #383838;\n",
       "                }\n",
       "\n",
       "                .geemap-dark .jupyter-button {\n",
       "                    --jp-layout-color3: #383838;\n",
       "                }\n",
       "\n",
       "                .geemap-colab {\n",
       "                    background-color: var(--colab-primary-surface-color, white);\n",
       "                }\n",
       "\n",
       "                .geemap-colab .jupyter-button {\n",
       "                    --jp-layout-color3: var(--colab-primary-surface-color, white);\n",
       "                }\n",
       "            </style>\n",
       "            "
      ],
      "text/plain": [
       "<IPython.core.display.HTML object>"
      ]
     },
     "metadata": {},
     "output_type": "display_data"
    }
   ],
   "source": [
    "aoi = ee.FeatureCollection('projects/ee-cocoacmr/assets/admin/cmr_admbnda_adm0')"
   ]
  },
  {
   "cell_type": "code",
   "execution_count": 14,
   "id": "d4398d59-eee1-4dc3-85a8-f88857dacf60",
   "metadata": {},
   "outputs": [
    {
     "data": {
      "text/html": [
       "\n",
       "            <style>\n",
       "                .geemap-dark {\n",
       "                    --jp-widgets-color: white;\n",
       "                    --jp-widgets-label-color: white;\n",
       "                    --jp-ui-font-color1: white;\n",
       "                    --jp-layout-color2: #454545;\n",
       "                    background-color: #383838;\n",
       "                }\n",
       "\n",
       "                .geemap-dark .jupyter-button {\n",
       "                    --jp-layout-color3: #383838;\n",
       "                }\n",
       "\n",
       "                .geemap-colab {\n",
       "                    background-color: var(--colab-primary-surface-color, white);\n",
       "                }\n",
       "\n",
       "                .geemap-colab .jupyter-button {\n",
       "                    --jp-layout-color3: var(--colab-primary-surface-color, white);\n",
       "                }\n",
       "            </style>\n",
       "            "
      ],
      "text/plain": [
       "<IPython.core.display.HTML object>"
      ]
     },
     "metadata": {},
     "output_type": "display_data"
    }
   ],
   "source": [
    "# Add the area for each pixel\n",
    "pixelArea = ee.Image.pixelArea().clip(aoi)\n",
    "# Multiply pixel area by the class to get the area per class\n",
    "area_image = pixelArea.addBands(classified_image)"
   ]
  },
  {
   "cell_type": "code",
   "execution_count": 15,
   "id": "1c57fb7e-6614-492c-b465-73c1aa3e33db",
   "metadata": {},
   "outputs": [
    {
     "data": {
      "text/html": [
       "\n",
       "            <style>\n",
       "                .geemap-dark {\n",
       "                    --jp-widgets-color: white;\n",
       "                    --jp-widgets-label-color: white;\n",
       "                    --jp-ui-font-color1: white;\n",
       "                    --jp-layout-color2: #454545;\n",
       "                    background-color: #383838;\n",
       "                }\n",
       "\n",
       "                .geemap-dark .jupyter-button {\n",
       "                    --jp-layout-color3: #383838;\n",
       "                }\n",
       "\n",
       "                .geemap-colab {\n",
       "                    background-color: var(--colab-primary-surface-color, white);\n",
       "                }\n",
       "\n",
       "                .geemap-colab .jupyter-button {\n",
       "                    --jp-layout-color3: var(--colab-primary-surface-color, white);\n",
       "                }\n",
       "            </style>\n",
       "            "
      ],
      "text/plain": [
       "<IPython.core.display.HTML object>"
      ]
     },
     "metadata": {},
     "output_type": "display_data"
    }
   ],
   "source": [
    "# Reduce the region by summing up the areas per class\n",
    "class_areas = area_image.reduceRegion(\n",
    "    reducer=ee.Reducer.sum().group(groupField=1, groupName='class'),\n",
    "    geometry=classified_image.geometry(),\n",
    "    scale=30,  # Adjust scale according to your image resolution\n",
    "    maxPixels=1e12\n",
    ")"
   ]
  },
  {
   "cell_type": "code",
   "execution_count": 16,
   "id": "4ea5b043-df96-499b-abbf-c192753225f1",
   "metadata": {},
   "outputs": [
    {
     "data": {
      "text/html": [
       "\n",
       "            <style>\n",
       "                .geemap-dark {\n",
       "                    --jp-widgets-color: white;\n",
       "                    --jp-widgets-label-color: white;\n",
       "                    --jp-ui-font-color1: white;\n",
       "                    --jp-layout-color2: #454545;\n",
       "                    background-color: #383838;\n",
       "                }\n",
       "\n",
       "                .geemap-dark .jupyter-button {\n",
       "                    --jp-layout-color3: #383838;\n",
       "                }\n",
       "\n",
       "                .geemap-colab {\n",
       "                    background-color: var(--colab-primary-surface-color, white);\n",
       "                }\n",
       "\n",
       "                .geemap-colab .jupyter-button {\n",
       "                    --jp-layout-color3: var(--colab-primary-surface-color, white);\n",
       "                }\n",
       "            </style>\n",
       "            "
      ],
      "text/plain": [
       "<IPython.core.display.HTML object>"
      ]
     },
     "metadata": {},
     "output_type": "display_data"
    },
    {
     "name": "stdout",
     "output_type": "stream",
     "text": [
      "    Class    Area (ha)\n",
      "0      11 26316150.628\n",
      "1      12  2649621.723\n",
      "2      13   860350.381\n",
      "3      14   212213.470\n",
      "4      15  3925293.295\n",
      "5      21   129158.447\n",
      "6      22  3567130.671\n",
      "7      30  6735677.159\n",
      "8      41   459690.747\n",
      "9      42   348689.226\n",
      "10     50   239778.266\n",
      "11     60  1143816.295\n"
     ]
    }
   ],
   "source": [
    "# Assuming class_areas is already defined and contains the necessary data\n",
    "class_areas_dict = class_areas.getInfo()\n",
    "\n",
    "# Prepare the data for the DataFrame\n",
    "data = []\n",
    "for item in class_areas_dict['groups']:\n",
    "    area_ha = item['sum'] / 10000  # Convert square meters to hectares\n",
    "    data.append({\n",
    "        'Class': item['class'],\n",
    "        'Area (ha)': area_ha\n",
    "    })\n",
    "\n",
    "# Convert the list of dictionaries to a DataFrame\n",
    "areas_df = pd.DataFrame(data)\n",
    "\n",
    "# Display the DataFrame\n",
    "print(areas_df)"
   ]
  },
  {
   "cell_type": "markdown",
   "id": "63508a96-50fe-4be5-a572-da44b70c6f63",
   "metadata": {},
   "source": [
    "### 3 - sample map with validation points "
   ]
  },
  {
   "cell_type": "code",
   "execution_count": 17,
   "id": "1ed9a3a7-d703-42bc-8ed6-cc2d92065239",
   "metadata": {},
   "outputs": [
    {
     "data": {
      "text/html": [
       "\n",
       "            <style>\n",
       "                .geemap-dark {\n",
       "                    --jp-widgets-color: white;\n",
       "                    --jp-widgets-label-color: white;\n",
       "                    --jp-ui-font-color1: white;\n",
       "                    --jp-layout-color2: #454545;\n",
       "                    background-color: #383838;\n",
       "                }\n",
       "\n",
       "                .geemap-dark .jupyter-button {\n",
       "                    --jp-layout-color3: #383838;\n",
       "                }\n",
       "\n",
       "                .geemap-colab {\n",
       "                    background-color: var(--colab-primary-surface-color, white);\n",
       "                }\n",
       "\n",
       "                .geemap-colab .jupyter-button {\n",
       "                    --jp-layout-color3: var(--colab-primary-surface-color, white);\n",
       "                }\n",
       "            </style>\n",
       "            "
      ],
      "text/plain": [
       "<IPython.core.display.HTML object>"
      ]
     },
     "metadata": {},
     "output_type": "display_data"
    },
    {
     "data": {
      "text/html": [
       "<div>\n",
       "<style scoped>\n",
       "    .dataframe tbody tr th:only-of-type {\n",
       "        vertical-align: middle;\n",
       "    }\n",
       "\n",
       "    .dataframe tbody tr th {\n",
       "        vertical-align: top;\n",
       "    }\n",
       "\n",
       "    .dataframe thead th {\n",
       "        text-align: right;\n",
       "    }\n",
       "</style>\n",
       "<table border=\"1\" class=\"dataframe\">\n",
       "  <thead>\n",
       "    <tr style=\"text-align: right;\">\n",
       "      <th></th>\n",
       "      <th>index</th>\n",
       "      <th>plotid</th>\n",
       "      <th>sampleid</th>\n",
       "      <th>collection</th>\n",
       "      <th>FNF_2020_Ref</th>\n",
       "      <th>LC_2020_Code_Ref</th>\n",
       "      <th>lon</th>\n",
       "      <th>lat</th>\n",
       "      <th>geometry</th>\n",
       "    </tr>\n",
       "  </thead>\n",
       "  <tbody>\n",
       "    <tr>\n",
       "      <th>0</th>\n",
       "      <td>0</td>\n",
       "      <td>4</td>\n",
       "      <td>4</td>\n",
       "      <td>1</td>\n",
       "      <td>1</td>\n",
       "      <td>12</td>\n",
       "      <td>14.299</td>\n",
       "      <td>7.777</td>\n",
       "      <td>POINT (14.29857 7.77672)</td>\n",
       "    </tr>\n",
       "    <tr>\n",
       "      <th>1</th>\n",
       "      <td>1</td>\n",
       "      <td>2</td>\n",
       "      <td>2</td>\n",
       "      <td>1</td>\n",
       "      <td>0</td>\n",
       "      <td>30</td>\n",
       "      <td>13.157</td>\n",
       "      <td>9.445</td>\n",
       "      <td>POINT (13.15682 9.44489)</td>\n",
       "    </tr>\n",
       "    <tr>\n",
       "      <th>2</th>\n",
       "      <td>2</td>\n",
       "      <td>6</td>\n",
       "      <td>6</td>\n",
       "      <td>1</td>\n",
       "      <td>0</td>\n",
       "      <td>30</td>\n",
       "      <td>13.760</td>\n",
       "      <td>8.647</td>\n",
       "      <td>POINT (13.75959 8.64718)</td>\n",
       "    </tr>\n",
       "    <tr>\n",
       "      <th>3</th>\n",
       "      <td>3</td>\n",
       "      <td>7</td>\n",
       "      <td>7</td>\n",
       "      <td>1</td>\n",
       "      <td>0</td>\n",
       "      <td>30</td>\n",
       "      <td>14.741</td>\n",
       "      <td>11.144</td>\n",
       "      <td>POINT (14.74055 11.1445)</td>\n",
       "    </tr>\n",
       "    <tr>\n",
       "      <th>4</th>\n",
       "      <td>4</td>\n",
       "      <td>8</td>\n",
       "      <td>8</td>\n",
       "      <td>1</td>\n",
       "      <td>1</td>\n",
       "      <td>11</td>\n",
       "      <td>13.101</td>\n",
       "      <td>4.403</td>\n",
       "      <td>POINT (13.10112 4.40264)</td>\n",
       "    </tr>\n",
       "    <tr>\n",
       "      <th>...</th>\n",
       "      <td>...</td>\n",
       "      <td>...</td>\n",
       "      <td>...</td>\n",
       "      <td>...</td>\n",
       "      <td>...</td>\n",
       "      <td>...</td>\n",
       "      <td>...</td>\n",
       "      <td>...</td>\n",
       "      <td>...</td>\n",
       "    </tr>\n",
       "    <tr>\n",
       "      <th>2412</th>\n",
       "      <td>2412</td>\n",
       "      <td>1994</td>\n",
       "      <td>1994</td>\n",
       "      <td>6</td>\n",
       "      <td>0</td>\n",
       "      <td>22</td>\n",
       "      <td>14.563</td>\n",
       "      <td>11.449</td>\n",
       "      <td>POINT (14.5629 11.44925)</td>\n",
       "    </tr>\n",
       "    <tr>\n",
       "      <th>2413</th>\n",
       "      <td>2413</td>\n",
       "      <td>1927</td>\n",
       "      <td>1927</td>\n",
       "      <td>6</td>\n",
       "      <td>0</td>\n",
       "      <td>22</td>\n",
       "      <td>13.865</td>\n",
       "      <td>10.371</td>\n",
       "      <td>POINT (13.86491 10.37083)</td>\n",
       "    </tr>\n",
       "    <tr>\n",
       "      <th>2414</th>\n",
       "      <td>2414</td>\n",
       "      <td>1985</td>\n",
       "      <td>1985</td>\n",
       "      <td>6</td>\n",
       "      <td>0</td>\n",
       "      <td>22</td>\n",
       "      <td>13.137</td>\n",
       "      <td>9.016</td>\n",
       "      <td>POINT (13.13737 9.01635)</td>\n",
       "    </tr>\n",
       "    <tr>\n",
       "      <th>2415</th>\n",
       "      <td>2415</td>\n",
       "      <td>1920</td>\n",
       "      <td>1920</td>\n",
       "      <td>6</td>\n",
       "      <td>1</td>\n",
       "      <td>15</td>\n",
       "      <td>11.046</td>\n",
       "      <td>4.097</td>\n",
       "      <td>POINT (11.04591 4.09708)</td>\n",
       "    </tr>\n",
       "    <tr>\n",
       "      <th>2416</th>\n",
       "      <td>2416</td>\n",
       "      <td>1922</td>\n",
       "      <td>1922</td>\n",
       "      <td>6</td>\n",
       "      <td>1</td>\n",
       "      <td>11</td>\n",
       "      <td>13.964</td>\n",
       "      <td>4.615</td>\n",
       "      <td>POINT (13.96427 4.6146)</td>\n",
       "    </tr>\n",
       "  </tbody>\n",
       "</table>\n",
       "<p>2417 rows × 9 columns</p>\n",
       "</div>"
      ],
      "text/plain": [
       "      index  plotid  sampleid  collection  FNF_2020_Ref  LC_2020_Code_Ref  \\\n",
       "0         0       4         4           1             1                12   \n",
       "1         1       2         2           1             0                30   \n",
       "2         2       6         6           1             0                30   \n",
       "3         3       7         7           1             0                30   \n",
       "4         4       8         8           1             1                11   \n",
       "...     ...     ...       ...         ...           ...               ...   \n",
       "2412   2412    1994      1994           6             0                22   \n",
       "2413   2413    1927      1927           6             0                22   \n",
       "2414   2414    1985      1985           6             0                22   \n",
       "2415   2415    1920      1920           6             1                15   \n",
       "2416   2416    1922      1922           6             1                11   \n",
       "\n",
       "        lon    lat                   geometry  \n",
       "0    14.299  7.777   POINT (14.29857 7.77672)  \n",
       "1    13.157  9.445   POINT (13.15682 9.44489)  \n",
       "2    13.760  8.647   POINT (13.75959 8.64718)  \n",
       "3    14.741 11.144   POINT (14.74055 11.1445)  \n",
       "4    13.101  4.403   POINT (13.10112 4.40264)  \n",
       "...     ...    ...                        ...  \n",
       "2412 14.563 11.449   POINT (14.5629 11.44925)  \n",
       "2413 13.865 10.371  POINT (13.86491 10.37083)  \n",
       "2414 13.137  9.016   POINT (13.13737 9.01635)  \n",
       "2415 11.046  4.097   POINT (11.04591 4.09708)  \n",
       "2416 13.964  4.615    POINT (13.96427 4.6146)  \n",
       "\n",
       "[2417 rows x 9 columns]"
      ]
     },
     "execution_count": 17,
     "metadata": {},
     "output_type": "execute_result"
    }
   ],
   "source": [
    "gdf = gpd.GeoDataFrame(interpretedData[['index', 'plotid', 'sampleid', 'collection', 'FNF_2020_Ref',ref_column, 'lon', 'lat']], geometry=gpd.points_from_xy(interpretedData.lon, interpretedData.lat), crs='epsg:4326')\n",
    "gdf"
   ]
  },
  {
   "cell_type": "markdown",
   "id": "6a52b711-a766-4278-89f8-43edcbdd6d74",
   "metadata": {},
   "source": [
    "##### be patient this can take a while with a large number of points"
   ]
  },
  {
   "cell_type": "code",
   "execution_count": 18,
   "id": "75bfbec5-7852-4b2a-a3a1-03221a4c7c3d",
   "metadata": {},
   "outputs": [
    {
     "data": {
      "text/html": [
       "\n",
       "            <style>\n",
       "                .geemap-dark {\n",
       "                    --jp-widgets-color: white;\n",
       "                    --jp-widgets-label-color: white;\n",
       "                    --jp-ui-font-color1: white;\n",
       "                    --jp-layout-color2: #454545;\n",
       "                    background-color: #383838;\n",
       "                }\n",
       "\n",
       "                .geemap-dark .jupyter-button {\n",
       "                    --jp-layout-color3: #383838;\n",
       "                }\n",
       "\n",
       "                .geemap-colab {\n",
       "                    background-color: var(--colab-primary-surface-color, white);\n",
       "                }\n",
       "\n",
       "                .geemap-colab .jupyter-button {\n",
       "                    --jp-layout-color3: var(--colab-primary-surface-color, white);\n",
       "                }\n",
       "            </style>\n",
       "            "
      ],
      "text/plain": [
       "<IPython.core.display.HTML object>"
      ]
     },
     "metadata": {},
     "output_type": "display_data"
    }
   ],
   "source": [
    "dfs = []\n",
    "for i in range(0, len(interpretedData), 5000):\n",
    "    tmp_df = gdf.loc[i:i+4999]\n",
    "    tmp_fc = geemap.gdf_to_ee(tmp_df[['index','plotid', 'sampleid', 'collection','FNF_2020_Ref', ref_column, 'geometry']])\n",
    "    tmp_smp = classified_image.select(map_band).reduceRegions(**{\n",
    "        'collection': tmp_fc,\n",
    "        'scale': scale,\n",
    "        'reducer': ee.Reducer.first()   \n",
    "    })\n",
    "\n",
    "    tmp_res = geemap.ee_to_gdf(tmp_smp)\n",
    "    dfs.append(tmp_res)\n",
    "    \n",
    "results_df = pd.concat(dfs)"
   ]
  },
  {
   "cell_type": "code",
   "execution_count": 19,
   "id": "3eebdd06-5a18-4b0c-895b-c466ca08baa9",
   "metadata": {},
   "outputs": [
    {
     "data": {
      "text/html": [
       "\n",
       "            <style>\n",
       "                .geemap-dark {\n",
       "                    --jp-widgets-color: white;\n",
       "                    --jp-widgets-label-color: white;\n",
       "                    --jp-ui-font-color1: white;\n",
       "                    --jp-layout-color2: #454545;\n",
       "                    background-color: #383838;\n",
       "                }\n",
       "\n",
       "                .geemap-dark .jupyter-button {\n",
       "                    --jp-layout-color3: #383838;\n",
       "                }\n",
       "\n",
       "                .geemap-colab {\n",
       "                    background-color: var(--colab-primary-surface-color, white);\n",
       "                }\n",
       "\n",
       "                .geemap-colab .jupyter-button {\n",
       "                    --jp-layout-color3: var(--colab-primary-surface-color, white);\n",
       "                }\n",
       "            </style>\n",
       "            "
      ],
      "text/plain": [
       "<IPython.core.display.HTML object>"
      ]
     },
     "metadata": {},
     "output_type": "display_data"
    },
    {
     "data": {
      "text/html": [
       "<div>\n",
       "<style scoped>\n",
       "    .dataframe tbody tr th:only-of-type {\n",
       "        vertical-align: middle;\n",
       "    }\n",
       "\n",
       "    .dataframe tbody tr th {\n",
       "        vertical-align: top;\n",
       "    }\n",
       "\n",
       "    .dataframe thead th {\n",
       "        text-align: right;\n",
       "    }\n",
       "</style>\n",
       "<table border=\"1\" class=\"dataframe\">\n",
       "  <thead>\n",
       "    <tr style=\"text-align: right;\">\n",
       "      <th></th>\n",
       "      <th>geometry</th>\n",
       "      <th>FNF_2020_Ref</th>\n",
       "      <th>LC_2020_Code_Ref</th>\n",
       "      <th>collection</th>\n",
       "      <th>LC_2020_Code_Map</th>\n",
       "      <th>index</th>\n",
       "      <th>plotid</th>\n",
       "      <th>sampleid</th>\n",
       "    </tr>\n",
       "  </thead>\n",
       "  <tbody>\n",
       "    <tr>\n",
       "      <th>0</th>\n",
       "      <td>POINT (14.29857 7.77672)</td>\n",
       "      <td>1</td>\n",
       "      <td>12</td>\n",
       "      <td>1</td>\n",
       "      <td>11</td>\n",
       "      <td>0</td>\n",
       "      <td>4</td>\n",
       "      <td>4</td>\n",
       "    </tr>\n",
       "    <tr>\n",
       "      <th>1</th>\n",
       "      <td>POINT (13.15682 9.44489)</td>\n",
       "      <td>0</td>\n",
       "      <td>30</td>\n",
       "      <td>1</td>\n",
       "      <td>30</td>\n",
       "      <td>1</td>\n",
       "      <td>2</td>\n",
       "      <td>2</td>\n",
       "    </tr>\n",
       "    <tr>\n",
       "      <th>2</th>\n",
       "      <td>POINT (13.75959 8.64718)</td>\n",
       "      <td>0</td>\n",
       "      <td>30</td>\n",
       "      <td>1</td>\n",
       "      <td>30</td>\n",
       "      <td>2</td>\n",
       "      <td>6</td>\n",
       "      <td>6</td>\n",
       "    </tr>\n",
       "    <tr>\n",
       "      <th>3</th>\n",
       "      <td>POINT (14.74055 11.1445)</td>\n",
       "      <td>0</td>\n",
       "      <td>30</td>\n",
       "      <td>1</td>\n",
       "      <td>30</td>\n",
       "      <td>3</td>\n",
       "      <td>7</td>\n",
       "      <td>7</td>\n",
       "    </tr>\n",
       "    <tr>\n",
       "      <th>4</th>\n",
       "      <td>POINT (13.10112 4.40264)</td>\n",
       "      <td>1</td>\n",
       "      <td>11</td>\n",
       "      <td>1</td>\n",
       "      <td>11</td>\n",
       "      <td>4</td>\n",
       "      <td>8</td>\n",
       "      <td>8</td>\n",
       "    </tr>\n",
       "    <tr>\n",
       "      <th>...</th>\n",
       "      <td>...</td>\n",
       "      <td>...</td>\n",
       "      <td>...</td>\n",
       "      <td>...</td>\n",
       "      <td>...</td>\n",
       "      <td>...</td>\n",
       "      <td>...</td>\n",
       "      <td>...</td>\n",
       "    </tr>\n",
       "    <tr>\n",
       "      <th>2412</th>\n",
       "      <td>POINT (14.5629 11.44925)</td>\n",
       "      <td>0</td>\n",
       "      <td>22</td>\n",
       "      <td>6</td>\n",
       "      <td>41</td>\n",
       "      <td>2412</td>\n",
       "      <td>1994</td>\n",
       "      <td>1994</td>\n",
       "    </tr>\n",
       "    <tr>\n",
       "      <th>2413</th>\n",
       "      <td>POINT (13.86491 10.37083)</td>\n",
       "      <td>0</td>\n",
       "      <td>22</td>\n",
       "      <td>6</td>\n",
       "      <td>22</td>\n",
       "      <td>2413</td>\n",
       "      <td>1927</td>\n",
       "      <td>1927</td>\n",
       "    </tr>\n",
       "    <tr>\n",
       "      <th>2414</th>\n",
       "      <td>POINT (13.13737 9.01635)</td>\n",
       "      <td>0</td>\n",
       "      <td>22</td>\n",
       "      <td>6</td>\n",
       "      <td>22</td>\n",
       "      <td>2414</td>\n",
       "      <td>1985</td>\n",
       "      <td>1985</td>\n",
       "    </tr>\n",
       "    <tr>\n",
       "      <th>2415</th>\n",
       "      <td>POINT (11.04591 4.09708)</td>\n",
       "      <td>1</td>\n",
       "      <td>15</td>\n",
       "      <td>6</td>\n",
       "      <td>11</td>\n",
       "      <td>2415</td>\n",
       "      <td>1920</td>\n",
       "      <td>1920</td>\n",
       "    </tr>\n",
       "    <tr>\n",
       "      <th>2416</th>\n",
       "      <td>POINT (13.96427 4.6146)</td>\n",
       "      <td>1</td>\n",
       "      <td>11</td>\n",
       "      <td>6</td>\n",
       "      <td>15</td>\n",
       "      <td>2416</td>\n",
       "      <td>1922</td>\n",
       "      <td>1922</td>\n",
       "    </tr>\n",
       "  </tbody>\n",
       "</table>\n",
       "<p>2417 rows × 8 columns</p>\n",
       "</div>"
      ],
      "text/plain": [
       "                       geometry  FNF_2020_Ref  LC_2020_Code_Ref  collection  \\\n",
       "0      POINT (14.29857 7.77672)             1                12           1   \n",
       "1      POINT (13.15682 9.44489)             0                30           1   \n",
       "2      POINT (13.75959 8.64718)             0                30           1   \n",
       "3      POINT (14.74055 11.1445)             0                30           1   \n",
       "4      POINT (13.10112 4.40264)             1                11           1   \n",
       "...                         ...           ...               ...         ...   \n",
       "2412   POINT (14.5629 11.44925)             0                22           6   \n",
       "2413  POINT (13.86491 10.37083)             0                22           6   \n",
       "2414   POINT (13.13737 9.01635)             0                22           6   \n",
       "2415   POINT (11.04591 4.09708)             1                15           6   \n",
       "2416    POINT (13.96427 4.6146)             1                11           6   \n",
       "\n",
       "      LC_2020_Code_Map  index  plotid  sampleid  \n",
       "0                   11      0       4         4  \n",
       "1                   30      1       2         2  \n",
       "2                   30      2       6         6  \n",
       "3                   30      3       7         7  \n",
       "4                   11      4       8         8  \n",
       "...                ...    ...     ...       ...  \n",
       "2412                41   2412    1994      1994  \n",
       "2413                22   2413    1927      1927  \n",
       "2414                22   2414    1985      1985  \n",
       "2415                11   2415    1920      1920  \n",
       "2416                15   2416    1922      1922  \n",
       "\n",
       "[2417 rows x 8 columns]"
      ]
     },
     "execution_count": 19,
     "metadata": {},
     "output_type": "execute_result"
    }
   ],
   "source": [
    "#map_column = 'GIEC_2020_Map'\n",
    "map_column = 'LC_2020_Code_Map'\n",
    "#map_column = 'TNT_2020_Map'\n",
    "results_df = results_df.rename(columns={'first':map_column})\n",
    "#results_df = results_df.rename(columns={'first': map_column})\n",
    "results_df"
   ]
  },
  {
   "cell_type": "code",
   "execution_count": 22,
   "id": "1f84b7e2-1538-4f73-9ef5-c69095cd2a2a",
   "metadata": {},
   "outputs": [
    {
     "data": {
      "text/html": [
       "\n",
       "            <style>\n",
       "                .geemap-dark {\n",
       "                    --jp-widgets-color: white;\n",
       "                    --jp-widgets-label-color: white;\n",
       "                    --jp-ui-font-color1: white;\n",
       "                    --jp-layout-color2: #454545;\n",
       "                    background-color: #383838;\n",
       "                }\n",
       "\n",
       "                .geemap-dark .jupyter-button {\n",
       "                    --jp-layout-color3: #383838;\n",
       "                }\n",
       "\n",
       "                .geemap-colab {\n",
       "                    background-color: var(--colab-primary-surface-color, white);\n",
       "                }\n",
       "\n",
       "                .geemap-colab .jupyter-button {\n",
       "                    --jp-layout-color3: var(--colab-primary-surface-color, white);\n",
       "                }\n",
       "            </style>\n",
       "            "
      ],
      "text/plain": [
       "<IPython.core.display.HTML object>"
      ]
     },
     "metadata": {},
     "output_type": "display_data"
    }
   ],
   "source": [
    "dfs1 = []\n",
    "for i in range(0, len(interpretedData), 5000):\n",
    "    tmp_df1 = results_df.loc[i:i+4999]\n",
    "    tmp_fc1 = geemap.gdf_to_ee(tmp_df1[['index', 'plotid', 'sampleid', 'collection','FNF_2020_Ref', 'LC_2020_Code_Ref','LC_2020_Code_Map', 'geometry']])\n",
    "    \n",
    "    tmp_smp1 = tnt_image.select(tnt_band).reduceRegions(**{\n",
    "        'collection': tmp_fc1,\n",
    "        'scale': scale,\n",
    "        'reducer': ee.Reducer.first()   \n",
    "    })\n",
    "\n",
    "    tmp_res1 = geemap.ee_to_gdf(tmp_smp1)\n",
    "    dfs1.append(tmp_res1)\n",
    "\n",
    "results_df2 = pd.concat(dfs1)"
   ]
  },
  {
   "cell_type": "code",
   "execution_count": 23,
   "id": "65e66046-62ea-42c8-a9f1-f12cfd0f7047",
   "metadata": {},
   "outputs": [
    {
     "data": {
      "text/html": [
       "\n",
       "            <style>\n",
       "                .geemap-dark {\n",
       "                    --jp-widgets-color: white;\n",
       "                    --jp-widgets-label-color: white;\n",
       "                    --jp-ui-font-color1: white;\n",
       "                    --jp-layout-color2: #454545;\n",
       "                    background-color: #383838;\n",
       "                }\n",
       "\n",
       "                .geemap-dark .jupyter-button {\n",
       "                    --jp-layout-color3: #383838;\n",
       "                }\n",
       "\n",
       "                .geemap-colab {\n",
       "                    background-color: var(--colab-primary-surface-color, white);\n",
       "                }\n",
       "\n",
       "                .geemap-colab .jupyter-button {\n",
       "                    --jp-layout-color3: var(--colab-primary-surface-color, white);\n",
       "                }\n",
       "            </style>\n",
       "            "
      ],
      "text/plain": [
       "<IPython.core.display.HTML object>"
      ]
     },
     "metadata": {},
     "output_type": "display_data"
    },
    {
     "data": {
      "text/html": [
       "<div>\n",
       "<style scoped>\n",
       "    .dataframe tbody tr th:only-of-type {\n",
       "        vertical-align: middle;\n",
       "    }\n",
       "\n",
       "    .dataframe tbody tr th {\n",
       "        vertical-align: top;\n",
       "    }\n",
       "\n",
       "    .dataframe thead th {\n",
       "        text-align: right;\n",
       "    }\n",
       "</style>\n",
       "<table border=\"1\" class=\"dataframe\">\n",
       "  <thead>\n",
       "    <tr style=\"text-align: right;\">\n",
       "      <th></th>\n",
       "      <th>geometry</th>\n",
       "      <th>FNF_2020_Ref</th>\n",
       "      <th>LC_2020_Code_Map</th>\n",
       "      <th>LC_2020_Code_Ref</th>\n",
       "      <th>collection</th>\n",
       "      <th>FNF_2020_Map</th>\n",
       "      <th>index</th>\n",
       "      <th>plotid</th>\n",
       "      <th>sampleid</th>\n",
       "    </tr>\n",
       "  </thead>\n",
       "  <tbody>\n",
       "    <tr>\n",
       "      <th>0</th>\n",
       "      <td>POINT (14.29857 7.77672)</td>\n",
       "      <td>1</td>\n",
       "      <td>11</td>\n",
       "      <td>12</td>\n",
       "      <td>1</td>\n",
       "      <td>1</td>\n",
       "      <td>0</td>\n",
       "      <td>4</td>\n",
       "      <td>4</td>\n",
       "    </tr>\n",
       "    <tr>\n",
       "      <th>1</th>\n",
       "      <td>POINT (13.15682 9.44489)</td>\n",
       "      <td>0</td>\n",
       "      <td>30</td>\n",
       "      <td>30</td>\n",
       "      <td>1</td>\n",
       "      <td>0</td>\n",
       "      <td>1</td>\n",
       "      <td>2</td>\n",
       "      <td>2</td>\n",
       "    </tr>\n",
       "    <tr>\n",
       "      <th>2</th>\n",
       "      <td>POINT (13.75959 8.64718)</td>\n",
       "      <td>0</td>\n",
       "      <td>30</td>\n",
       "      <td>30</td>\n",
       "      <td>1</td>\n",
       "      <td>0</td>\n",
       "      <td>2</td>\n",
       "      <td>6</td>\n",
       "      <td>6</td>\n",
       "    </tr>\n",
       "    <tr>\n",
       "      <th>3</th>\n",
       "      <td>POINT (14.74055 11.1445)</td>\n",
       "      <td>0</td>\n",
       "      <td>30</td>\n",
       "      <td>30</td>\n",
       "      <td>1</td>\n",
       "      <td>0</td>\n",
       "      <td>3</td>\n",
       "      <td>7</td>\n",
       "      <td>7</td>\n",
       "    </tr>\n",
       "    <tr>\n",
       "      <th>4</th>\n",
       "      <td>POINT (13.10112 4.40264)</td>\n",
       "      <td>1</td>\n",
       "      <td>11</td>\n",
       "      <td>11</td>\n",
       "      <td>1</td>\n",
       "      <td>1</td>\n",
       "      <td>4</td>\n",
       "      <td>8</td>\n",
       "      <td>8</td>\n",
       "    </tr>\n",
       "    <tr>\n",
       "      <th>...</th>\n",
       "      <td>...</td>\n",
       "      <td>...</td>\n",
       "      <td>...</td>\n",
       "      <td>...</td>\n",
       "      <td>...</td>\n",
       "      <td>...</td>\n",
       "      <td>...</td>\n",
       "      <td>...</td>\n",
       "      <td>...</td>\n",
       "    </tr>\n",
       "    <tr>\n",
       "      <th>2412</th>\n",
       "      <td>POINT (14.5629 11.44925)</td>\n",
       "      <td>0</td>\n",
       "      <td>41</td>\n",
       "      <td>22</td>\n",
       "      <td>6</td>\n",
       "      <td>0</td>\n",
       "      <td>2412</td>\n",
       "      <td>1994</td>\n",
       "      <td>1994</td>\n",
       "    </tr>\n",
       "    <tr>\n",
       "      <th>2413</th>\n",
       "      <td>POINT (13.86491 10.37083)</td>\n",
       "      <td>0</td>\n",
       "      <td>22</td>\n",
       "      <td>22</td>\n",
       "      <td>6</td>\n",
       "      <td>0</td>\n",
       "      <td>2413</td>\n",
       "      <td>1927</td>\n",
       "      <td>1927</td>\n",
       "    </tr>\n",
       "    <tr>\n",
       "      <th>2414</th>\n",
       "      <td>POINT (13.13737 9.01635)</td>\n",
       "      <td>0</td>\n",
       "      <td>22</td>\n",
       "      <td>22</td>\n",
       "      <td>6</td>\n",
       "      <td>0</td>\n",
       "      <td>2414</td>\n",
       "      <td>1985</td>\n",
       "      <td>1985</td>\n",
       "    </tr>\n",
       "    <tr>\n",
       "      <th>2415</th>\n",
       "      <td>POINT (11.04591 4.09708)</td>\n",
       "      <td>1</td>\n",
       "      <td>11</td>\n",
       "      <td>15</td>\n",
       "      <td>6</td>\n",
       "      <td>1</td>\n",
       "      <td>2415</td>\n",
       "      <td>1920</td>\n",
       "      <td>1920</td>\n",
       "    </tr>\n",
       "    <tr>\n",
       "      <th>2416</th>\n",
       "      <td>POINT (13.96427 4.6146)</td>\n",
       "      <td>1</td>\n",
       "      <td>15</td>\n",
       "      <td>11</td>\n",
       "      <td>6</td>\n",
       "      <td>1</td>\n",
       "      <td>2416</td>\n",
       "      <td>1922</td>\n",
       "      <td>1922</td>\n",
       "    </tr>\n",
       "  </tbody>\n",
       "</table>\n",
       "<p>2417 rows × 9 columns</p>\n",
       "</div>"
      ],
      "text/plain": [
       "                       geometry  FNF_2020_Ref  LC_2020_Code_Map  \\\n",
       "0      POINT (14.29857 7.77672)             1                11   \n",
       "1      POINT (13.15682 9.44489)             0                30   \n",
       "2      POINT (13.75959 8.64718)             0                30   \n",
       "3      POINT (14.74055 11.1445)             0                30   \n",
       "4      POINT (13.10112 4.40264)             1                11   \n",
       "...                         ...           ...               ...   \n",
       "2412   POINT (14.5629 11.44925)             0                41   \n",
       "2413  POINT (13.86491 10.37083)             0                22   \n",
       "2414   POINT (13.13737 9.01635)             0                22   \n",
       "2415   POINT (11.04591 4.09708)             1                11   \n",
       "2416    POINT (13.96427 4.6146)             1                15   \n",
       "\n",
       "      LC_2020_Code_Ref  collection  FNF_2020_Map  index  plotid  sampleid  \n",
       "0                   12           1             1      0       4         4  \n",
       "1                   30           1             0      1       2         2  \n",
       "2                   30           1             0      2       6         6  \n",
       "3                   30           1             0      3       7         7  \n",
       "4                   11           1             1      4       8         8  \n",
       "...                ...         ...           ...    ...     ...       ...  \n",
       "2412                22           6             0   2412    1994      1994  \n",
       "2413                22           6             0   2413    1927      1927  \n",
       "2414                22           6             0   2414    1985      1985  \n",
       "2415                15           6             1   2415    1920      1920  \n",
       "2416                11           6             1   2416    1922      1922  \n",
       "\n",
       "[2417 rows x 9 columns]"
      ]
     },
     "execution_count": 23,
     "metadata": {},
     "output_type": "execute_result"
    }
   ],
   "source": [
    "results_df = results_df2.rename(columns={'first':'FNF_2020_Map'})\n",
    "results_df"
   ]
  },
  {
   "cell_type": "code",
   "execution_count": 24,
   "id": "cd127e33-f710-4378-be16-807dae211a7a",
   "metadata": {},
   "outputs": [
    {
     "data": {
      "text/html": [
       "\n",
       "            <style>\n",
       "                .geemap-dark {\n",
       "                    --jp-widgets-color: white;\n",
       "                    --jp-widgets-label-color: white;\n",
       "                    --jp-ui-font-color1: white;\n",
       "                    --jp-layout-color2: #454545;\n",
       "                    background-color: #383838;\n",
       "                }\n",
       "\n",
       "                .geemap-dark .jupyter-button {\n",
       "                    --jp-layout-color3: #383838;\n",
       "                }\n",
       "\n",
       "                .geemap-colab {\n",
       "                    background-color: var(--colab-primary-surface-color, white);\n",
       "                }\n",
       "\n",
       "                .geemap-colab .jupyter-button {\n",
       "                    --jp-layout-color3: var(--colab-primary-surface-color, white);\n",
       "                }\n",
       "            </style>\n",
       "            "
      ],
      "text/plain": [
       "<IPython.core.display.HTML object>"
      ]
     },
     "metadata": {},
     "output_type": "display_data"
    }
   ],
   "source": [
    "#export table with map and reference\n",
    "results_df.to_csv(table_out,index=False)"
   ]
  },
  {
   "cell_type": "markdown",
   "id": "c08cdbd0-5033-437e-a27e-d319c26a03ee",
   "metadata": {},
   "source": [
    "#### Confusion matrix"
   ]
  },
  {
   "cell_type": "code",
   "execution_count": 25,
   "id": "54b205e4-bc0e-449e-9118-f5772e4a6e18",
   "metadata": {},
   "outputs": [
    {
     "data": {
      "text/html": [
       "\n",
       "            <style>\n",
       "                .geemap-dark {\n",
       "                    --jp-widgets-color: white;\n",
       "                    --jp-widgets-label-color: white;\n",
       "                    --jp-ui-font-color1: white;\n",
       "                    --jp-layout-color2: #454545;\n",
       "                    background-color: #383838;\n",
       "                }\n",
       "\n",
       "                .geemap-dark .jupyter-button {\n",
       "                    --jp-layout-color3: #383838;\n",
       "                }\n",
       "\n",
       "                .geemap-colab {\n",
       "                    background-color: var(--colab-primary-surface-color, white);\n",
       "                }\n",
       "\n",
       "                .geemap-colab .jupyter-button {\n",
       "                    --jp-layout-color3: var(--colab-primary-surface-color, white);\n",
       "                }\n",
       "            </style>\n",
       "            "
      ],
      "text/plain": [
       "<IPython.core.display.HTML object>"
      ]
     },
     "metadata": {},
     "output_type": "display_data"
    }
   ],
   "source": [
    "conf_matrix = confusion_matrix(results_df[ref_column], results_df[map_column], labels=labels)"
   ]
  },
  {
   "cell_type": "code",
   "execution_count": 26,
   "id": "10cc090f-aad4-434b-a4e0-ec2ec6d1497f",
   "metadata": {},
   "outputs": [
    {
     "data": {
      "text/html": [
       "\n",
       "            <style>\n",
       "                .geemap-dark {\n",
       "                    --jp-widgets-color: white;\n",
       "                    --jp-widgets-label-color: white;\n",
       "                    --jp-ui-font-color1: white;\n",
       "                    --jp-layout-color2: #454545;\n",
       "                    background-color: #383838;\n",
       "                }\n",
       "\n",
       "                .geemap-dark .jupyter-button {\n",
       "                    --jp-layout-color3: #383838;\n",
       "                }\n",
       "\n",
       "                .geemap-colab {\n",
       "                    background-color: var(--colab-primary-surface-color, white);\n",
       "                }\n",
       "\n",
       "                .geemap-colab .jupyter-button {\n",
       "                    --jp-layout-color3: var(--colab-primary-surface-color, white);\n",
       "                }\n",
       "            </style>\n",
       "            "
      ],
      "text/plain": [
       "<IPython.core.display.HTML object>"
      ]
     },
     "metadata": {},
     "output_type": "display_data"
    },
    {
     "name": "stdout",
     "output_type": "stream",
     "text": [
      "F1 score per class:\n",
      "Class 11: 0.7957\n",
      "Class 12: 0.2670\n",
      "Class 13: 0.1134\n",
      "Class 14: 0.9474\n",
      "Class 15: 0.5098\n",
      "Class 21: 0.5714\n",
      "Class 22: 0.5559\n",
      "Class 30: 0.6370\n",
      "Class 41: 0.5000\n",
      "Class 42: 0.8116\n",
      "Class 50: 0.7576\n",
      "Class 60: 0.1071\n",
      "\n",
      "Macro F1-score: 0.5478\n",
      "Weighted F1-score: 0.6057\n"
     ]
    }
   ],
   "source": [
    "# Calculate F1 score per class (individual F1 scores for each class)\n",
    "f1_per_class = f1_score(results_df[ref_column], results_df[map_column], labels=labels, average=None)\n",
    "\n",
    "# Print F1 score per class\n",
    "print(\"F1 score per class:\")\n",
    "for i, class_label in enumerate(labels):\n",
    "    print(f\"Class {class_label}: {f1_per_class[i]:.4f}\")\n",
    "\n",
    "# Optionally, also print the macro and weighted F1 scores\n",
    "f1_macro = f1_score(results_df[ref_column], results_df[map_column], labels=labels, average='macro')\n",
    "f1_weighted = f1_score(results_df[ref_column], results_df[map_column], labels=labels, average='weighted')\n",
    "\n",
    "print(f\"\\nMacro F1-score: {f1_macro:.4f}\")  # Unweighted mean F1-score for all classes\n",
    "print(f\"Weighted F1-score: {f1_weighted:.4f}\")  # Weighted by support (number of true instances per class)"
   ]
  },
  {
   "cell_type": "code",
   "execution_count": 27,
   "id": "4c768b4b-49c5-420f-a695-97b14831992e",
   "metadata": {},
   "outputs": [
    {
     "data": {
      "text/html": [
       "\n",
       "            <style>\n",
       "                .geemap-dark {\n",
       "                    --jp-widgets-color: white;\n",
       "                    --jp-widgets-label-color: white;\n",
       "                    --jp-ui-font-color1: white;\n",
       "                    --jp-layout-color2: #454545;\n",
       "                    background-color: #383838;\n",
       "                }\n",
       "\n",
       "                .geemap-dark .jupyter-button {\n",
       "                    --jp-layout-color3: #383838;\n",
       "                }\n",
       "\n",
       "                .geemap-colab {\n",
       "                    background-color: var(--colab-primary-surface-color, white);\n",
       "                }\n",
       "\n",
       "                .geemap-colab .jupyter-button {\n",
       "                    --jp-layout-color3: var(--colab-primary-surface-color, white);\n",
       "                }\n",
       "            </style>\n",
       "            "
      ],
      "text/plain": [
       "<IPython.core.display.HTML object>"
      ]
     },
     "metadata": {},
     "output_type": "display_data"
    },
    {
     "name": "stdout",
     "output_type": "stream",
     "text": [
      "     11  12  13  14  15  21   22   30  41  42  50  60\n",
      "11  711   3   0   0  73   1    4    3   0   0   0   2\n",
      "12  108  53  17   0  22   1    0   14   1   0   0   2\n",
      "13   80  40  14   0   9   0    5   32   0   0   0   8\n",
      "14    0   0   0  18   0   0    0    1   0   0   0   0\n",
      "15   37   7   0   0  91   1    1    9   0   0   0   0\n",
      "21    1   0   0   0   1   8    1    4   0   0   0   0\n",
      "22    1   2   0   0   1   1  102   41   4   0   0   4\n",
      "30   42  71  26   0   7   1   85  386  12   0   2  68\n",
      "41    4   0   1   1   4   0    3    5  22   2   0   4\n",
      "42    0   0   0   0   1   0    1    3   2  28   0   4\n",
      "50    6   2   1   0   2   0    6   11   1   0  50   1\n",
      "60    0   1   0   0   0   0    3    3   0   0   0   6\n"
     ]
    }
   ],
   "source": [
    "cm_df = pd.DataFrame(conf_matrix, index=labels, columns=labels)\n",
    "print(cm_df)"
   ]
  },
  {
   "cell_type": "code",
   "execution_count": 28,
   "id": "98e9faac-a9c6-4a4a-bb11-2ab5a96174d5",
   "metadata": {},
   "outputs": [
    {
     "data": {
      "text/html": [
       "\n",
       "            <style>\n",
       "                .geemap-dark {\n",
       "                    --jp-widgets-color: white;\n",
       "                    --jp-widgets-label-color: white;\n",
       "                    --jp-ui-font-color1: white;\n",
       "                    --jp-layout-color2: #454545;\n",
       "                    background-color: #383838;\n",
       "                }\n",
       "\n",
       "                .geemap-dark .jupyter-button {\n",
       "                    --jp-layout-color3: #383838;\n",
       "                }\n",
       "\n",
       "                .geemap-colab {\n",
       "                    background-color: var(--colab-primary-surface-color, white);\n",
       "                }\n",
       "\n",
       "                .geemap-colab .jupyter-button {\n",
       "                    --jp-layout-color3: var(--colab-primary-surface-color, white);\n",
       "                }\n",
       "            </style>\n",
       "            "
      ],
      "text/plain": [
       "<IPython.core.display.HTML object>"
      ]
     },
     "metadata": {},
     "output_type": "display_data"
    }
   ],
   "source": [
    "#export\n",
    "#cm_df.to_csv(matrix_out,index=True)"
   ]
  },
  {
   "cell_type": "code",
   "execution_count": 29,
   "id": "d9599bbf-e269-44fa-90d1-54859a83c42b",
   "metadata": {},
   "outputs": [
    {
     "data": {
      "text/html": [
       "\n",
       "            <style>\n",
       "                .geemap-dark {\n",
       "                    --jp-widgets-color: white;\n",
       "                    --jp-widgets-label-color: white;\n",
       "                    --jp-ui-font-color1: white;\n",
       "                    --jp-layout-color2: #454545;\n",
       "                    background-color: #383838;\n",
       "                }\n",
       "\n",
       "                .geemap-dark .jupyter-button {\n",
       "                    --jp-layout-color3: #383838;\n",
       "                }\n",
       "\n",
       "                .geemap-colab {\n",
       "                    background-color: var(--colab-primary-surface-color, white);\n",
       "                }\n",
       "\n",
       "                .geemap-colab .jupyter-button {\n",
       "                    --jp-layout-color3: var(--colab-primary-surface-color, white);\n",
       "                }\n",
       "            </style>\n",
       "            "
      ],
      "text/plain": [
       "<IPython.core.display.HTML object>"
      ]
     },
     "metadata": {},
     "output_type": "display_data"
    },
    {
     "data": {
      "image/png": "[encoded data removed]",
      "text/plain": [
       "<Figure size 800x600 with 2 Axes>"
      ]
     },
     "metadata": {},
     "output_type": "display_data"
    }
   ],
   "source": [
    "# Plot confusion matrix as a heatmap\n",
    "plt.figure(figsize=(8, 6))\n",
    "sns.heatmap(cm_df, annot=True, fmt='d', cmap='Blues')\n",
    "plt.ylabel('Ref LCover')\n",
    "plt.xlabel('Map LCover')\n",
    "plt.title('Confusion Matrix')\n",
    "plt.show()"
   ]
  },
  {
   "cell_type": "code",
   "execution_count": 30,
   "id": "18cfbc97-dec9-44a6-8645-c9a07baa7cf4",
   "metadata": {},
   "outputs": [
    {
     "data": {
      "text/html": [
       "\n",
       "            <style>\n",
       "                .geemap-dark {\n",
       "                    --jp-widgets-color: white;\n",
       "                    --jp-widgets-label-color: white;\n",
       "                    --jp-ui-font-color1: white;\n",
       "                    --jp-layout-color2: #454545;\n",
       "                    background-color: #383838;\n",
       "                }\n",
       "\n",
       "                .geemap-dark .jupyter-button {\n",
       "                    --jp-layout-color3: #383838;\n",
       "                }\n",
       "\n",
       "                .geemap-colab {\n",
       "                    background-color: var(--colab-primary-surface-color, white);\n",
       "                }\n",
       "\n",
       "                .geemap-colab .jupyter-button {\n",
       "                    --jp-layout-color3: var(--colab-primary-surface-color, white);\n",
       "                }\n",
       "            </style>\n",
       "            "
      ],
      "text/plain": [
       "<IPython.core.display.HTML object>"
      ]
     },
     "metadata": {},
     "output_type": "display_data"
    }
   ],
   "source": [
    "# Select the column from areas_df to use for multiplication, for example, 'Area1'\n",
    "area_column = areas_df['Area (ha)']"
   ]
  },
  {
   "cell_type": "code",
   "execution_count": 31,
   "id": "90b5469e-a1ea-4106-95f7-9c8efc2afee3",
   "metadata": {},
   "outputs": [
    {
     "data": {
      "text/html": [
       "\n",
       "            <style>\n",
       "                .geemap-dark {\n",
       "                    --jp-widgets-color: white;\n",
       "                    --jp-widgets-label-color: white;\n",
       "                    --jp-ui-font-color1: white;\n",
       "                    --jp-layout-color2: #454545;\n",
       "                    background-color: #383838;\n",
       "                }\n",
       "\n",
       "                .geemap-dark .jupyter-button {\n",
       "                    --jp-layout-color3: #383838;\n",
       "                }\n",
       "\n",
       "                .geemap-colab {\n",
       "                    background-color: var(--colab-primary-surface-color, white);\n",
       "                }\n",
       "\n",
       "                .geemap-colab .jupyter-button {\n",
       "                    --jp-layout-color3: var(--colab-primary-surface-color, white);\n",
       "                }\n",
       "            </style>\n",
       "            "
      ],
      "text/plain": [
       "<IPython.core.display.HTML object>"
      ]
     },
     "metadata": {},
     "output_type": "display_data"
    }
   ],
   "source": [
    "# Convert the selected column to a NumPy array for broadcasting\n",
    "area_column = area_column.to_numpy()"
   ]
  },
  {
   "cell_type": "code",
   "execution_count": 32,
   "id": "9f6cd2b8-d25e-4366-afff-db4df78a6682",
   "metadata": {},
   "outputs": [
    {
     "data": {
      "text/html": [
       "\n",
       "            <style>\n",
       "                .geemap-dark {\n",
       "                    --jp-widgets-color: white;\n",
       "                    --jp-widgets-label-color: white;\n",
       "                    --jp-ui-font-color1: white;\n",
       "                    --jp-layout-color2: #454545;\n",
       "                    background-color: #383838;\n",
       "                }\n",
       "\n",
       "                .geemap-dark .jupyter-button {\n",
       "                    --jp-layout-color3: #383838;\n",
       "                }\n",
       "\n",
       "                .geemap-colab {\n",
       "                    background-color: var(--colab-primary-surface-color, white);\n",
       "                }\n",
       "\n",
       "                .geemap-colab .jupyter-button {\n",
       "                    --jp-layout-color3: var(--colab-primary-surface-color, white);\n",
       "                }\n",
       "            </style>\n",
       "            "
      ],
      "text/plain": [
       "<IPython.core.display.HTML object>"
      ]
     },
     "metadata": {},
     "output_type": "display_data"
    },
    {
     "data": {
      "text/plain": [
       "array([[1.87107831e+10, 7.89484519e+07, 0.00000000e+00, 0.00000000e+00,\n",
       "        1.92107900e+09, 2.63161506e+07, 1.05264603e+08, 7.89484519e+07,\n",
       "        0.00000000e+00, 0.00000000e+00, 0.00000000e+00, 5.26323013e+07],\n",
       "       [2.86159146e+08, 1.40429951e+08, 4.50435693e+07, 0.00000000e+00,\n",
       "        5.82916779e+07, 2.64962172e+06, 0.00000000e+00, 3.70947041e+07,\n",
       "        2.64962172e+06, 0.00000000e+00, 0.00000000e+00, 5.29924345e+06],\n",
       "       [6.88280305e+07, 3.44140153e+07, 1.20449053e+07, 0.00000000e+00,\n",
       "        7.74315343e+06, 0.00000000e+00, 4.30175191e+06, 2.75312122e+07,\n",
       "        0.00000000e+00, 0.00000000e+00, 0.00000000e+00, 6.88280305e+06],\n",
       "       [0.00000000e+00, 0.00000000e+00, 0.00000000e+00, 3.81984245e+06,\n",
       "        0.00000000e+00, 0.00000000e+00, 0.00000000e+00, 2.12213470e+05,\n",
       "        0.00000000e+00, 0.00000000e+00, 0.00000000e+00, 0.00000000e+00],\n",
       "       [1.45235852e+08, 2.74770531e+07, 0.00000000e+00, 0.00000000e+00,\n",
       "        3.57201690e+08, 3.92529330e+06, 3.92529330e+06, 3.53276397e+07,\n",
       "        0.00000000e+00, 0.00000000e+00, 0.00000000e+00, 0.00000000e+00],\n",
       "       [1.29158447e+05, 0.00000000e+00, 0.00000000e+00, 0.00000000e+00,\n",
       "        1.29158447e+05, 1.03326757e+06, 1.29158447e+05, 5.16633787e+05,\n",
       "        0.00000000e+00, 0.00000000e+00, 0.00000000e+00, 0.00000000e+00],\n",
       "       [3.56713067e+06, 7.13426134e+06, 0.00000000e+00, 0.00000000e+00,\n",
       "        3.56713067e+06, 3.56713067e+06, 3.63847328e+08, 1.46252358e+08,\n",
       "        1.42685227e+07, 0.00000000e+00, 0.00000000e+00, 1.42685227e+07],\n",
       "       [2.82898441e+08, 4.78233078e+08, 1.75127606e+08, 0.00000000e+00,\n",
       "        4.71497401e+07, 6.73567716e+06, 5.72532558e+08, 2.59997138e+09,\n",
       "        8.08281259e+07, 0.00000000e+00, 1.34713543e+07, 4.58026047e+08],\n",
       "       [1.83876299e+06, 0.00000000e+00, 4.59690747e+05, 4.59690747e+05,\n",
       "        1.83876299e+06, 0.00000000e+00, 1.37907224e+06, 2.29845373e+06,\n",
       "        1.01131964e+07, 9.19381493e+05, 0.00000000e+00, 1.83876299e+06],\n",
       "       [0.00000000e+00, 0.00000000e+00, 0.00000000e+00, 0.00000000e+00,\n",
       "        3.48689226e+05, 0.00000000e+00, 3.48689226e+05, 1.04606768e+06,\n",
       "        6.97378452e+05, 9.76329833e+06, 0.00000000e+00, 1.39475690e+06],\n",
       "       [1.43866960e+06, 4.79556532e+05, 2.39778266e+05, 0.00000000e+00,\n",
       "        4.79556532e+05, 0.00000000e+00, 1.43866960e+06, 2.63756093e+06,\n",
       "        2.39778266e+05, 0.00000000e+00, 1.19889133e+07, 2.39778266e+05],\n",
       "       [0.00000000e+00, 1.14381629e+06, 0.00000000e+00, 0.00000000e+00,\n",
       "        0.00000000e+00, 0.00000000e+00, 3.43144888e+06, 3.43144888e+06,\n",
       "        0.00000000e+00, 0.00000000e+00, 0.00000000e+00, 6.86289777e+06]])"
      ]
     },
     "execution_count": 32,
     "metadata": {},
     "output_type": "execute_result"
    }
   ],
   "source": [
    "# Perform element-wise multiplication using broadcasting\n",
    "weighted_conf_matrix = conf_matrix * area_column[:, np.newaxis]\n",
    "weighted_conf_matrix"
   ]
  },
  {
   "cell_type": "code",
   "execution_count": 33,
   "id": "c67c6fbe-1173-4f8f-9097-892b4d4f47ff",
   "metadata": {},
   "outputs": [
    {
     "data": {
      "text/html": [
       "\n",
       "            <style>\n",
       "                .geemap-dark {\n",
       "                    --jp-widgets-color: white;\n",
       "                    --jp-widgets-label-color: white;\n",
       "                    --jp-ui-font-color1: white;\n",
       "                    --jp-layout-color2: #454545;\n",
       "                    background-color: #383838;\n",
       "                }\n",
       "\n",
       "                .geemap-dark .jupyter-button {\n",
       "                    --jp-layout-color3: #383838;\n",
       "                }\n",
       "\n",
       "                .geemap-colab {\n",
       "                    background-color: var(--colab-primary-surface-color, white);\n",
       "                }\n",
       "\n",
       "                .geemap-colab .jupyter-button {\n",
       "                    --jp-layout-color3: var(--colab-primary-surface-color, white);\n",
       "                }\n",
       "            </style>\n",
       "            "
      ],
      "text/plain": [
       "<IPython.core.display.HTML object>"
      ]
     },
     "metadata": {},
     "output_type": "display_data"
    },
    {
     "data": {
      "text/plain": [
       "0.8044059221311084"
      ]
     },
     "execution_count": 33,
     "metadata": {},
     "output_type": "execute_result"
    }
   ],
   "source": [
    "# Calculate overall accuracy\n",
    "overall_accuracy = np.trace(weighted_conf_matrix) / np.sum(weighted_conf_matrix)\n",
    "overall_accuracy"
   ]
  },
  {
   "cell_type": "code",
   "execution_count": 34,
   "id": "0097378c-eb19-4a84-8b10-8c7ae3042814",
   "metadata": {},
   "outputs": [
    {
     "data": {
      "text/html": [
       "\n",
       "            <style>\n",
       "                .geemap-dark {\n",
       "                    --jp-widgets-color: white;\n",
       "                    --jp-widgets-label-color: white;\n",
       "                    --jp-ui-font-color1: white;\n",
       "                    --jp-layout-color2: #454545;\n",
       "                    background-color: #383838;\n",
       "                }\n",
       "\n",
       "                .geemap-dark .jupyter-button {\n",
       "                    --jp-layout-color3: #383838;\n",
       "                }\n",
       "\n",
       "                .geemap-colab {\n",
       "                    background-color: var(--colab-primary-surface-color, white);\n",
       "                }\n",
       "\n",
       "                .geemap-colab .jupyter-button {\n",
       "                    --jp-layout-color3: var(--colab-primary-surface-color, white);\n",
       "                }\n",
       "            </style>\n",
       "            "
      ],
      "text/plain": [
       "<IPython.core.display.HTML object>"
      ]
     },
     "metadata": {},
     "output_type": "display_data"
    },
    {
     "data": {
      "text/plain": [
       "array([0.95948412, 0.18278957, 0.05171362, 0.8925839 , 0.14896882,\n",
       "       0.02336275, 0.3443572 , 0.88576964, 0.09295506, 0.91393719,\n",
       "       0.47088717, 0.01253623])"
      ]
     },
     "execution_count": 34,
     "metadata": {},
     "output_type": "execute_result"
    }
   ],
   "source": [
    "# Calculate user's accuracy (precision) and producer's accuracy (recall)\n",
    "users_accuracy = np.diag(weighted_conf_matrix) / np.sum(weighted_conf_matrix, axis=0)\n",
    "users_accuracy"
   ]
  },
  {
   "cell_type": "code",
   "execution_count": 35,
   "id": "5bd3c554-165a-4629-a234-c6d0fc825306",
   "metadata": {},
   "outputs": [
    {
     "data": {
      "text/html": [
       "\n",
       "            <style>\n",
       "                .geemap-dark {\n",
       "                    --jp-widgets-color: white;\n",
       "                    --jp-widgets-label-color: white;\n",
       "                    --jp-ui-font-color1: white;\n",
       "                    --jp-layout-color2: #454545;\n",
       "                    background-color: #383838;\n",
       "                }\n",
       "\n",
       "                .geemap-dark .jupyter-button {\n",
       "                    --jp-layout-color3: #383838;\n",
       "                }\n",
       "\n",
       "                .geemap-colab {\n",
       "                    background-color: var(--colab-primary-surface-color, white);\n",
       "                }\n",
       "\n",
       "                .geemap-colab .jupyter-button {\n",
       "                    --jp-layout-color3: var(--colab-primary-surface-color, white);\n",
       "                }\n",
       "            </style>\n",
       "            "
      ],
      "text/plain": [
       "<IPython.core.display.HTML object>"
      ]
     },
     "metadata": {},
     "output_type": "display_data"
    },
    {
     "data": {
      "text/plain": [
       "array([0.89209536, 0.24311927, 0.07446809, 0.94736842, 0.62328767,\n",
       "       0.53333333, 0.65384615, 0.55142857, 0.47826087, 0.71794872,\n",
       "       0.625     , 0.46153846])"
      ]
     },
     "execution_count": 35,
     "metadata": {},
     "output_type": "execute_result"
    }
   ],
   "source": [
    "producers_accuracy = np.diag(weighted_conf_matrix) / np.sum(weighted_conf_matrix, axis=1)\n",
    "producers_accuracy"
   ]
  },
  {
   "cell_type": "code",
   "execution_count": 36,
   "id": "1914b086-2cc6-4c30-ae25-5dcb8715fbc4",
   "metadata": {},
   "outputs": [
    {
     "data": {
      "text/html": [
       "\n",
       "            <style>\n",
       "                .geemap-dark {\n",
       "                    --jp-widgets-color: white;\n",
       "                    --jp-widgets-label-color: white;\n",
       "                    --jp-ui-font-color1: white;\n",
       "                    --jp-layout-color2: #454545;\n",
       "                    background-color: #383838;\n",
       "                }\n",
       "\n",
       "                .geemap-dark .jupyter-button {\n",
       "                    --jp-layout-color3: #383838;\n",
       "                }\n",
       "\n",
       "                .geemap-colab {\n",
       "                    background-color: var(--colab-primary-surface-color, white);\n",
       "                }\n",
       "\n",
       "                .geemap-colab .jupyter-button {\n",
       "                    --jp-layout-color3: var(--colab-primary-surface-color, white);\n",
       "                }\n",
       "            </style>\n",
       "            "
      ],
      "text/plain": [
       "<IPython.core.display.HTML object>"
      ]
     },
     "metadata": {},
     "output_type": "display_data"
    }
   ],
   "source": [
    "# Calculate the kappa coefficient\n",
    "total_sum = np.sum(weighted_conf_matrix)\n",
    "random_agreement = np.sum(np.sum(weighted_conf_matrix, axis=0) * np.sum(weighted_conf_matrix, axis=1)) / total_sum\n",
    "kappa = (overall_accuracy - random_agreement) / (1 - random_agreement)"
   ]
  },
  {
   "cell_type": "code",
   "execution_count": 37,
   "id": "b602e8fb-5de2-4736-8a75-0756ed30a9fb",
   "metadata": {},
   "outputs": [
    {
     "data": {
      "text/html": [
       "\n",
       "            <style>\n",
       "                .geemap-dark {\n",
       "                    --jp-widgets-color: white;\n",
       "                    --jp-widgets-label-color: white;\n",
       "                    --jp-ui-font-color1: white;\n",
       "                    --jp-layout-color2: #454545;\n",
       "                    background-color: #383838;\n",
       "                }\n",
       "\n",
       "                .geemap-dark .jupyter-button {\n",
       "                    --jp-layout-color3: #383838;\n",
       "                }\n",
       "\n",
       "                .geemap-colab {\n",
       "                    background-color: var(--colab-primary-surface-color, white);\n",
       "                }\n",
       "\n",
       "                .geemap-colab .jupyter-button {\n",
       "                    --jp-layout-color3: var(--colab-primary-surface-color, white);\n",
       "                }\n",
       "            </style>\n",
       "            "
      ],
      "text/plain": [
       "<IPython.core.display.HTML object>"
      ]
     },
     "metadata": {},
     "output_type": "display_data"
    },
    {
     "name": "stdout",
     "output_type": "stream",
     "text": [
      "                 Class  User's Accuracy Producer's Accuracy Reference Area\n",
      "0                   11            0.959               0.892   26316150.628\n",
      "1                   12            0.183               0.243    2649621.723\n",
      "2                   13            0.052               0.074     860350.381\n",
      "3                   14            0.893               0.947     212213.470\n",
      "4                   15            0.149               0.623    3925293.295\n",
      "5                   21            0.023               0.533     129158.447\n",
      "6                   22            0.344               0.654    3567130.671\n",
      "7                   30            0.886               0.551    6735677.159\n",
      "8                   41            0.093               0.478     459690.747\n",
      "9                   42            0.914               0.718     348689.226\n",
      "10                  50            0.471               0.625     239778.266\n",
      "11                  60            0.013               0.462    1143816.295\n",
      "Overall Accuracy     -            0.804                   -              -\n",
      "Kappa                -            1.000                   -              -\n"
     ]
    }
   ],
   "source": [
    "# Create a DataFrame to display the results\n",
    "results = {\n",
    "    \"Class\": labels,\n",
    "    \"User's Accuracy\": users_accuracy,\n",
    "    \"Producer's Accuracy\": producers_accuracy,\n",
    "    \"Reference Area\": area_column\n",
    "}\n",
    "\n",
    "acc_df = pd.DataFrame(results)\n",
    "\n",
    "# Adding Overall Accuracy and Kappa to the DataFrame\n",
    "acc_df.loc[\"Overall Accuracy\"] = [\"-\", overall_accuracy, \"-\", \"-\"]\n",
    "acc_df.loc[\"Kappa\"] = [\"-\", kappa, \"-\", \"-\"]\n",
    "\n",
    "# Display the results\n",
    "print(acc_df)"
   ]
  },
  {
   "cell_type": "code",
   "execution_count": 38,
   "id": "a38d8041-1689-4786-8316-9ae8d087b48b",
   "metadata": {},
   "outputs": [
    {
     "data": {
      "text/html": [
       "\n",
       "            <style>\n",
       "                .geemap-dark {\n",
       "                    --jp-widgets-color: white;\n",
       "                    --jp-widgets-label-color: white;\n",
       "                    --jp-ui-font-color1: white;\n",
       "                    --jp-layout-color2: #454545;\n",
       "                    background-color: #383838;\n",
       "                }\n",
       "\n",
       "                .geemap-dark .jupyter-button {\n",
       "                    --jp-layout-color3: #383838;\n",
       "                }\n",
       "\n",
       "                .geemap-colab {\n",
       "                    background-color: var(--colab-primary-surface-color, white);\n",
       "                }\n",
       "\n",
       "                .geemap-colab .jupyter-button {\n",
       "                    --jp-layout-color3: var(--colab-primary-surface-color, white);\n",
       "                }\n",
       "            </style>\n",
       "            "
      ],
      "text/plain": [
       "<IPython.core.display.HTML object>"
      ]
     },
     "metadata": {},
     "output_type": "display_data"
    }
   ],
   "source": [
    "import random\n",
    "\n",
    "def bootstrap_conf_intervals(data, num_samples=100, alpha=0.05):\n",
    "    samples = np.random.choice(data, size=(num_samples, len(data)), replace=True)\n",
    "    metric_means = np.mean(samples, axis=1)\n",
    "    lower = np.percentile(metric_means, 100 * alpha / 2)\n",
    "    upper = np.percentile(metric_means, 100 * (1 - alpha / 2))\n",
    "    return lower, upper\n",
    "\n",
    "# Compute bootstrap confidence intervals for user's accuracy\n",
    "user_accuracy_intervals = [bootstrap_conf_intervals(conf_matrix[i, :] / conf_matrix.sum(axis=1)) for i in range(len(conf_matrix))]\n",
    "producer_accuracy_intervals = [bootstrap_conf_intervals(conf_matrix[:, i] / conf_matrix.sum(axis=0)) for i in range(len(conf_matrix))]\n",
    "overall_accuracy_interval = bootstrap_conf_intervals([overall_accuracy] * len(conf_matrix))\n",
    "kappa_interval = bootstrap_conf_intervals([kappa] * len(conf_matrix))\n",
    "\n",
    "# Compute bootstrap confidence intervals for area calculations\n",
    "area_intervals = [bootstrap_conf_intervals(areas_df['Area (ha)']) for area in areas_df['Area (ha)']]"
   ]
  },
  {
   "cell_type": "code",
   "execution_count": 39,
   "id": "65f152ff-06df-4bbf-a805-9446523690e1",
   "metadata": {},
   "outputs": [
    {
     "data": {
      "text/html": [
       "\n",
       "            <style>\n",
       "                .geemap-dark {\n",
       "                    --jp-widgets-color: white;\n",
       "                    --jp-widgets-label-color: white;\n",
       "                    --jp-ui-font-color1: white;\n",
       "                    --jp-layout-color2: #454545;\n",
       "                    background-color: #383838;\n",
       "                }\n",
       "\n",
       "                .geemap-dark .jupyter-button {\n",
       "                    --jp-layout-color3: #383838;\n",
       "                }\n",
       "\n",
       "                .geemap-colab {\n",
       "                    background-color: var(--colab-primary-surface-color, white);\n",
       "                }\n",
       "\n",
       "                .geemap-colab .jupyter-button {\n",
       "                    --jp-layout-color3: var(--colab-primary-surface-color, white);\n",
       "                }\n",
       "            </style>\n",
       "            "
      ],
      "text/plain": [
       "<IPython.core.display.HTML object>"
      ]
     },
     "metadata": {},
     "output_type": "display_data"
    },
    {
     "data": {
      "text/html": [
       "<div>\n",
       "<style scoped>\n",
       "    .dataframe tbody tr th:only-of-type {\n",
       "        vertical-align: middle;\n",
       "    }\n",
       "\n",
       "    .dataframe tbody tr th {\n",
       "        vertical-align: top;\n",
       "    }\n",
       "\n",
       "    .dataframe thead th {\n",
       "        text-align: right;\n",
       "    }\n",
       "</style>\n",
       "<table border=\"1\" class=\"dataframe\">\n",
       "  <thead>\n",
       "    <tr style=\"text-align: right;\">\n",
       "      <th></th>\n",
       "      <th>Class</th>\n",
       "      <th>User's Accuracy</th>\n",
       "      <th>User's Accuracy CI</th>\n",
       "      <th>Producer's Accuracy</th>\n",
       "      <th>Producer's Accuracy CI</th>\n",
       "      <th>Reference Area</th>\n",
       "      <th>Area CI</th>\n",
       "    </tr>\n",
       "  </thead>\n",
       "  <tbody>\n",
       "    <tr>\n",
       "      <th>0</th>\n",
       "      <td>11</td>\n",
       "      <td>0.959</td>\n",
       "      <td>(0.021116868859988126, 0.3009906119525984)</td>\n",
       "      <td>0.892</td>\n",
       "      <td>(0.09877455974545031, 0.5183979752449045)</td>\n",
       "      <td>26316150.628</td>\n",
       "      <td>(1429318.3126903533, 9549330.20969027)</td>\n",
       "    </tr>\n",
       "    <tr>\n",
       "      <th>1</th>\n",
       "      <td>12</td>\n",
       "      <td>0.183</td>\n",
       "      <td>(0.03863415721305064, 0.11603022700000093)</td>\n",
       "      <td>0.243</td>\n",
       "      <td>(0.0268713341700975, 0.22137929215075194)</td>\n",
       "      <td>2649621.723</td>\n",
       "      <td>(870016.4896401318, 9045574.02665956)</td>\n",
       "    </tr>\n",
       "    <tr>\n",
       "      <th>2</th>\n",
       "      <td>13</td>\n",
       "      <td>0.052</td>\n",
       "      <td>(0.019284606696858952, 0.20612562725869124)</td>\n",
       "      <td>0.074</td>\n",
       "      <td>(0.007098232171474359, 0.08736595717716089)</td>\n",
       "      <td>860350.381</td>\n",
       "      <td>(980414.5124714571, 7521239.170577833)</td>\n",
       "    </tr>\n",
       "    <tr>\n",
       "      <th>3</th>\n",
       "      <td>14</td>\n",
       "      <td>0.893</td>\n",
       "      <td>(0.0, 0.2784650689223051)</td>\n",
       "      <td>0.947</td>\n",
       "      <td>(0.0, 0.2398678989139515)</td>\n",
       "      <td>212213.470</td>\n",
       "      <td>(1228444.6944897536, 8854000.84634335)</td>\n",
       "    </tr>\n",
       "    <tr>\n",
       "      <th>4</th>\n",
       "      <td>15</td>\n",
       "      <td>0.149</td>\n",
       "      <td>(0.005668188352070284, 0.1640153457879106)</td>\n",
       "      <td>0.623</td>\n",
       "      <td>(0.035593909461573876, 0.1535295846650481)</td>\n",
       "      <td>3925293.295</td>\n",
       "      <td>(1006554.735617785, 7932866.019086423)</td>\n",
       "    </tr>\n",
       "    <tr>\n",
       "      <th>5</th>\n",
       "      <td>21</td>\n",
       "      <td>0.023</td>\n",
       "      <td>(0.0010821604942527151, 0.17890084286618166)</td>\n",
       "      <td>0.533</td>\n",
       "      <td>(0.000675018378215336, 0.15511224732482579)</td>\n",
       "      <td>129158.447</td>\n",
       "      <td>(938765.0139750044, 8295357.629678662)</td>\n",
       "    </tr>\n",
       "    <tr>\n",
       "      <th>6</th>\n",
       "      <td>22</td>\n",
       "      <td>0.344</td>\n",
       "      <td>(0.01797043653526897, 0.2064928917561394)</td>\n",
       "      <td>0.654</td>\n",
       "      <td>(0.03362765681610337, 0.14722781642511915)</td>\n",
       "      <td>3567130.671</td>\n",
       "      <td>(976322.5749736944, 7753205.177251356)</td>\n",
       "    </tr>\n",
       "    <tr>\n",
       "      <th>7</th>\n",
       "      <td>30</td>\n",
       "      <td>0.886</td>\n",
       "      <td>(0.088020568879519, 1.4261866221973478)</td>\n",
       "      <td>0.551</td>\n",
       "      <td>(0.07638248565180165, 0.33230266060631497)</td>\n",
       "      <td>6735677.159</td>\n",
       "      <td>(959830.3166365557, 9179871.100253183)</td>\n",
       "    </tr>\n",
       "    <tr>\n",
       "      <th>8</th>\n",
       "      <td>41</td>\n",
       "      <td>0.093</td>\n",
       "      <td>(0.013885472082180215, 0.16385311356220378)</td>\n",
       "      <td>0.478</td>\n",
       "      <td>(0.0042195891196042615, 0.18423437922330416)</td>\n",
       "      <td>459690.747</td>\n",
       "      <td>(947291.8602930872, 9169255.812569499)</td>\n",
       "    </tr>\n",
       "    <tr>\n",
       "      <th>9</th>\n",
       "      <td>42</td>\n",
       "      <td>0.914</td>\n",
       "      <td>(0.0024585727248398483, 0.23355340557711762)</td>\n",
       "      <td>0.718</td>\n",
       "      <td>(0.0, 0.2333333333333333)</td>\n",
       "      <td>348689.226</td>\n",
       "      <td>(1056726.036492095, 10041214.285960156)</td>\n",
       "    </tr>\n",
       "    <tr>\n",
       "      <th>10</th>\n",
       "      <td>50</td>\n",
       "      <td>0.471</td>\n",
       "      <td>(0.009926068452384083, 0.16772610068220667)</td>\n",
       "      <td>0.625</td>\n",
       "      <td>(0.0, 0.2410519330929487)</td>\n",
       "      <td>239778.266</td>\n",
       "      <td>(1411507.3419917643, 9592908.439833324)</td>\n",
       "    </tr>\n",
       "    <tr>\n",
       "      <th>11</th>\n",
       "      <td>60</td>\n",
       "      <td>0.013</td>\n",
       "      <td>(0.00038226299694189603, 0.1177146532748597)</td>\n",
       "      <td>0.462</td>\n",
       "      <td>(0.02831948390840328, 0.08448377440388831)</td>\n",
       "      <td>1143816.295</td>\n",
       "      <td>(1211471.6173319023, 8446105.841101898)</td>\n",
       "    </tr>\n",
       "    <tr>\n",
       "      <th>Overall Accuracy</th>\n",
       "      <td>-</td>\n",
       "      <td>0.804</td>\n",
       "      <td>(0.8044059221311084, 0.8044059221311084)</td>\n",
       "      <td>-</td>\n",
       "      <td>-</td>\n",
       "      <td>-</td>\n",
       "      <td>-</td>\n",
       "    </tr>\n",
       "    <tr>\n",
       "      <th>Kappa</th>\n",
       "      <td>-</td>\n",
       "      <td>1.000</td>\n",
       "      <td>(1.000000000012708, 1.000000000012708)</td>\n",
       "      <td>-</td>\n",
       "      <td>-</td>\n",
       "      <td>-</td>\n",
       "      <td>-</td>\n",
       "    </tr>\n",
       "  </tbody>\n",
       "</table>\n",
       "</div>"
      ],
      "text/plain": [
       "                 Class  User's Accuracy  \\\n",
       "0                   11            0.959   \n",
       "1                   12            0.183   \n",
       "2                   13            0.052   \n",
       "3                   14            0.893   \n",
       "4                   15            0.149   \n",
       "5                   21            0.023   \n",
       "6                   22            0.344   \n",
       "7                   30            0.886   \n",
       "8                   41            0.093   \n",
       "9                   42            0.914   \n",
       "10                  50            0.471   \n",
       "11                  60            0.013   \n",
       "Overall Accuracy     -            0.804   \n",
       "Kappa                -            1.000   \n",
       "\n",
       "                                            User's Accuracy CI  \\\n",
       "0                   (0.021116868859988126, 0.3009906119525984)   \n",
       "1                   (0.03863415721305064, 0.11603022700000093)   \n",
       "2                  (0.019284606696858952, 0.20612562725869124)   \n",
       "3                                    (0.0, 0.2784650689223051)   \n",
       "4                   (0.005668188352070284, 0.1640153457879106)   \n",
       "5                 (0.0010821604942527151, 0.17890084286618166)   \n",
       "6                    (0.01797043653526897, 0.2064928917561394)   \n",
       "7                      (0.088020568879519, 1.4261866221973478)   \n",
       "8                  (0.013885472082180215, 0.16385311356220378)   \n",
       "9                 (0.0024585727248398483, 0.23355340557711762)   \n",
       "10                 (0.009926068452384083, 0.16772610068220667)   \n",
       "11                (0.00038226299694189603, 0.1177146532748597)   \n",
       "Overall Accuracy      (0.8044059221311084, 0.8044059221311084)   \n",
       "Kappa                   (1.000000000012708, 1.000000000012708)   \n",
       "\n",
       "                 Producer's Accuracy  \\\n",
       "0                              0.892   \n",
       "1                              0.243   \n",
       "2                              0.074   \n",
       "3                              0.947   \n",
       "4                              0.623   \n",
       "5                              0.533   \n",
       "6                              0.654   \n",
       "7                              0.551   \n",
       "8                              0.478   \n",
       "9                              0.718   \n",
       "10                             0.625   \n",
       "11                             0.462   \n",
       "Overall Accuracy                   -   \n",
       "Kappa                              -   \n",
       "\n",
       "                                        Producer's Accuracy CI Reference Area  \\\n",
       "0                    (0.09877455974545031, 0.5183979752449045)   26316150.628   \n",
       "1                    (0.0268713341700975, 0.22137929215075194)    2649621.723   \n",
       "2                  (0.007098232171474359, 0.08736595717716089)     860350.381   \n",
       "3                                    (0.0, 0.2398678989139515)     212213.470   \n",
       "4                   (0.035593909461573876, 0.1535295846650481)    3925293.295   \n",
       "5                  (0.000675018378215336, 0.15511224732482579)     129158.447   \n",
       "6                   (0.03362765681610337, 0.14722781642511915)    3567130.671   \n",
       "7                   (0.07638248565180165, 0.33230266060631497)    6735677.159   \n",
       "8                 (0.0042195891196042615, 0.18423437922330416)     459690.747   \n",
       "9                                    (0.0, 0.2333333333333333)     348689.226   \n",
       "10                                   (0.0, 0.2410519330929487)     239778.266   \n",
       "11                  (0.02831948390840328, 0.08448377440388831)    1143816.295   \n",
       "Overall Accuracy                                             -              -   \n",
       "Kappa                                                        -              -   \n",
       "\n",
       "                                                  Area CI  \n",
       "0                  (1429318.3126903533, 9549330.20969027)  \n",
       "1                   (870016.4896401318, 9045574.02665956)  \n",
       "2                  (980414.5124714571, 7521239.170577833)  \n",
       "3                  (1228444.6944897536, 8854000.84634335)  \n",
       "4                  (1006554.735617785, 7932866.019086423)  \n",
       "5                  (938765.0139750044, 8295357.629678662)  \n",
       "6                  (976322.5749736944, 7753205.177251356)  \n",
       "7                  (959830.3166365557, 9179871.100253183)  \n",
       "8                  (947291.8602930872, 9169255.812569499)  \n",
       "9                 (1056726.036492095, 10041214.285960156)  \n",
       "10                (1411507.3419917643, 9592908.439833324)  \n",
       "11                (1211471.6173319023, 8446105.841101898)  \n",
       "Overall Accuracy                                        -  \n",
       "Kappa                                                   -  "
      ]
     },
     "execution_count": 39,
     "metadata": {},
     "output_type": "execute_result"
    }
   ],
   "source": [
    "results = {\n",
    "    \"Class\": labels,\n",
    "    \"User's Accuracy\": users_accuracy,\n",
    "    \"User's Accuracy CI\": user_accuracy_intervals,\n",
    "    \"Producer's Accuracy\": producers_accuracy,\n",
    "    \"Producer's Accuracy CI\": producer_accuracy_intervals,\n",
    "    \"Reference Area\": areas_df['Area (ha)'],\n",
    "    \"Area CI\": area_intervals\n",
    "}\n",
    "\n",
    "acc_df = pd.DataFrame(results)\n",
    "\n",
    "# Adding Overall Accuracy and Kappa to the DataFrame\n",
    "acc_df.loc[\"Overall Accuracy\"] = [\"-\", overall_accuracy, overall_accuracy_interval, \"-\", \"-\", \"-\", \"-\"]\n",
    "acc_df.loc[\"Kappa\"] = [\"-\", kappa, kappa_interval, \"-\", \"-\", \"-\", \"-\"]\n",
    "\n",
    "# Display the results\n",
    "acc_df"
   ]
  },
  {
   "cell_type": "code",
   "execution_count": null,
   "id": "d45564fb-b5eb-4fa9-922b-97642a5f4b99",
   "metadata": {},
   "outputs": [],
   "source": []
  }
 ],
 "metadata": {
  "kernelspec": {
   "display_name": "Python 3",
   "language": "python",
   "name": "python3"
  },
  "language_info": {
   "codemirror_mode": {
    "name": "ipython",
    "version": 3
   },
   "file_extension": ".py",
   "mimetype": "text/x-python",
   "name": "python",
   "nbconvert_exporter": "python",
   "pygments_lexer": "ipython3",
   "version": "3.10.12"
  }
 },
 "nbformat": 4,
 "nbformat_minor": 5
}
