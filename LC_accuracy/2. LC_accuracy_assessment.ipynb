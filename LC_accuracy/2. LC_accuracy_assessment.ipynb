{
 "cells": [
  {
   "cell_type": "code",
   "execution_count": 1,
   "id": "c030d73b-ea82-4442-b44b-8c49def824f2",
   "metadata": {},
   "outputs": [],
   "source": [
    "import ee\n",
    "ee.Initialize()\n",
    "\n",
    "import geemap\n",
    "import pandas as pd\n",
    "import geopandas as gpd\n",
    "import numpy as np \n",
    "\n",
    "import seaborn as sns\n",
    "from matplotlib import pyplot as plt\n",
    "from sklearn.metrics import confusion_matrix\n",
    "from sklearn.metrics import f1_score, precision_score, recall_score, confusion_matrix\n",
    "\n",
    "pd.options.display.float_format = '{:.3f}'.format"
   ]
  },
  {
   "cell_type": "markdown",
   "id": "86cd5499-ef71-4025-936b-9604d5349930",
   "metadata": {},
   "source": [
    "## 1 - input parameters"
   ]
  },
  {
   "cell_type": "code",
   "execution_count": 2,
   "id": "143a9652-4451-46ed-a616-43d5a211245a",
   "metadata": {},
   "outputs": [
    {
     "data": {
      "text/html": [
       "\n",
       "            <style>\n",
       "                .geemap-dark {\n",
       "                    --jp-widgets-color: white;\n",
       "                    --jp-widgets-label-color: white;\n",
       "                    --jp-ui-font-color1: white;\n",
       "                    --jp-layout-color2: #454545;\n",
       "                    background-color: #383838;\n",
       "                }\n",
       "\n",
       "                .geemap-dark .jupyter-button {\n",
       "                    --jp-layout-color3: #383838;\n",
       "                }\n",
       "\n",
       "                .geemap-colab {\n",
       "                    background-color: var(--colab-primary-surface-color, white);\n",
       "                }\n",
       "\n",
       "                .geemap-colab .jupyter-button {\n",
       "                    --jp-layout-color3: var(--colab-primary-surface-color, white);\n",
       "                }\n",
       "            </style>\n",
       "            "
      ],
      "text/plain": [
       "<IPython.core.display.HTML object>"
      ]
     },
     "metadata": {},
     "output_type": "display_data"
    }
   ],
   "source": [
    "ISO = 'CMR'"
   ]
  },
  {
   "cell_type": "code",
   "execution_count": 3,
   "id": "eb85366f-4556-4b32-b97a-b3989cf394eb",
   "metadata": {},
   "outputs": [
    {
     "data": {
      "text/html": [
       "\n",
       "            <style>\n",
       "                .geemap-dark {\n",
       "                    --jp-widgets-color: white;\n",
       "                    --jp-widgets-label-color: white;\n",
       "                    --jp-ui-font-color1: white;\n",
       "                    --jp-layout-color2: #454545;\n",
       "                    background-color: #383838;\n",
       "                }\n",
       "\n",
       "                .geemap-dark .jupyter-button {\n",
       "                    --jp-layout-color3: #383838;\n",
       "                }\n",
       "\n",
       "                .geemap-colab {\n",
       "                    background-color: var(--colab-primary-surface-color, white);\n",
       "                }\n",
       "\n",
       "                .geemap-colab .jupyter-button {\n",
       "                    --jp-layout-color3: var(--colab-primary-surface-color, white);\n",
       "                }\n",
       "            </style>\n",
       "            "
      ],
      "text/plain": [
       "<IPython.core.display.HTML object>"
      ]
     },
     "metadata": {},
     "output_type": "display_data"
    }
   ],
   "source": [
    "lc_image = ee.Image('projects/ee-cocoacmr/assets/land_cover/CMR_land_cover_2020')"
   ]
  },
  {
   "cell_type": "code",
   "execution_count": 4,
   "id": "0588805d-e4fb-482d-9104-dc73e61374c7",
   "metadata": {},
   "outputs": [
    {
     "data": {
      "text/html": [
       "\n",
       "            <style>\n",
       "                .geemap-dark {\n",
       "                    --jp-widgets-color: white;\n",
       "                    --jp-widgets-label-color: white;\n",
       "                    --jp-ui-font-color1: white;\n",
       "                    --jp-layout-color2: #454545;\n",
       "                    background-color: #383838;\n",
       "                }\n",
       "\n",
       "                .geemap-dark .jupyter-button {\n",
       "                    --jp-layout-color3: #383838;\n",
       "                }\n",
       "\n",
       "                .geemap-colab {\n",
       "                    background-color: var(--colab-primary-surface-color, white);\n",
       "                }\n",
       "\n",
       "                .geemap-colab .jupyter-button {\n",
       "                    --jp-layout-color3: var(--colab-primary-surface-color, white);\n",
       "                }\n",
       "            </style>\n",
       "            "
      ],
      "text/plain": [
       "<IPython.core.display.HTML object>"
      ]
     },
     "metadata": {},
     "output_type": "display_data"
    }
   ],
   "source": [
    "# resolution of the map\n",
    "scale = 10"
   ]
  },
  {
   "cell_type": "code",
   "execution_count": 5,
   "id": "0b4b01ae-99dd-47d6-988a-b4a640d460d5",
   "metadata": {},
   "outputs": [
    {
     "data": {
      "text/html": [
       "\n",
       "            <style>\n",
       "                .geemap-dark {\n",
       "                    --jp-widgets-color: white;\n",
       "                    --jp-widgets-label-color: white;\n",
       "                    --jp-ui-font-color1: white;\n",
       "                    --jp-layout-color2: #454545;\n",
       "                    background-color: #383838;\n",
       "                }\n",
       "\n",
       "                .geemap-dark .jupyter-button {\n",
       "                    --jp-layout-color3: #383838;\n",
       "                }\n",
       "\n",
       "                .geemap-colab {\n",
       "                    background-color: var(--colab-primary-surface-color, white);\n",
       "                }\n",
       "\n",
       "                .geemap-colab .jupyter-button {\n",
       "                    --jp-layout-color3: var(--colab-primary-surface-color, white);\n",
       "                }\n",
       "            </style>\n",
       "            "
      ],
      "text/plain": [
       "<IPython.core.display.HTML object>"
      ]
     },
     "metadata": {},
     "output_type": "display_data"
    }
   ],
   "source": [
    "# band name for classification\n",
    "lc_band = 'LC_2020'"
   ]
  },
  {
   "cell_type": "code",
   "execution_count": 6,
   "id": "d8e5e671-ac09-436c-a517-b71a01fe6ea9",
   "metadata": {},
   "outputs": [
    {
     "data": {
      "text/html": [
       "\n",
       "            <style>\n",
       "                .geemap-dark {\n",
       "                    --jp-widgets-color: white;\n",
       "                    --jp-widgets-label-color: white;\n",
       "                    --jp-ui-font-color1: white;\n",
       "                    --jp-layout-color2: #454545;\n",
       "                    background-color: #383838;\n",
       "                }\n",
       "\n",
       "                .geemap-dark .jupyter-button {\n",
       "                    --jp-layout-color3: #383838;\n",
       "                }\n",
       "\n",
       "                .geemap-colab {\n",
       "                    background-color: var(--colab-primary-surface-color, white);\n",
       "                }\n",
       "\n",
       "                .geemap-colab .jupyter-button {\n",
       "                    --jp-layout-color3: var(--colab-primary-surface-color, white);\n",
       "                }\n",
       "            </style>\n",
       "            "
      ],
      "text/plain": [
       "<IPython.core.display.HTML object>"
      ]
     },
     "metadata": {},
     "output_type": "display_data"
    }
   ],
   "source": [
    "# list of class codes\n",
    "lc_labels = [11,12,13,14,15,21,22,30,41,42,50,60]"
   ]
  },
  {
   "cell_type": "code",
   "execution_count": 7,
   "id": "be7e954c-c1b0-4ac5-9c4e-ecd273040f6d",
   "metadata": {},
   "outputs": [
    {
     "data": {
      "text/html": [
       "\n",
       "            <style>\n",
       "                .geemap-dark {\n",
       "                    --jp-widgets-color: white;\n",
       "                    --jp-widgets-label-color: white;\n",
       "                    --jp-ui-font-color1: white;\n",
       "                    --jp-layout-color2: #454545;\n",
       "                    background-color: #383838;\n",
       "                }\n",
       "\n",
       "                .geemap-dark .jupyter-button {\n",
       "                    --jp-layout-color3: #383838;\n",
       "                }\n",
       "\n",
       "                .geemap-colab {\n",
       "                    background-color: var(--colab-primary-surface-color, white);\n",
       "                }\n",
       "\n",
       "                .geemap-colab .jupyter-button {\n",
       "                    --jp-layout-color3: var(--colab-primary-surface-color, white);\n",
       "                }\n",
       "            </style>\n",
       "            "
      ],
      "text/plain": [
       "<IPython.core.display.HTML object>"
      ]
     },
     "metadata": {},
     "output_type": "display_data"
    },
    {
     "data": {
      "text/plain": [
       "Index(['index', 'plotid', 'sampleid', 'sample_internal_id', 'lon', 'lat',\n",
       "       'flagged', 'collection_time', 'sample_geom', 'pl_index', 'pl_jrcmap',\n",
       "       'pl_tcc', 'IPCC_Ref', 'FType_2020_Ref', 'AgType_2020_Ref',\n",
       "       'HumType_2020_Ref', 'collection', 'interpreted', 'IPCC_2020_Code_Ref',\n",
       "       'FNF_2020_Ref', 'FType_2020_Code_Ref', 'AgType_2020_Code_Ref',\n",
       "       'HumType_2020_Code_Ref', 'LC_2020_Code_Ref'],\n",
       "      dtype='object')"
      ]
     },
     "execution_count": 7,
     "metadata": {},
     "output_type": "execute_result"
    }
   ],
   "source": [
    "# CEO data\n",
    "interpretedData = pd.read_csv('/home/sepal-user/cocoa-CMR/CMR_LC_validated.csv', low_memory=False)\n",
    "interpretedData.columns"
   ]
  },
  {
   "cell_type": "code",
   "execution_count": 8,
   "id": "dab3a8f3-f8af-472d-a88d-2d698f7d8f76",
   "metadata": {},
   "outputs": [
    {
     "data": {
      "text/html": [
       "\n",
       "            <style>\n",
       "                .geemap-dark {\n",
       "                    --jp-widgets-color: white;\n",
       "                    --jp-widgets-label-color: white;\n",
       "                    --jp-ui-font-color1: white;\n",
       "                    --jp-layout-color2: #454545;\n",
       "                    background-color: #383838;\n",
       "                }\n",
       "\n",
       "                .geemap-dark .jupyter-button {\n",
       "                    --jp-layout-color3: #383838;\n",
       "                }\n",
       "\n",
       "                .geemap-colab {\n",
       "                    background-color: var(--colab-primary-surface-color, white);\n",
       "                }\n",
       "\n",
       "                .geemap-colab .jupyter-button {\n",
       "                    --jp-layout-color3: var(--colab-primary-surface-color, white);\n",
       "                }\n",
       "            </style>\n",
       "            "
      ],
      "text/plain": [
       "<IPython.core.display.HTML object>"
      ]
     },
     "metadata": {},
     "output_type": "display_data"
    },
    {
     "data": {
      "text/plain": [
       "2417"
      ]
     },
     "execution_count": 8,
     "metadata": {},
     "output_type": "execute_result"
    }
   ],
   "source": [
    "len(interpretedData)"
   ]
  },
  {
   "cell_type": "code",
   "execution_count": 9,
   "id": "9b022b74-9fc7-4158-8fd4-ee84c7fddecb",
   "metadata": {},
   "outputs": [
    {
     "data": {
      "text/html": [
       "\n",
       "            <style>\n",
       "                .geemap-dark {\n",
       "                    --jp-widgets-color: white;\n",
       "                    --jp-widgets-label-color: white;\n",
       "                    --jp-ui-font-color1: white;\n",
       "                    --jp-layout-color2: #454545;\n",
       "                    background-color: #383838;\n",
       "                }\n",
       "\n",
       "                .geemap-dark .jupyter-button {\n",
       "                    --jp-layout-color3: #383838;\n",
       "                }\n",
       "\n",
       "                .geemap-colab {\n",
       "                    background-color: var(--colab-primary-surface-color, white);\n",
       "                }\n",
       "\n",
       "                .geemap-colab .jupyter-button {\n",
       "                    --jp-layout-color3: var(--colab-primary-surface-color, white);\n",
       "                }\n",
       "            </style>\n",
       "            "
      ],
      "text/plain": [
       "<IPython.core.display.HTML object>"
      ]
     },
     "metadata": {},
     "output_type": "display_data"
    }
   ],
   "source": [
    "# column with LC code\n",
    "lc_ref_column = 'LC_2020_Code_Ref'"
   ]
  },
  {
   "cell_type": "code",
   "execution_count": 42,
   "id": "7bf68a47-12a1-4721-8218-fb063c4ce3d9",
   "metadata": {},
   "outputs": [
    {
     "data": {
      "text/html": [
       "\n",
       "            <style>\n",
       "                .geemap-dark {\n",
       "                    --jp-widgets-color: white;\n",
       "                    --jp-widgets-label-color: white;\n",
       "                    --jp-ui-font-color1: white;\n",
       "                    --jp-layout-color2: #454545;\n",
       "                    background-color: #383838;\n",
       "                }\n",
       "\n",
       "                .geemap-dark .jupyter-button {\n",
       "                    --jp-layout-color3: #383838;\n",
       "                }\n",
       "\n",
       "                .geemap-colab {\n",
       "                    background-color: var(--colab-primary-surface-color, white);\n",
       "                }\n",
       "\n",
       "                .geemap-colab .jupyter-button {\n",
       "                    --jp-layout-color3: var(--colab-primary-surface-color, white);\n",
       "                }\n",
       "            </style>\n",
       "            "
      ],
      "text/plain": [
       "<IPython.core.display.HTML object>"
      ]
     },
     "metadata": {},
     "output_type": "display_data"
    }
   ],
   "source": [
    "table_out = '/home/sepal-user/cocoa-CMR/CMR_2020_LC_types_ceo.csv'"
   ]
  },
  {
   "cell_type": "markdown",
   "id": "3fb763dc-3c84-43ac-b532-3b058394bdf2",
   "metadata": {},
   "source": [
    "### 2 get map areas"
   ]
  },
  {
   "cell_type": "code",
   "execution_count": 10,
   "id": "9a71bcdf-4eb2-4339-911e-e1fc0f3f43b0",
   "metadata": {},
   "outputs": [
    {
     "data": {
      "text/html": [
       "\n",
       "            <style>\n",
       "                .geemap-dark {\n",
       "                    --jp-widgets-color: white;\n",
       "                    --jp-widgets-label-color: white;\n",
       "                    --jp-ui-font-color1: white;\n",
       "                    --jp-layout-color2: #454545;\n",
       "                    background-color: #383838;\n",
       "                }\n",
       "\n",
       "                .geemap-dark .jupyter-button {\n",
       "                    --jp-layout-color3: #383838;\n",
       "                }\n",
       "\n",
       "                .geemap-colab {\n",
       "                    background-color: var(--colab-primary-surface-color, white);\n",
       "                }\n",
       "\n",
       "                .geemap-colab .jupyter-button {\n",
       "                    --jp-layout-color3: var(--colab-primary-surface-color, white);\n",
       "                }\n",
       "            </style>\n",
       "            "
      ],
      "text/plain": [
       "<IPython.core.display.HTML object>"
      ]
     },
     "metadata": {},
     "output_type": "display_data"
    }
   ],
   "source": [
    "aoi = ee.FeatureCollection('projects/ee-cocoacmr/assets/admin/cmr_admbnda_adm0')"
   ]
  },
  {
   "cell_type": "code",
   "execution_count": 11,
   "id": "64091864-9ffa-42ee-9c4c-a3d3a708e300",
   "metadata": {},
   "outputs": [
    {
     "data": {
      "text/html": [
       "\n",
       "            <style>\n",
       "                .geemap-dark {\n",
       "                    --jp-widgets-color: white;\n",
       "                    --jp-widgets-label-color: white;\n",
       "                    --jp-ui-font-color1: white;\n",
       "                    --jp-layout-color2: #454545;\n",
       "                    background-color: #383838;\n",
       "                }\n",
       "\n",
       "                .geemap-dark .jupyter-button {\n",
       "                    --jp-layout-color3: #383838;\n",
       "                }\n",
       "\n",
       "                .geemap-colab {\n",
       "                    background-color: var(--colab-primary-surface-color, white);\n",
       "                }\n",
       "\n",
       "                .geemap-colab .jupyter-button {\n",
       "                    --jp-layout-color3: var(--colab-primary-surface-color, white);\n",
       "                }\n",
       "            </style>\n",
       "            "
      ],
      "text/plain": [
       "<IPython.core.display.HTML object>"
      ]
     },
     "metadata": {},
     "output_type": "display_data"
    }
   ],
   "source": [
    "# Add the area for each pixel\n",
    "pixelArea = ee.Image.pixelArea().clip(aoi)\n",
    "# Multiply pixel area by the class to get the area per class\n",
    "area_image = pixelArea.addBands(lc_image)"
   ]
  },
  {
   "cell_type": "code",
   "execution_count": 12,
   "id": "e8c0367f-24de-464a-b6cb-c5b207e43670",
   "metadata": {},
   "outputs": [
    {
     "data": {
      "text/html": [
       "\n",
       "            <style>\n",
       "                .geemap-dark {\n",
       "                    --jp-widgets-color: white;\n",
       "                    --jp-widgets-label-color: white;\n",
       "                    --jp-ui-font-color1: white;\n",
       "                    --jp-layout-color2: #454545;\n",
       "                    background-color: #383838;\n",
       "                }\n",
       "\n",
       "                .geemap-dark .jupyter-button {\n",
       "                    --jp-layout-color3: #383838;\n",
       "                }\n",
       "\n",
       "                .geemap-colab {\n",
       "                    background-color: var(--colab-primary-surface-color, white);\n",
       "                }\n",
       "\n",
       "                .geemap-colab .jupyter-button {\n",
       "                    --jp-layout-color3: var(--colab-primary-surface-color, white);\n",
       "                }\n",
       "            </style>\n",
       "            "
      ],
      "text/plain": [
       "<IPython.core.display.HTML object>"
      ]
     },
     "metadata": {},
     "output_type": "display_data"
    }
   ],
   "source": [
    "# Reduce the region by summing up the areas per class\n",
    "class_areas = area_image.reduceRegion(\n",
    "    reducer=ee.Reducer.sum().group(groupField=1, groupName='class'),\n",
    "    geometry=lc_image.geometry(),\n",
    "    scale=30,  # Adjust scale according to your image resolution\n",
    "    maxPixels=1e12\n",
    ")"
   ]
  },
  {
   "cell_type": "code",
   "execution_count": 13,
   "id": "a71f34aa-93a5-4a54-bf7e-3a54f500a465",
   "metadata": {},
   "outputs": [
    {
     "data": {
      "text/html": [
       "\n",
       "            <style>\n",
       "                .geemap-dark {\n",
       "                    --jp-widgets-color: white;\n",
       "                    --jp-widgets-label-color: white;\n",
       "                    --jp-ui-font-color1: white;\n",
       "                    --jp-layout-color2: #454545;\n",
       "                    background-color: #383838;\n",
       "                }\n",
       "\n",
       "                .geemap-dark .jupyter-button {\n",
       "                    --jp-layout-color3: #383838;\n",
       "                }\n",
       "\n",
       "                .geemap-colab {\n",
       "                    background-color: var(--colab-primary-surface-color, white);\n",
       "                }\n",
       "\n",
       "                .geemap-colab .jupyter-button {\n",
       "                    --jp-layout-color3: var(--colab-primary-surface-color, white);\n",
       "                }\n",
       "            </style>\n",
       "            "
      ],
      "text/plain": [
       "<IPython.core.display.HTML object>"
      ]
     },
     "metadata": {},
     "output_type": "display_data"
    },
    {
     "name": "stdout",
     "output_type": "stream",
     "text": [
      "    Class    Area (ha)\n",
      "0      11 26974598.288\n",
      "1      12  1549311.145\n",
      "2      13   405393.101\n",
      "3      14   211844.912\n",
      "4      15  3674169.983\n",
      "5      21   129214.201\n",
      "6      22  3614096.723\n",
      "7      30  8477336.158\n",
      "8      41   466601.506\n",
      "9      42   348985.447\n",
      "10     50   238600.098\n",
      "11     60   564229.013\n"
     ]
    }
   ],
   "source": [
    "# Assuming class_areas is already defined and contains the necessary data\n",
    "class_areas_dict = class_areas.getInfo()\n",
    "\n",
    "# Prepare the data for the DataFrame\n",
    "data = []\n",
    "for item in class_areas_dict['groups']:\n",
    "    area_ha = item['sum'] / 10000  # Convert square meters to hectares\n",
    "    data.append({\n",
    "        'Class': item['class'],\n",
    "        'Area (ha)': area_ha\n",
    "    })\n",
    "\n",
    "# Convert the list of dictionaries to a DataFrame\n",
    "lc_areas_df = pd.DataFrame(data)\n",
    "\n",
    "# Display the DataFrame\n",
    "print(lc_areas_df)"
   ]
  },
  {
   "cell_type": "markdown",
   "id": "63508a96-50fe-4be5-a572-da44b70c6f63",
   "metadata": {},
   "source": [
    "### 3 - sample map with validation points "
   ]
  },
  {
   "cell_type": "code",
   "execution_count": 14,
   "id": "1ed9a3a7-d703-42bc-8ed6-cc2d92065239",
   "metadata": {},
   "outputs": [
    {
     "data": {
      "text/html": [
       "\n",
       "            <style>\n",
       "                .geemap-dark {\n",
       "                    --jp-widgets-color: white;\n",
       "                    --jp-widgets-label-color: white;\n",
       "                    --jp-ui-font-color1: white;\n",
       "                    --jp-layout-color2: #454545;\n",
       "                    background-color: #383838;\n",
       "                }\n",
       "\n",
       "                .geemap-dark .jupyter-button {\n",
       "                    --jp-layout-color3: #383838;\n",
       "                }\n",
       "\n",
       "                .geemap-colab {\n",
       "                    background-color: var(--colab-primary-surface-color, white);\n",
       "                }\n",
       "\n",
       "                .geemap-colab .jupyter-button {\n",
       "                    --jp-layout-color3: var(--colab-primary-surface-color, white);\n",
       "                }\n",
       "            </style>\n",
       "            "
      ],
      "text/plain": [
       "<IPython.core.display.HTML object>"
      ]
     },
     "metadata": {},
     "output_type": "display_data"
    },
    {
     "data": {
      "text/html": [
       "<div>\n",
       "<style scoped>\n",
       "    .dataframe tbody tr th:only-of-type {\n",
       "        vertical-align: middle;\n",
       "    }\n",
       "\n",
       "    .dataframe tbody tr th {\n",
       "        vertical-align: top;\n",
       "    }\n",
       "\n",
       "    .dataframe thead th {\n",
       "        text-align: right;\n",
       "    }\n",
       "</style>\n",
       "<table border=\"1\" class=\"dataframe\">\n",
       "  <thead>\n",
       "    <tr style=\"text-align: right;\">\n",
       "      <th></th>\n",
       "      <th>index</th>\n",
       "      <th>plotid</th>\n",
       "      <th>sampleid</th>\n",
       "      <th>collection</th>\n",
       "      <th>LC_2020_Code_Ref</th>\n",
       "      <th>lon</th>\n",
       "      <th>lat</th>\n",
       "      <th>geometry</th>\n",
       "    </tr>\n",
       "  </thead>\n",
       "  <tbody>\n",
       "    <tr>\n",
       "      <th>0</th>\n",
       "      <td>0</td>\n",
       "      <td>2</td>\n",
       "      <td>2</td>\n",
       "      <td>1</td>\n",
       "      <td>30</td>\n",
       "      <td>13.157</td>\n",
       "      <td>9.445</td>\n",
       "      <td>POINT (13.15682 9.44489)</td>\n",
       "    </tr>\n",
       "    <tr>\n",
       "      <th>1</th>\n",
       "      <td>1</td>\n",
       "      <td>4</td>\n",
       "      <td>4</td>\n",
       "      <td>1</td>\n",
       "      <td>12</td>\n",
       "      <td>14.299</td>\n",
       "      <td>7.777</td>\n",
       "      <td>POINT (14.29857 7.77672)</td>\n",
       "    </tr>\n",
       "    <tr>\n",
       "      <th>2</th>\n",
       "      <td>2</td>\n",
       "      <td>7</td>\n",
       "      <td>7</td>\n",
       "      <td>1</td>\n",
       "      <td>30</td>\n",
       "      <td>14.741</td>\n",
       "      <td>11.144</td>\n",
       "      <td>POINT (14.74055 11.1445)</td>\n",
       "    </tr>\n",
       "    <tr>\n",
       "      <th>3</th>\n",
       "      <td>3</td>\n",
       "      <td>6</td>\n",
       "      <td>6</td>\n",
       "      <td>1</td>\n",
       "      <td>30</td>\n",
       "      <td>13.760</td>\n",
       "      <td>8.647</td>\n",
       "      <td>POINT (13.75959 8.64718)</td>\n",
       "    </tr>\n",
       "    <tr>\n",
       "      <th>4</th>\n",
       "      <td>4</td>\n",
       "      <td>8</td>\n",
       "      <td>8</td>\n",
       "      <td>1</td>\n",
       "      <td>11</td>\n",
       "      <td>13.101</td>\n",
       "      <td>4.403</td>\n",
       "      <td>POINT (13.10112 4.40264)</td>\n",
       "    </tr>\n",
       "    <tr>\n",
       "      <th>...</th>\n",
       "      <td>...</td>\n",
       "      <td>...</td>\n",
       "      <td>...</td>\n",
       "      <td>...</td>\n",
       "      <td>...</td>\n",
       "      <td>...</td>\n",
       "      <td>...</td>\n",
       "      <td>...</td>\n",
       "    </tr>\n",
       "    <tr>\n",
       "      <th>2412</th>\n",
       "      <td>2412</td>\n",
       "      <td>1994</td>\n",
       "      <td>1994</td>\n",
       "      <td>6</td>\n",
       "      <td>22</td>\n",
       "      <td>14.563</td>\n",
       "      <td>11.449</td>\n",
       "      <td>POINT (14.5629 11.44925)</td>\n",
       "    </tr>\n",
       "    <tr>\n",
       "      <th>2413</th>\n",
       "      <td>2413</td>\n",
       "      <td>1927</td>\n",
       "      <td>1927</td>\n",
       "      <td>6</td>\n",
       "      <td>22</td>\n",
       "      <td>13.865</td>\n",
       "      <td>10.371</td>\n",
       "      <td>POINT (13.86491 10.37083)</td>\n",
       "    </tr>\n",
       "    <tr>\n",
       "      <th>2414</th>\n",
       "      <td>2414</td>\n",
       "      <td>1985</td>\n",
       "      <td>1985</td>\n",
       "      <td>6</td>\n",
       "      <td>22</td>\n",
       "      <td>13.137</td>\n",
       "      <td>9.016</td>\n",
       "      <td>POINT (13.13737 9.01635)</td>\n",
       "    </tr>\n",
       "    <tr>\n",
       "      <th>2415</th>\n",
       "      <td>2415</td>\n",
       "      <td>1920</td>\n",
       "      <td>1920</td>\n",
       "      <td>6</td>\n",
       "      <td>15</td>\n",
       "      <td>11.046</td>\n",
       "      <td>4.097</td>\n",
       "      <td>POINT (11.04591 4.09708)</td>\n",
       "    </tr>\n",
       "    <tr>\n",
       "      <th>2416</th>\n",
       "      <td>2416</td>\n",
       "      <td>1922</td>\n",
       "      <td>1922</td>\n",
       "      <td>6</td>\n",
       "      <td>11</td>\n",
       "      <td>13.964</td>\n",
       "      <td>4.615</td>\n",
       "      <td>POINT (13.96427 4.6146)</td>\n",
       "    </tr>\n",
       "  </tbody>\n",
       "</table>\n",
       "<p>2417 rows × 8 columns</p>\n",
       "</div>"
      ],
      "text/plain": [
       "      index  plotid  sampleid  collection  LC_2020_Code_Ref    lon    lat  \\\n",
       "0         0       2         2           1                30 13.157  9.445   \n",
       "1         1       4         4           1                12 14.299  7.777   \n",
       "2         2       7         7           1                30 14.741 11.144   \n",
       "3         3       6         6           1                30 13.760  8.647   \n",
       "4         4       8         8           1                11 13.101  4.403   \n",
       "...     ...     ...       ...         ...               ...    ...    ...   \n",
       "2412   2412    1994      1994           6                22 14.563 11.449   \n",
       "2413   2413    1927      1927           6                22 13.865 10.371   \n",
       "2414   2414    1985      1985           6                22 13.137  9.016   \n",
       "2415   2415    1920      1920           6                15 11.046  4.097   \n",
       "2416   2416    1922      1922           6                11 13.964  4.615   \n",
       "\n",
       "                       geometry  \n",
       "0      POINT (13.15682 9.44489)  \n",
       "1      POINT (14.29857 7.77672)  \n",
       "2      POINT (14.74055 11.1445)  \n",
       "3      POINT (13.75959 8.64718)  \n",
       "4      POINT (13.10112 4.40264)  \n",
       "...                         ...  \n",
       "2412   POINT (14.5629 11.44925)  \n",
       "2413  POINT (13.86491 10.37083)  \n",
       "2414   POINT (13.13737 9.01635)  \n",
       "2415   POINT (11.04591 4.09708)  \n",
       "2416    POINT (13.96427 4.6146)  \n",
       "\n",
       "[2417 rows x 8 columns]"
      ]
     },
     "execution_count": 14,
     "metadata": {},
     "output_type": "execute_result"
    }
   ],
   "source": [
    "gdf = gpd.GeoDataFrame(interpretedData[['index', 'plotid', 'sampleid', 'collection', \n",
    "        'LC_2020_Code_Ref', 'lon', 'lat']], geometry=gpd.points_from_xy(interpretedData.lon, interpretedData.lat), crs='epsg:4326')\n",
    "gdf"
   ]
  },
  {
   "cell_type": "markdown",
   "id": "6a52b711-a766-4278-89f8-43edcbdd6d74",
   "metadata": {},
   "source": [
    "##### be patient this can take a while with a large number of points"
   ]
  },
  {
   "cell_type": "code",
   "execution_count": 15,
   "id": "75bfbec5-7852-4b2a-a3a1-03221a4c7c3d",
   "metadata": {},
   "outputs": [
    {
     "data": {
      "text/html": [
       "\n",
       "            <style>\n",
       "                .geemap-dark {\n",
       "                    --jp-widgets-color: white;\n",
       "                    --jp-widgets-label-color: white;\n",
       "                    --jp-ui-font-color1: white;\n",
       "                    --jp-layout-color2: #454545;\n",
       "                    background-color: #383838;\n",
       "                }\n",
       "\n",
       "                .geemap-dark .jupyter-button {\n",
       "                    --jp-layout-color3: #383838;\n",
       "                }\n",
       "\n",
       "                .geemap-colab {\n",
       "                    background-color: var(--colab-primary-surface-color, white);\n",
       "                }\n",
       "\n",
       "                .geemap-colab .jupyter-button {\n",
       "                    --jp-layout-color3: var(--colab-primary-surface-color, white);\n",
       "                }\n",
       "            </style>\n",
       "            "
      ],
      "text/plain": [
       "<IPython.core.display.HTML object>"
      ]
     },
     "metadata": {},
     "output_type": "display_data"
    }
   ],
   "source": [
    "dfs = []\n",
    "for i in range(0, len(interpretedData), 5000):\n",
    "    tmp_df = gdf.loc[i:i+4999]\n",
    "    tmp_fc = geemap.gdf_to_ee(tmp_df[['index','plotid', 'sampleid', 'collection','LC_2020_Code_Ref', 'geometry']])\n",
    "    tmp_smp = lc_image.select(lc_band).reduceRegions(**{\n",
    "        'collection': tmp_fc,\n",
    "        'scale': scale,\n",
    "        'reducer': ee.Reducer.first()   \n",
    "    })\n",
    "\n",
    "    tmp_res = geemap.ee_to_gdf(tmp_smp)\n",
    "    dfs.append(tmp_res)\n",
    "    \n",
    "results_df = pd.concat(dfs)"
   ]
  },
  {
   "cell_type": "code",
   "execution_count": 16,
   "id": "3eebdd06-5a18-4b0c-895b-c466ca08baa9",
   "metadata": {},
   "outputs": [
    {
     "data": {
      "text/html": [
       "\n",
       "            <style>\n",
       "                .geemap-dark {\n",
       "                    --jp-widgets-color: white;\n",
       "                    --jp-widgets-label-color: white;\n",
       "                    --jp-ui-font-color1: white;\n",
       "                    --jp-layout-color2: #454545;\n",
       "                    background-color: #383838;\n",
       "                }\n",
       "\n",
       "                .geemap-dark .jupyter-button {\n",
       "                    --jp-layout-color3: #383838;\n",
       "                }\n",
       "\n",
       "                .geemap-colab {\n",
       "                    background-color: var(--colab-primary-surface-color, white);\n",
       "                }\n",
       "\n",
       "                .geemap-colab .jupyter-button {\n",
       "                    --jp-layout-color3: var(--colab-primary-surface-color, white);\n",
       "                }\n",
       "            </style>\n",
       "            "
      ],
      "text/plain": [
       "<IPython.core.display.HTML object>"
      ]
     },
     "metadata": {},
     "output_type": "display_data"
    },
    {
     "data": {
      "text/html": [
       "<div>\n",
       "<style scoped>\n",
       "    .dataframe tbody tr th:only-of-type {\n",
       "        vertical-align: middle;\n",
       "    }\n",
       "\n",
       "    .dataframe tbody tr th {\n",
       "        vertical-align: top;\n",
       "    }\n",
       "\n",
       "    .dataframe thead th {\n",
       "        text-align: right;\n",
       "    }\n",
       "</style>\n",
       "<table border=\"1\" class=\"dataframe\">\n",
       "  <thead>\n",
       "    <tr style=\"text-align: right;\">\n",
       "      <th></th>\n",
       "      <th>geometry</th>\n",
       "      <th>LC_2020_Code_Ref</th>\n",
       "      <th>collection</th>\n",
       "      <th>LC_2020_Code_Map</th>\n",
       "      <th>index</th>\n",
       "      <th>plotid</th>\n",
       "      <th>sampleid</th>\n",
       "    </tr>\n",
       "  </thead>\n",
       "  <tbody>\n",
       "    <tr>\n",
       "      <th>0</th>\n",
       "      <td>POINT (13.15682 9.44489)</td>\n",
       "      <td>30</td>\n",
       "      <td>1</td>\n",
       "      <td>30.000</td>\n",
       "      <td>0</td>\n",
       "      <td>2</td>\n",
       "      <td>2</td>\n",
       "    </tr>\n",
       "    <tr>\n",
       "      <th>1</th>\n",
       "      <td>POINT (14.29857 7.77672)</td>\n",
       "      <td>12</td>\n",
       "      <td>1</td>\n",
       "      <td>11.000</td>\n",
       "      <td>1</td>\n",
       "      <td>4</td>\n",
       "      <td>4</td>\n",
       "    </tr>\n",
       "    <tr>\n",
       "      <th>2</th>\n",
       "      <td>POINT (14.74055 11.1445)</td>\n",
       "      <td>30</td>\n",
       "      <td>1</td>\n",
       "      <td>30.000</td>\n",
       "      <td>2</td>\n",
       "      <td>7</td>\n",
       "      <td>7</td>\n",
       "    </tr>\n",
       "    <tr>\n",
       "      <th>3</th>\n",
       "      <td>POINT (13.75959 8.64718)</td>\n",
       "      <td>30</td>\n",
       "      <td>1</td>\n",
       "      <td>30.000</td>\n",
       "      <td>3</td>\n",
       "      <td>6</td>\n",
       "      <td>6</td>\n",
       "    </tr>\n",
       "    <tr>\n",
       "      <th>4</th>\n",
       "      <td>POINT (13.10112 4.40264)</td>\n",
       "      <td>11</td>\n",
       "      <td>1</td>\n",
       "      <td>11.000</td>\n",
       "      <td>4</td>\n",
       "      <td>8</td>\n",
       "      <td>8</td>\n",
       "    </tr>\n",
       "    <tr>\n",
       "      <th>...</th>\n",
       "      <td>...</td>\n",
       "      <td>...</td>\n",
       "      <td>...</td>\n",
       "      <td>...</td>\n",
       "      <td>...</td>\n",
       "      <td>...</td>\n",
       "      <td>...</td>\n",
       "    </tr>\n",
       "    <tr>\n",
       "      <th>2412</th>\n",
       "      <td>POINT (14.5629 11.44925)</td>\n",
       "      <td>22</td>\n",
       "      <td>6</td>\n",
       "      <td>41.000</td>\n",
       "      <td>2412</td>\n",
       "      <td>1994</td>\n",
       "      <td>1994</td>\n",
       "    </tr>\n",
       "    <tr>\n",
       "      <th>2413</th>\n",
       "      <td>POINT (13.86491 10.37083)</td>\n",
       "      <td>22</td>\n",
       "      <td>6</td>\n",
       "      <td>22.000</td>\n",
       "      <td>2413</td>\n",
       "      <td>1927</td>\n",
       "      <td>1927</td>\n",
       "    </tr>\n",
       "    <tr>\n",
       "      <th>2414</th>\n",
       "      <td>POINT (13.13737 9.01635)</td>\n",
       "      <td>22</td>\n",
       "      <td>6</td>\n",
       "      <td>22.000</td>\n",
       "      <td>2414</td>\n",
       "      <td>1985</td>\n",
       "      <td>1985</td>\n",
       "    </tr>\n",
       "    <tr>\n",
       "      <th>2415</th>\n",
       "      <td>POINT (11.04591 4.09708)</td>\n",
       "      <td>15</td>\n",
       "      <td>6</td>\n",
       "      <td>13.000</td>\n",
       "      <td>2415</td>\n",
       "      <td>1920</td>\n",
       "      <td>1920</td>\n",
       "    </tr>\n",
       "    <tr>\n",
       "      <th>2416</th>\n",
       "      <td>POINT (13.96427 4.6146)</td>\n",
       "      <td>11</td>\n",
       "      <td>6</td>\n",
       "      <td>15.000</td>\n",
       "      <td>2416</td>\n",
       "      <td>1922</td>\n",
       "      <td>1922</td>\n",
       "    </tr>\n",
       "  </tbody>\n",
       "</table>\n",
       "<p>2417 rows × 7 columns</p>\n",
       "</div>"
      ],
      "text/plain": [
       "                       geometry  LC_2020_Code_Ref  collection  \\\n",
       "0      POINT (13.15682 9.44489)                30           1   \n",
       "1      POINT (14.29857 7.77672)                12           1   \n",
       "2      POINT (14.74055 11.1445)                30           1   \n",
       "3      POINT (13.75959 8.64718)                30           1   \n",
       "4      POINT (13.10112 4.40264)                11           1   \n",
       "...                         ...               ...         ...   \n",
       "2412   POINT (14.5629 11.44925)                22           6   \n",
       "2413  POINT (13.86491 10.37083)                22           6   \n",
       "2414   POINT (13.13737 9.01635)                22           6   \n",
       "2415   POINT (11.04591 4.09708)                15           6   \n",
       "2416    POINT (13.96427 4.6146)                11           6   \n",
       "\n",
       "      LC_2020_Code_Map  index  plotid  sampleid  \n",
       "0               30.000      0       2         2  \n",
       "1               11.000      1       4         4  \n",
       "2               30.000      2       7         7  \n",
       "3               30.000      3       6         6  \n",
       "4               11.000      4       8         8  \n",
       "...                ...    ...     ...       ...  \n",
       "2412            41.000   2412    1994      1994  \n",
       "2413            22.000   2413    1927      1927  \n",
       "2414            22.000   2414    1985      1985  \n",
       "2415            13.000   2415    1920      1920  \n",
       "2416            15.000   2416    1922      1922  \n",
       "\n",
       "[2417 rows x 7 columns]"
      ]
     },
     "execution_count": 16,
     "metadata": {},
     "output_type": "execute_result"
    }
   ],
   "source": [
    "lc_map_column = 'LC_2020_Code_Map'\n",
    "lc_results_df = results_df.rename(columns={'first':lc_map_column})\n",
    "lc_results_df"
   ]
  },
  {
   "cell_type": "code",
   "execution_count": 17,
   "id": "cd29eec0-263c-443f-86de-49ce09a424bc",
   "metadata": {},
   "outputs": [
    {
     "data": {
      "text/html": [
       "\n",
       "            <style>\n",
       "                .geemap-dark {\n",
       "                    --jp-widgets-color: white;\n",
       "                    --jp-widgets-label-color: white;\n",
       "                    --jp-ui-font-color1: white;\n",
       "                    --jp-layout-color2: #454545;\n",
       "                    background-color: #383838;\n",
       "                }\n",
       "\n",
       "                .geemap-dark .jupyter-button {\n",
       "                    --jp-layout-color3: #383838;\n",
       "                }\n",
       "\n",
       "                .geemap-colab {\n",
       "                    background-color: var(--colab-primary-surface-color, white);\n",
       "                }\n",
       "\n",
       "                .geemap-colab .jupyter-button {\n",
       "                    --jp-layout-color3: var(--colab-primary-surface-color, white);\n",
       "                }\n",
       "            </style>\n",
       "            "
      ],
      "text/plain": [
       "<IPython.core.display.HTML object>"
      ]
     },
     "metadata": {},
     "output_type": "display_data"
    },
    {
     "name": "stdout",
     "output_type": "stream",
     "text": [
      "Index(['geometry', 'LC_2020_Code_Ref', 'collection', 'LC_2020_Code_Map',\n",
      "       'index', 'plotid', 'sampleid'],\n",
      "      dtype='object')\n"
     ]
    }
   ],
   "source": [
    "print(lc_results_df.columns)"
   ]
  },
  {
   "cell_type": "code",
   "execution_count": 40,
   "id": "c3b5d1ce-0f72-4490-802c-e08d0571d2a6",
   "metadata": {},
   "outputs": [
    {
     "data": {
      "text/html": [
       "\n",
       "            <style>\n",
       "                .geemap-dark {\n",
       "                    --jp-widgets-color: white;\n",
       "                    --jp-widgets-label-color: white;\n",
       "                    --jp-ui-font-color1: white;\n",
       "                    --jp-layout-color2: #454545;\n",
       "                    background-color: #383838;\n",
       "                }\n",
       "\n",
       "                .geemap-dark .jupyter-button {\n",
       "                    --jp-layout-color3: #383838;\n",
       "                }\n",
       "\n",
       "                .geemap-colab {\n",
       "                    background-color: var(--colab-primary-surface-color, white);\n",
       "                }\n",
       "\n",
       "                .geemap-colab .jupyter-button {\n",
       "                    --jp-layout-color3: var(--colab-primary-surface-color, white);\n",
       "                }\n",
       "            </style>\n",
       "            "
      ],
      "text/plain": [
       "<IPython.core.display.HTML object>"
      ]
     },
     "metadata": {},
     "output_type": "display_data"
    }
   ],
   "source": [
    "lc_results_df['LC_2020_Code_Map'] = lc_results_df['LC_2020_Code_Map'].fillna(0).astype(int)"
   ]
  },
  {
   "cell_type": "code",
   "execution_count": 43,
   "id": "cd127e33-f710-4378-be16-807dae211a7a",
   "metadata": {},
   "outputs": [
    {
     "data": {
      "text/html": [
       "\n",
       "            <style>\n",
       "                .geemap-dark {\n",
       "                    --jp-widgets-color: white;\n",
       "                    --jp-widgets-label-color: white;\n",
       "                    --jp-ui-font-color1: white;\n",
       "                    --jp-layout-color2: #454545;\n",
       "                    background-color: #383838;\n",
       "                }\n",
       "\n",
       "                .geemap-dark .jupyter-button {\n",
       "                    --jp-layout-color3: #383838;\n",
       "                }\n",
       "\n",
       "                .geemap-colab {\n",
       "                    background-color: var(--colab-primary-surface-color, white);\n",
       "                }\n",
       "\n",
       "                .geemap-colab .jupyter-button {\n",
       "                    --jp-layout-color3: var(--colab-primary-surface-color, white);\n",
       "                }\n",
       "            </style>\n",
       "            "
      ],
      "text/plain": [
       "<IPython.core.display.HTML object>"
      ]
     },
     "metadata": {},
     "output_type": "display_data"
    }
   ],
   "source": [
    "#export table with map and reference\n",
    "lc_results_df.to_csv(table_out,index=False)"
   ]
  },
  {
   "cell_type": "markdown",
   "id": "c08cdbd0-5033-437e-a27e-d319c26a03ee",
   "metadata": {},
   "source": [
    "#### Confusion matrix"
   ]
  },
  {
   "cell_type": "code",
   "execution_count": 20,
   "id": "54b205e4-bc0e-449e-9118-f5772e4a6e18",
   "metadata": {},
   "outputs": [
    {
     "data": {
      "text/html": [
       "\n",
       "            <style>\n",
       "                .geemap-dark {\n",
       "                    --jp-widgets-color: white;\n",
       "                    --jp-widgets-label-color: white;\n",
       "                    --jp-ui-font-color1: white;\n",
       "                    --jp-layout-color2: #454545;\n",
       "                    background-color: #383838;\n",
       "                }\n",
       "\n",
       "                .geemap-dark .jupyter-button {\n",
       "                    --jp-layout-color3: #383838;\n",
       "                }\n",
       "\n",
       "                .geemap-colab {\n",
       "                    background-color: var(--colab-primary-surface-color, white);\n",
       "                }\n",
       "\n",
       "                .geemap-colab .jupyter-button {\n",
       "                    --jp-layout-color3: var(--colab-primary-surface-color, white);\n",
       "                }\n",
       "            </style>\n",
       "            "
      ],
      "text/plain": [
       "<IPython.core.display.HTML object>"
      ]
     },
     "metadata": {},
     "output_type": "display_data"
    }
   ],
   "source": [
    "clean_df = lc_results_df.dropna(subset=[lc_ref_column, lc_map_column])\n",
    "conf_matrix = confusion_matrix(clean_df[lc_ref_column], clean_df[lc_map_column], labels=lc_labels)"
   ]
  },
  {
   "cell_type": "code",
   "execution_count": 22,
   "id": "10cc090f-aad4-434b-a4e0-ec2ec6d1497f",
   "metadata": {},
   "outputs": [
    {
     "data": {
      "text/html": [
       "\n",
       "            <style>\n",
       "                .geemap-dark {\n",
       "                    --jp-widgets-color: white;\n",
       "                    --jp-widgets-label-color: white;\n",
       "                    --jp-ui-font-color1: white;\n",
       "                    --jp-layout-color2: #454545;\n",
       "                    background-color: #383838;\n",
       "                }\n",
       "\n",
       "                .geemap-dark .jupyter-button {\n",
       "                    --jp-layout-color3: #383838;\n",
       "                }\n",
       "\n",
       "                .geemap-colab {\n",
       "                    background-color: var(--colab-primary-surface-color, white);\n",
       "                }\n",
       "\n",
       "                .geemap-colab .jupyter-button {\n",
       "                    --jp-layout-color3: var(--colab-primary-surface-color, white);\n",
       "                }\n",
       "            </style>\n",
       "            "
      ],
      "text/plain": [
       "<IPython.core.display.HTML object>"
      ]
     },
     "metadata": {},
     "output_type": "display_data"
    },
    {
     "name": "stdout",
     "output_type": "stream",
     "text": [
      "F1 score per class:\n",
      "Class 11: 0.7878\n",
      "Class 12: 0.1867\n",
      "Class 13: 0.1221\n",
      "Class 14: 0.9231\n",
      "Class 15: 0.4358\n",
      "Class 21: 0.5714\n",
      "Class 22: 0.5499\n",
      "Class 30: 0.7100\n",
      "Class 41: 0.4889\n",
      "Class 42: 0.8116\n",
      "Class 50: 0.7634\n",
      "Class 60: 0.4337\n",
      "\n",
      "Macro F1-score: 0.5654\n",
      "Weighted F1-score: 0.6168\n"
     ]
    }
   ],
   "source": [
    "# Calculate F1 score per class (individual F1 scores for each class)\n",
    "f1_per_class = f1_score(clean_df[lc_ref_column], clean_df[lc_map_column], labels=lc_labels, average=None)\n",
    "\n",
    "# Print F1 score per class\n",
    "print(\"F1 score per class:\")\n",
    "for i, class_label in enumerate(lc_labels):\n",
    "    print(f\"Class {class_label}: {f1_per_class[i]:.4f}\")\n",
    "\n",
    "# Optionally, also print the macro and weighted F1 scores\n",
    "f1_macro = f1_score(clean_df[lc_ref_column], clean_df[lc_map_column], labels=lc_labels, average='macro')\n",
    "f1_weighted = f1_score(clean_df[lc_ref_column], clean_df[lc_map_column], labels=lc_labels, average='weighted')\n",
    "\n",
    "print(f\"\\nMacro F1-score: {f1_macro:.4f}\")  # Unweighted mean F1-score for all classes\n",
    "print(f\"Weighted F1-score: {f1_weighted:.4f}\")  # Weighted by support (number of true instances per class)"
   ]
  },
  {
   "cell_type": "code",
   "execution_count": 23,
   "id": "4c768b4b-49c5-420f-a695-97b14831992e",
   "metadata": {},
   "outputs": [
    {
     "data": {
      "text/html": [
       "\n",
       "            <style>\n",
       "                .geemap-dark {\n",
       "                    --jp-widgets-color: white;\n",
       "                    --jp-widgets-label-color: white;\n",
       "                    --jp-ui-font-color1: white;\n",
       "                    --jp-layout-color2: #454545;\n",
       "                    background-color: #383838;\n",
       "                }\n",
       "\n",
       "                .geemap-dark .jupyter-button {\n",
       "                    --jp-layout-color3: #383838;\n",
       "                }\n",
       "\n",
       "                .geemap-colab {\n",
       "                    background-color: var(--colab-primary-surface-color, white);\n",
       "                }\n",
       "\n",
       "                .geemap-colab .jupyter-button {\n",
       "                    --jp-layout-color3: var(--colab-primary-surface-color, white);\n",
       "                }\n",
       "            </style>\n",
       "            "
      ],
      "text/plain": [
       "<IPython.core.display.HTML object>"
      ]
     },
     "metadata": {},
     "output_type": "display_data"
    },
    {
     "name": "stdout",
     "output_type": "stream",
     "text": [
      "     11  12  13  14  15  21   22   30  41  42  50  60\n",
      "11  735   3   0   1  74   1    4    8   0   0   0   0\n",
      "12  127  28   3   0  19   1    0   22   1   0   0   2\n",
      "13   84  23  13   0   7   0    6   53   1   0   0   0\n",
      "14    0   0   0  18   0   0    0    1   0   0   0   0\n",
      "15   44   6   3   0  73   1    2   17   0   0   0   1\n",
      "21    2   0   0   0   1   8    1    2   0   0   0   1\n",
      "22    0   0   0   0   2   1  102   43   4   0   0   4\n",
      "30   39  36   6   0   5   1   86  464  12   0   2  19\n",
      "41    4   0   1   1   5   0    3    4  22   2   0   4\n",
      "42    0   0   0   0   0   0    1    2   3  28   0   5\n",
      "50    4   1   0   0   2   0    7   14   1   0  50   0\n",
      "60    1   0   0   0   0   0    3    7   0   0   0  18\n"
     ]
    }
   ],
   "source": [
    "cm_df = pd.DataFrame(conf_matrix, index=lc_labels, columns=lc_labels)\n",
    "print(cm_df)"
   ]
  },
  {
   "cell_type": "code",
   "execution_count": 24,
   "id": "d9599bbf-e269-44fa-90d1-54859a83c42b",
   "metadata": {},
   "outputs": [
    {
     "data": {
      "text/html": [
       "\n",
       "            <style>\n",
       "                .geemap-dark {\n",
       "                    --jp-widgets-color: white;\n",
       "                    --jp-widgets-label-color: white;\n",
       "                    --jp-ui-font-color1: white;\n",
       "                    --jp-layout-color2: #454545;\n",
       "                    background-color: #383838;\n",
       "                }\n",
       "\n",
       "                .geemap-dark .jupyter-button {\n",
       "                    --jp-layout-color3: #383838;\n",
       "                }\n",
       "\n",
       "                .geemap-colab {\n",
       "                    background-color: var(--colab-primary-surface-color, white);\n",
       "                }\n",
       "\n",
       "                .geemap-colab .jupyter-button {\n",
       "                    --jp-layout-color3: var(--colab-primary-surface-color, white);\n",
       "                }\n",
       "            </style>\n",
       "            "
      ],
      "text/plain": [
       "<IPython.core.display.HTML object>"
      ]
     },
     "metadata": {},
     "output_type": "display_data"
    },
    {
     "data": {
      "image/png": "[encoded data removed]",
      "text/plain": [
       "<Figure size 800x600 with 2 Axes>"
      ]
     },
     "metadata": {},
     "output_type": "display_data"
    }
   ],
   "source": [
    "# Plot confusion matrix as a heatmap\n",
    "plt.figure(figsize=(8, 6))\n",
    "sns.heatmap(cm_df, annot=True, fmt='d', cmap='Blues')\n",
    "plt.ylabel('Ref LCover')\n",
    "plt.xlabel('Map LCover')\n",
    "plt.title('Confusion Matrix')\n",
    "plt.show()"
   ]
  },
  {
   "cell_type": "code",
   "execution_count": 25,
   "id": "18cfbc97-dec9-44a6-8645-c9a07baa7cf4",
   "metadata": {},
   "outputs": [
    {
     "data": {
      "text/html": [
       "\n",
       "            <style>\n",
       "                .geemap-dark {\n",
       "                    --jp-widgets-color: white;\n",
       "                    --jp-widgets-label-color: white;\n",
       "                    --jp-ui-font-color1: white;\n",
       "                    --jp-layout-color2: #454545;\n",
       "                    background-color: #383838;\n",
       "                }\n",
       "\n",
       "                .geemap-dark .jupyter-button {\n",
       "                    --jp-layout-color3: #383838;\n",
       "                }\n",
       "\n",
       "                .geemap-colab {\n",
       "                    background-color: var(--colab-primary-surface-color, white);\n",
       "                }\n",
       "\n",
       "                .geemap-colab .jupyter-button {\n",
       "                    --jp-layout-color3: var(--colab-primary-surface-color, white);\n",
       "                }\n",
       "            </style>\n",
       "            "
      ],
      "text/plain": [
       "<IPython.core.display.HTML object>"
      ]
     },
     "metadata": {},
     "output_type": "display_data"
    }
   ],
   "source": [
    "# Select the column from areas_df to use for multiplication, for example, 'Area1'\n",
    "area_column = lc_areas_df['Area (ha)']"
   ]
  },
  {
   "cell_type": "code",
   "execution_count": 26,
   "id": "90b5469e-a1ea-4106-95f7-9c8efc2afee3",
   "metadata": {},
   "outputs": [
    {
     "data": {
      "text/html": [
       "\n",
       "            <style>\n",
       "                .geemap-dark {\n",
       "                    --jp-widgets-color: white;\n",
       "                    --jp-widgets-label-color: white;\n",
       "                    --jp-ui-font-color1: white;\n",
       "                    --jp-layout-color2: #454545;\n",
       "                    background-color: #383838;\n",
       "                }\n",
       "\n",
       "                .geemap-dark .jupyter-button {\n",
       "                    --jp-layout-color3: #383838;\n",
       "                }\n",
       "\n",
       "                .geemap-colab {\n",
       "                    background-color: var(--colab-primary-surface-color, white);\n",
       "                }\n",
       "\n",
       "                .geemap-colab .jupyter-button {\n",
       "                    --jp-layout-color3: var(--colab-primary-surface-color, white);\n",
       "                }\n",
       "            </style>\n",
       "            "
      ],
      "text/plain": [
       "<IPython.core.display.HTML object>"
      ]
     },
     "metadata": {},
     "output_type": "display_data"
    }
   ],
   "source": [
    "# Convert the selected column to a NumPy array for broadcasting\n",
    "area_column = area_column.to_numpy()"
   ]
  },
  {
   "cell_type": "code",
   "execution_count": 27,
   "id": "9f6cd2b8-d25e-4366-afff-db4df78a6682",
   "metadata": {},
   "outputs": [
    {
     "data": {
      "text/html": [
       "\n",
       "            <style>\n",
       "                .geemap-dark {\n",
       "                    --jp-widgets-color: white;\n",
       "                    --jp-widgets-label-color: white;\n",
       "                    --jp-ui-font-color1: white;\n",
       "                    --jp-layout-color2: #454545;\n",
       "                    background-color: #383838;\n",
       "                }\n",
       "\n",
       "                .geemap-dark .jupyter-button {\n",
       "                    --jp-layout-color3: #383838;\n",
       "                }\n",
       "\n",
       "                .geemap-colab {\n",
       "                    background-color: var(--colab-primary-surface-color, white);\n",
       "                }\n",
       "\n",
       "                .geemap-colab .jupyter-button {\n",
       "                    --jp-layout-color3: var(--colab-primary-surface-color, white);\n",
       "                }\n",
       "            </style>\n",
       "            "
      ],
      "text/plain": [
       "<IPython.core.display.HTML object>"
      ]
     },
     "metadata": {},
     "output_type": "display_data"
    },
    {
     "data": {
      "text/plain": [
       "array([[1.98263297e+10, 8.09237949e+07, 0.00000000e+00, 2.69745983e+07,\n",
       "        1.99612027e+09, 2.69745983e+07, 1.07898393e+08, 2.15796786e+08,\n",
       "        0.00000000e+00, 0.00000000e+00, 0.00000000e+00, 0.00000000e+00],\n",
       "       [1.96762515e+08, 4.33807121e+07, 4.64793343e+06, 0.00000000e+00,\n",
       "        2.94369118e+07, 1.54931114e+06, 0.00000000e+00, 3.40848452e+07,\n",
       "        1.54931114e+06, 0.00000000e+00, 0.00000000e+00, 3.09862229e+06],\n",
       "       [3.40530205e+07, 9.32404132e+06, 5.27011031e+06, 0.00000000e+00,\n",
       "        2.83775170e+06, 0.00000000e+00, 2.43235860e+06, 2.14858343e+07,\n",
       "        4.05393101e+05, 0.00000000e+00, 0.00000000e+00, 0.00000000e+00],\n",
       "       [0.00000000e+00, 0.00000000e+00, 0.00000000e+00, 3.81320842e+06,\n",
       "        0.00000000e+00, 0.00000000e+00, 0.00000000e+00, 2.11844912e+05,\n",
       "        0.00000000e+00, 0.00000000e+00, 0.00000000e+00, 0.00000000e+00],\n",
       "       [1.61663479e+08, 2.20450199e+07, 1.10225099e+07, 0.00000000e+00,\n",
       "        2.68214409e+08, 3.67416998e+06, 7.34833997e+06, 6.24608897e+07,\n",
       "        0.00000000e+00, 0.00000000e+00, 0.00000000e+00, 3.67416998e+06],\n",
       "       [2.58428402e+05, 0.00000000e+00, 0.00000000e+00, 0.00000000e+00,\n",
       "        1.29214201e+05, 1.03371361e+06, 1.29214201e+05, 2.58428402e+05,\n",
       "        0.00000000e+00, 0.00000000e+00, 0.00000000e+00, 1.29214201e+05],\n",
       "       [0.00000000e+00, 0.00000000e+00, 0.00000000e+00, 0.00000000e+00,\n",
       "        7.22819345e+06, 3.61409672e+06, 3.68637866e+08, 1.55406159e+08,\n",
       "        1.44563869e+07, 0.00000000e+00, 0.00000000e+00, 1.44563869e+07],\n",
       "       [3.30616110e+08, 3.05184102e+08, 5.08640169e+07, 0.00000000e+00,\n",
       "        4.23866808e+07, 8.47733616e+06, 7.29050910e+08, 3.93348398e+09,\n",
       "        1.01728034e+08, 0.00000000e+00, 1.69546723e+07, 1.61069387e+08],\n",
       "       [1.86640603e+06, 0.00000000e+00, 4.66601506e+05, 4.66601506e+05,\n",
       "        2.33300753e+06, 0.00000000e+00, 1.39980452e+06, 1.86640603e+06,\n",
       "        1.02652331e+07, 9.33203013e+05, 0.00000000e+00, 1.86640603e+06],\n",
       "       [0.00000000e+00, 0.00000000e+00, 0.00000000e+00, 0.00000000e+00,\n",
       "        0.00000000e+00, 0.00000000e+00, 3.48985447e+05, 6.97970895e+05,\n",
       "        1.04695634e+06, 9.77159252e+06, 0.00000000e+00, 1.74492724e+06],\n",
       "       [9.54400394e+05, 2.38600098e+05, 0.00000000e+00, 0.00000000e+00,\n",
       "        4.77200197e+05, 0.00000000e+00, 1.67020069e+06, 3.34040138e+06,\n",
       "        2.38600098e+05, 0.00000000e+00, 1.19300049e+07, 0.00000000e+00],\n",
       "       [5.64229013e+05, 0.00000000e+00, 0.00000000e+00, 0.00000000e+00,\n",
       "        0.00000000e+00, 0.00000000e+00, 1.69268704e+06, 3.94960309e+06,\n",
       "        0.00000000e+00, 0.00000000e+00, 0.00000000e+00, 1.01561222e+07]])"
      ]
     },
     "execution_count": 27,
     "metadata": {},
     "output_type": "execute_result"
    }
   ],
   "source": [
    "# Perform element-wise multiplication using broadcasting\n",
    "weighted_conf_matrix = conf_matrix * area_column[:, np.newaxis]\n",
    "weighted_conf_matrix"
   ]
  },
  {
   "cell_type": "code",
   "execution_count": 28,
   "id": "c67c6fbe-1173-4f8f-9097-892b4d4f47ff",
   "metadata": {},
   "outputs": [
    {
     "data": {
      "text/html": [
       "\n",
       "            <style>\n",
       "                .geemap-dark {\n",
       "                    --jp-widgets-color: white;\n",
       "                    --jp-widgets-label-color: white;\n",
       "                    --jp-ui-font-color1: white;\n",
       "                    --jp-layout-color2: #454545;\n",
       "                    background-color: #383838;\n",
       "                }\n",
       "\n",
       "                .geemap-dark .jupyter-button {\n",
       "                    --jp-layout-color3: #383838;\n",
       "                }\n",
       "\n",
       "                .geemap-colab {\n",
       "                    background-color: var(--colab-primary-surface-color, white);\n",
       "                }\n",
       "\n",
       "                .geemap-colab .jupyter-button {\n",
       "                    --jp-layout-color3: var(--colab-primary-surface-color, white);\n",
       "                }\n",
       "            </style>\n",
       "            "
      ],
      "text/plain": [
       "<IPython.core.display.HTML object>"
      ]
     },
     "metadata": {},
     "output_type": "display_data"
    },
    {
     "data": {
      "text/plain": [
       "0.8293669335132676"
      ]
     },
     "execution_count": 28,
     "metadata": {},
     "output_type": "execute_result"
    }
   ],
   "source": [
    "# Calculate overall accuracy\n",
    "overall_accuracy = np.trace(weighted_conf_matrix) / np.sum(weighted_conf_matrix)\n",
    "overall_accuracy"
   ]
  },
  {
   "cell_type": "code",
   "execution_count": 29,
   "id": "0097378c-eb19-4a84-8b10-8c7ae3042814",
   "metadata": {},
   "outputs": [
    {
     "data": {
      "text/html": [
       "\n",
       "            <style>\n",
       "                .geemap-dark {\n",
       "                    --jp-widgets-color: white;\n",
       "                    --jp-widgets-label-color: white;\n",
       "                    --jp-ui-font-color1: white;\n",
       "                    --jp-layout-color2: #454545;\n",
       "                    background-color: #383838;\n",
       "                }\n",
       "\n",
       "                .geemap-dark .jupyter-button {\n",
       "                    --jp-layout-color3: #383838;\n",
       "                }\n",
       "\n",
       "                .geemap-colab {\n",
       "                    background-color: var(--colab-primary-surface-color, white);\n",
       "                }\n",
       "\n",
       "                .geemap-colab .jupyter-button {\n",
       "                    --jp-layout-color3: var(--colab-primary-surface-color, white);\n",
       "                }\n",
       "            </style>\n",
       "            "
      ],
      "text/plain": [
       "<IPython.core.display.HTML object>"
      ]
     },
     "metadata": {},
     "output_type": "display_data"
    },
    {
     "data": {
      "text/plain": [
       "array([0.96464087, 0.09408168, 0.07292133, 0.12200546, 0.11417443,\n",
       "       0.02280759, 0.30201149, 0.8873101 , 0.07915213, 0.91282384,\n",
       "       0.41302192, 0.05176539])"
      ]
     },
     "execution_count": 29,
     "metadata": {},
     "output_type": "execute_result"
    }
   ],
   "source": [
    "# Calculate user's accuracy (precision) and producer's accuracy (recall)\n",
    "users_accuracy = np.diag(weighted_conf_matrix) / np.sum(weighted_conf_matrix, axis=0)\n",
    "users_accuracy"
   ]
  },
  {
   "cell_type": "code",
   "execution_count": 30,
   "id": "5bd3c554-165a-4629-a234-c6d0fc825306",
   "metadata": {},
   "outputs": [
    {
     "data": {
      "text/html": [
       "\n",
       "            <style>\n",
       "                .geemap-dark {\n",
       "                    --jp-widgets-color: white;\n",
       "                    --jp-widgets-label-color: white;\n",
       "                    --jp-ui-font-color1: white;\n",
       "                    --jp-layout-color2: #454545;\n",
       "                    background-color: #383838;\n",
       "                }\n",
       "\n",
       "                .geemap-dark .jupyter-button {\n",
       "                    --jp-layout-color3: #383838;\n",
       "                }\n",
       "\n",
       "                .geemap-colab {\n",
       "                    background-color: var(--colab-primary-surface-color, white);\n",
       "                }\n",
       "\n",
       "                .geemap-colab .jupyter-button {\n",
       "                    --jp-layout-color3: var(--colab-primary-surface-color, white);\n",
       "                }\n",
       "            </style>\n",
       "            "
      ],
      "text/plain": [
       "<IPython.core.display.HTML object>"
      ]
     },
     "metadata": {},
     "output_type": "display_data"
    },
    {
     "data": {
      "text/plain": [
       "array([0.88983051, 0.13793103, 0.06951872, 0.94736842, 0.49659864,\n",
       "       0.53333333, 0.65384615, 0.69253731, 0.47826087, 0.71794872,\n",
       "       0.63291139, 0.62068966])"
      ]
     },
     "execution_count": 30,
     "metadata": {},
     "output_type": "execute_result"
    }
   ],
   "source": [
    "producers_accuracy = np.diag(weighted_conf_matrix) / np.sum(weighted_conf_matrix, axis=1)\n",
    "producers_accuracy"
   ]
  },
  {
   "cell_type": "code",
   "execution_count": 31,
   "id": "1914b086-2cc6-4c30-ae25-5dcb8715fbc4",
   "metadata": {},
   "outputs": [
    {
     "data": {
      "text/html": [
       "\n",
       "            <style>\n",
       "                .geemap-dark {\n",
       "                    --jp-widgets-color: white;\n",
       "                    --jp-widgets-label-color: white;\n",
       "                    --jp-ui-font-color1: white;\n",
       "                    --jp-layout-color2: #454545;\n",
       "                    background-color: #383838;\n",
       "                }\n",
       "\n",
       "                .geemap-dark .jupyter-button {\n",
       "                    --jp-layout-color3: #383838;\n",
       "                }\n",
       "\n",
       "                .geemap-colab {\n",
       "                    background-color: var(--colab-primary-surface-color, white);\n",
       "                }\n",
       "\n",
       "                .geemap-colab .jupyter-button {\n",
       "                    --jp-layout-color3: var(--colab-primary-surface-color, white);\n",
       "                }\n",
       "            </style>\n",
       "            "
      ],
      "text/plain": [
       "<IPython.core.display.HTML object>"
      ]
     },
     "metadata": {},
     "output_type": "display_data"
    }
   ],
   "source": [
    "# Calculate the kappa coefficient\n",
    "total_sum = np.sum(weighted_conf_matrix)\n",
    "random_agreement = np.sum(np.sum(weighted_conf_matrix, axis=0) * np.sum(weighted_conf_matrix, axis=1)) / total_sum\n",
    "kappa = (overall_accuracy - random_agreement) / (1 - random_agreement)"
   ]
  },
  {
   "cell_type": "code",
   "execution_count": 34,
   "id": "b602e8fb-5de2-4736-8a75-0756ed30a9fb",
   "metadata": {},
   "outputs": [
    {
     "data": {
      "text/html": [
       "\n",
       "            <style>\n",
       "                .geemap-dark {\n",
       "                    --jp-widgets-color: white;\n",
       "                    --jp-widgets-label-color: white;\n",
       "                    --jp-ui-font-color1: white;\n",
       "                    --jp-layout-color2: #454545;\n",
       "                    background-color: #383838;\n",
       "                }\n",
       "\n",
       "                .geemap-dark .jupyter-button {\n",
       "                    --jp-layout-color3: #383838;\n",
       "                }\n",
       "\n",
       "                .geemap-colab {\n",
       "                    background-color: var(--colab-primary-surface-color, white);\n",
       "                }\n",
       "\n",
       "                .geemap-colab .jupyter-button {\n",
       "                    --jp-layout-color3: var(--colab-primary-surface-color, white);\n",
       "                }\n",
       "            </style>\n",
       "            "
      ],
      "text/plain": [
       "<IPython.core.display.HTML object>"
      ]
     },
     "metadata": {},
     "output_type": "display_data"
    },
    {
     "name": "stdout",
     "output_type": "stream",
     "text": [
      "                 Class  User's Accuracy Producer's Accuracy Reference Area\n",
      "0                   11            0.965               0.890   26974598.288\n",
      "1                   12            0.094               0.138    1549311.145\n",
      "2                   13            0.073               0.070     405393.101\n",
      "3                   14            0.122               0.947     211844.912\n",
      "4                   15            0.114               0.497    3674169.983\n",
      "5                   21            0.023               0.533     129214.201\n",
      "6                   22            0.302               0.654    3614096.723\n",
      "7                   30            0.887               0.693    8477336.158\n",
      "8                   41            0.079               0.478     466601.506\n",
      "9                   42            0.913               0.718     348985.447\n",
      "10                  50            0.413               0.633     238600.098\n",
      "11                  60            0.052               0.621     564229.013\n",
      "Overall Accuracy     -            0.829                   -              -\n",
      "Kappa                -            1.000                   -              -\n"
     ]
    }
   ],
   "source": [
    "# Create a DataFrame to display the results\n",
    "results = {\n",
    "    \"Class\": lc_labels,\n",
    "    \"User's Accuracy\": users_accuracy,\n",
    "    \"Producer's Accuracy\": producers_accuracy,\n",
    "    \"Reference Area\": area_column\n",
    "}\n",
    "\n",
    "acc_df = pd.DataFrame(results)\n",
    "\n",
    "# Adding Overall Accuracy and Kappa to the DataFrame\n",
    "acc_df.loc[\"Overall Accuracy\"] = [\"-\", overall_accuracy, \"-\", \"-\"]\n",
    "acc_df.loc[\"Kappa\"] = [\"-\", kappa, \"-\", \"-\"]\n",
    "\n",
    "# Display the results\n",
    "print(acc_df)"
   ]
  },
  {
   "cell_type": "code",
   "execution_count": 37,
   "id": "a38d8041-1689-4786-8316-9ae8d087b48b",
   "metadata": {},
   "outputs": [
    {
     "data": {
      "text/html": [
       "\n",
       "            <style>\n",
       "                .geemap-dark {\n",
       "                    --jp-widgets-color: white;\n",
       "                    --jp-widgets-label-color: white;\n",
       "                    --jp-ui-font-color1: white;\n",
       "                    --jp-layout-color2: #454545;\n",
       "                    background-color: #383838;\n",
       "                }\n",
       "\n",
       "                .geemap-dark .jupyter-button {\n",
       "                    --jp-layout-color3: #383838;\n",
       "                }\n",
       "\n",
       "                .geemap-colab {\n",
       "                    background-color: var(--colab-primary-surface-color, white);\n",
       "                }\n",
       "\n",
       "                .geemap-colab .jupyter-button {\n",
       "                    --jp-layout-color3: var(--colab-primary-surface-color, white);\n",
       "                }\n",
       "            </style>\n",
       "            "
      ],
      "text/plain": [
       "<IPython.core.display.HTML object>"
      ]
     },
     "metadata": {},
     "output_type": "display_data"
    }
   ],
   "source": [
    "import random\n",
    "\n",
    "def bootstrap_conf_intervals(data, num_samples=100, alpha=0.05):\n",
    "    samples = np.random.choice(data, size=(num_samples, len(data)), replace=True)\n",
    "    metric_means = np.mean(samples, axis=1)\n",
    "    lower = np.percentile(metric_means, 100 * alpha / 2)\n",
    "    upper = np.percentile(metric_means, 100 * (1 - alpha / 2))\n",
    "    return lower, upper\n",
    "\n",
    "# Compute bootstrap confidence intervals for user's accuracy\n",
    "user_accuracy_intervals = [bootstrap_conf_intervals(conf_matrix[i, :] / conf_matrix.sum(axis=1)) for i in range(len(conf_matrix))]\n",
    "producer_accuracy_intervals = [bootstrap_conf_intervals(conf_matrix[:, i] / conf_matrix.sum(axis=0)) for i in range(len(conf_matrix))]\n",
    "overall_accuracy_interval = bootstrap_conf_intervals([overall_accuracy] * len(conf_matrix))\n",
    "kappa_interval = bootstrap_conf_intervals([kappa] * len(conf_matrix))\n",
    "\n",
    "# Compute bootstrap confidence intervals for area calculations\n",
    "area_intervals = [bootstrap_conf_intervals(lc_areas_df['Area (ha)']) for area in lc_areas_df['Area (ha)']]"
   ]
  },
  {
   "cell_type": "code",
   "execution_count": 39,
   "id": "65f152ff-06df-4bbf-a805-9446523690e1",
   "metadata": {},
   "outputs": [
    {
     "data": {
      "text/html": [
       "\n",
       "            <style>\n",
       "                .geemap-dark {\n",
       "                    --jp-widgets-color: white;\n",
       "                    --jp-widgets-label-color: white;\n",
       "                    --jp-ui-font-color1: white;\n",
       "                    --jp-layout-color2: #454545;\n",
       "                    background-color: #383838;\n",
       "                }\n",
       "\n",
       "                .geemap-dark .jupyter-button {\n",
       "                    --jp-layout-color3: #383838;\n",
       "                }\n",
       "\n",
       "                .geemap-colab {\n",
       "                    background-color: var(--colab-primary-surface-color, white);\n",
       "                }\n",
       "\n",
       "                .geemap-colab .jupyter-button {\n",
       "                    --jp-layout-color3: var(--colab-primary-surface-color, white);\n",
       "                }\n",
       "            </style>\n",
       "            "
      ],
      "text/plain": [
       "<IPython.core.display.HTML object>"
      ]
     },
     "metadata": {},
     "output_type": "display_data"
    },
    {
     "data": {
      "text/html": [
       "<div>\n",
       "<style scoped>\n",
       "    .dataframe tbody tr th:only-of-type {\n",
       "        vertical-align: middle;\n",
       "    }\n",
       "\n",
       "    .dataframe tbody tr th {\n",
       "        vertical-align: top;\n",
       "    }\n",
       "\n",
       "    .dataframe thead th {\n",
       "        text-align: right;\n",
       "    }\n",
       "</style>\n",
       "<table border=\"1\" class=\"dataframe\">\n",
       "  <thead>\n",
       "    <tr style=\"text-align: right;\">\n",
       "      <th></th>\n",
       "      <th>Class</th>\n",
       "      <th>User's Accuracy</th>\n",
       "      <th>User's Accuracy CI</th>\n",
       "      <th>Producer's Accuracy</th>\n",
       "      <th>Producer's Accuracy CI</th>\n",
       "      <th>Reference Area</th>\n",
       "      <th>Area CI</th>\n",
       "    </tr>\n",
       "  </thead>\n",
       "  <tbody>\n",
       "    <tr>\n",
       "      <th>0</th>\n",
       "      <td>11</td>\n",
       "      <td>0.965</td>\n",
       "      <td>(0.011412076774342127, 0.2452079136096363)</td>\n",
       "      <td>0.890</td>\n",
       "      <td>(0.10508431911476174, 1.0792032601625274)</td>\n",
       "      <td>26974598.288</td>\n",
       "      <td>(1048319.6689495074, 8047991.161398962)</td>\n",
       "    </tr>\n",
       "    <tr>\n",
       "      <th>1</th>\n",
       "      <td>12</td>\n",
       "      <td>0.094</td>\n",
       "      <td>(0.02707537488538834, 0.08010000670958287)</td>\n",
       "      <td>0.138</td>\n",
       "      <td>(0.010269109689702393, 0.23140814186763078)</td>\n",
       "      <td>1549311.145</td>\n",
       "      <td>(954130.9306549969, 8603674.219012251)</td>\n",
       "    </tr>\n",
       "    <tr>\n",
       "      <th>2</th>\n",
       "      <td>13</td>\n",
       "      <td>0.073</td>\n",
       "      <td>(0.01892175909688589, 0.05885747396386508)</td>\n",
       "      <td>0.070</td>\n",
       "      <td>(0.003032415912355122, 0.13209176238143666)</td>\n",
       "      <td>405393.101</td>\n",
       "      <td>(712072.3074885285, 7273578.048997884)</td>\n",
       "    </tr>\n",
       "    <tr>\n",
       "      <th>3</th>\n",
       "      <td>14</td>\n",
       "      <td>0.122</td>\n",
       "      <td>(0.0, 0.23709086148206335)</td>\n",
       "      <td>0.947</td>\n",
       "      <td>(3.8060897435897444e-05, 0.22697807400932402)</td>\n",
       "      <td>211844.912</td>\n",
       "      <td>(1205774.6382962002, 9466567.423823029)</td>\n",
       "    </tr>\n",
       "    <tr>\n",
       "      <th>4</th>\n",
       "      <td>15</td>\n",
       "      <td>0.114</td>\n",
       "      <td>(0.011734905880287543, 0.13931170055200726)</td>\n",
       "      <td>0.497</td>\n",
       "      <td>(0.035858735498997124, 0.1569679516967624)</td>\n",
       "      <td>3674169.983</td>\n",
       "      <td>(1130675.7355888856, 9793082.916806553)</td>\n",
       "    </tr>\n",
       "    <tr>\n",
       "      <th>5</th>\n",
       "      <td>21</td>\n",
       "      <td>0.023</td>\n",
       "      <td>(0.0017153272757402531, 0.13600136832530285)</td>\n",
       "      <td>0.533</td>\n",
       "      <td>(0.000718207508853273, 0.15556614047944967)</td>\n",
       "      <td>129214.201</td>\n",
       "      <td>(1030581.2151778894, 7385239.08740242)</td>\n",
       "    </tr>\n",
       "    <tr>\n",
       "      <th>6</th>\n",
       "      <td>22</td>\n",
       "      <td>0.302</td>\n",
       "      <td>(0.013847224429464625, 0.19335810032757458)</td>\n",
       "      <td>0.654</td>\n",
       "      <td>(0.04871941666489539, 0.17884258309951473)</td>\n",
       "      <td>3614096.723</td>\n",
       "      <td>(638901.9877501181, 7713939.820873316)</td>\n",
       "    </tr>\n",
       "    <tr>\n",
       "      <th>7</th>\n",
       "      <td>30</td>\n",
       "      <td>0.887</td>\n",
       "      <td>(0.0886237079776004, 0.36085864022180497)</td>\n",
       "      <td>0.693</td>\n",
       "      <td>(0.13014804512777517, 0.6588569769710976)</td>\n",
       "      <td>8477336.158</td>\n",
       "      <td>(745643.5382339184, 8432957.015277248)</td>\n",
       "    </tr>\n",
       "    <tr>\n",
       "      <th>8</th>\n",
       "      <td>41</td>\n",
       "      <td>0.079</td>\n",
       "      <td>(0.012464701535075982, 0.1483240952979602)</td>\n",
       "      <td>0.478</td>\n",
       "      <td>(0.007993755920843892, 0.14534267701464887)</td>\n",
       "      <td>466601.506</td>\n",
       "      <td>(705974.641794868, 8708391.279002361)</td>\n",
       "    </tr>\n",
       "    <tr>\n",
       "      <th>9</th>\n",
       "      <td>42</td>\n",
       "      <td>0.913</td>\n",
       "      <td>(0.006217726861789158, 0.2453032097733184)</td>\n",
       "      <td>0.718</td>\n",
       "      <td>(0.0, 0.23712121212121215)</td>\n",
       "      <td>348985.447</td>\n",
       "      <td>(748302.564633607, 8186606.732590683)</td>\n",
       "    </tr>\n",
       "    <tr>\n",
       "      <th>10</th>\n",
       "      <td>50</td>\n",
       "      <td>0.413</td>\n",
       "      <td>(0.005521985445980242, 0.1967261353392877)</td>\n",
       "      <td>0.633</td>\n",
       "      <td>(0.0, 0.24078362114076401)</td>\n",
       "      <td>238600.098</td>\n",
       "      <td>(887797.5710379783, 7630619.842806333)</td>\n",
       "    </tr>\n",
       "    <tr>\n",
       "      <th>11</th>\n",
       "      <td>60</td>\n",
       "      <td>0.052</td>\n",
       "      <td>(0.0009185684772264586, 0.15929172110270925)</td>\n",
       "      <td>0.621</td>\n",
       "      <td>(0.023418426212506085, 0.12062851226696093)</td>\n",
       "      <td>564229.013</td>\n",
       "      <td>(708501.9613446388, 8704126.881980596)</td>\n",
       "    </tr>\n",
       "    <tr>\n",
       "      <th>Overall Accuracy</th>\n",
       "      <td>-</td>\n",
       "      <td>0.829</td>\n",
       "      <td>(0.8293669335132675, 0.8293669335132675)</td>\n",
       "      <td>-</td>\n",
       "      <td>-</td>\n",
       "      <td>-</td>\n",
       "      <td>-</td>\n",
       "    </tr>\n",
       "    <tr>\n",
       "      <th>Kappa</th>\n",
       "      <td>-</td>\n",
       "      <td>1.000</td>\n",
       "      <td>(1.0000000000103846, 1.0000000000103846)</td>\n",
       "      <td>-</td>\n",
       "      <td>-</td>\n",
       "      <td>-</td>\n",
       "      <td>-</td>\n",
       "    </tr>\n",
       "  </tbody>\n",
       "</table>\n",
       "</div>"
      ],
      "text/plain": [
       "                 Class  User's Accuracy  \\\n",
       "0                   11            0.965   \n",
       "1                   12            0.094   \n",
       "2                   13            0.073   \n",
       "3                   14            0.122   \n",
       "4                   15            0.114   \n",
       "5                   21            0.023   \n",
       "6                   22            0.302   \n",
       "7                   30            0.887   \n",
       "8                   41            0.079   \n",
       "9                   42            0.913   \n",
       "10                  50            0.413   \n",
       "11                  60            0.052   \n",
       "Overall Accuracy     -            0.829   \n",
       "Kappa                -            1.000   \n",
       "\n",
       "                                            User's Accuracy CI  \\\n",
       "0                   (0.011412076774342127, 0.2452079136096363)   \n",
       "1                   (0.02707537488538834, 0.08010000670958287)   \n",
       "2                   (0.01892175909688589, 0.05885747396386508)   \n",
       "3                                   (0.0, 0.23709086148206335)   \n",
       "4                  (0.011734905880287543, 0.13931170055200726)   \n",
       "5                 (0.0017153272757402531, 0.13600136832530285)   \n",
       "6                  (0.013847224429464625, 0.19335810032757458)   \n",
       "7                    (0.0886237079776004, 0.36085864022180497)   \n",
       "8                   (0.012464701535075982, 0.1483240952979602)   \n",
       "9                   (0.006217726861789158, 0.2453032097733184)   \n",
       "10                  (0.005521985445980242, 0.1967261353392877)   \n",
       "11                (0.0009185684772264586, 0.15929172110270925)   \n",
       "Overall Accuracy      (0.8293669335132675, 0.8293669335132675)   \n",
       "Kappa                 (1.0000000000103846, 1.0000000000103846)   \n",
       "\n",
       "                 Producer's Accuracy  \\\n",
       "0                              0.890   \n",
       "1                              0.138   \n",
       "2                              0.070   \n",
       "3                              0.947   \n",
       "4                              0.497   \n",
       "5                              0.533   \n",
       "6                              0.654   \n",
       "7                              0.693   \n",
       "8                              0.478   \n",
       "9                              0.718   \n",
       "10                             0.633   \n",
       "11                             0.621   \n",
       "Overall Accuracy                   -   \n",
       "Kappa                              -   \n",
       "\n",
       "                                         Producer's Accuracy CI  \\\n",
       "0                     (0.10508431911476174, 1.0792032601625274)   \n",
       "1                   (0.010269109689702393, 0.23140814186763078)   \n",
       "2                   (0.003032415912355122, 0.13209176238143666)   \n",
       "3                 (3.8060897435897444e-05, 0.22697807400932402)   \n",
       "4                    (0.035858735498997124, 0.1569679516967624)   \n",
       "5                   (0.000718207508853273, 0.15556614047944967)   \n",
       "6                    (0.04871941666489539, 0.17884258309951473)   \n",
       "7                     (0.13014804512777517, 0.6588569769710976)   \n",
       "8                   (0.007993755920843892, 0.14534267701464887)   \n",
       "9                                    (0.0, 0.23712121212121215)   \n",
       "10                                   (0.0, 0.24078362114076401)   \n",
       "11                  (0.023418426212506085, 0.12062851226696093)   \n",
       "Overall Accuracy                                              -   \n",
       "Kappa                                                         -   \n",
       "\n",
       "                 Reference Area                                  Area CI  \n",
       "0                  26974598.288  (1048319.6689495074, 8047991.161398962)  \n",
       "1                   1549311.145   (954130.9306549969, 8603674.219012251)  \n",
       "2                    405393.101   (712072.3074885285, 7273578.048997884)  \n",
       "3                    211844.912  (1205774.6382962002, 9466567.423823029)  \n",
       "4                   3674169.983  (1130675.7355888856, 9793082.916806553)  \n",
       "5                    129214.201   (1030581.2151778894, 7385239.08740242)  \n",
       "6                   3614096.723   (638901.9877501181, 7713939.820873316)  \n",
       "7                   8477336.158   (745643.5382339184, 8432957.015277248)  \n",
       "8                    466601.506    (705974.641794868, 8708391.279002361)  \n",
       "9                    348985.447    (748302.564633607, 8186606.732590683)  \n",
       "10                   238600.098   (887797.5710379783, 7630619.842806333)  \n",
       "11                   564229.013   (708501.9613446388, 8704126.881980596)  \n",
       "Overall Accuracy              -                                        -  \n",
       "Kappa                         -                                        -  "
      ]
     },
     "execution_count": 39,
     "metadata": {},
     "output_type": "execute_result"
    }
   ],
   "source": [
    "results = {\n",
    "    \"Class\": lc_labels,\n",
    "    \"User's Accuracy\": users_accuracy,\n",
    "    \"User's Accuracy CI\": user_accuracy_intervals,\n",
    "    \"Producer's Accuracy\": producers_accuracy,\n",
    "    \"Producer's Accuracy CI\": producer_accuracy_intervals,\n",
    "    \"Reference Area\": lc_areas_df['Area (ha)'],\n",
    "    \"Area CI\": area_intervals\n",
    "}\n",
    "\n",
    "acc_df = pd.DataFrame(results)\n",
    "\n",
    "# Adding Overall Accuracy and Kappa to the DataFrame\n",
    "acc_df.loc[\"Overall Accuracy\"] = [\"-\", overall_accuracy, overall_accuracy_interval, \"-\", \"-\", \"-\", \"-\"]\n",
    "acc_df.loc[\"Kappa\"] = [\"-\", kappa, kappa_interval, \"-\", \"-\", \"-\", \"-\"]\n",
    "\n",
    "# Display the results\n",
    "acc_df"
   ]
  }
 ],
 "metadata": {
  "kernelspec": {
   "display_name": "Python 3",
   "language": "python",
   "name": "python3"
  },
  "language_info": {
   "codemirror_mode": {
    "name": "ipython",
    "version": 3
   },
   "file_extension": ".py",
   "mimetype": "text/x-python",
   "name": "python",
   "nbconvert_exporter": "python",
   "pygments_lexer": "ipython3",
   "version": "3.10.12"
  }
 },
 "nbformat": 4,
 "nbformat_minor": 5
}
