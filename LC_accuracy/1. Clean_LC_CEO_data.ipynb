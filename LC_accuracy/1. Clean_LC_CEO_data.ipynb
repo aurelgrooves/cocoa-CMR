{
 "cells": [
  {
   "cell_type": "code",
   "execution_count": 1,
   "id": "57c8e3b0-7da5-4dfa-a450-c107b1bb2811",
   "metadata": {},
   "outputs": [],
   "source": [
    "import pandas as pd\n",
    "import numpy as np\n",
    "import matplotlib.pyplot as plt\n",
    "pd.set_option('display.max_columns', None)\n",
    "pd.set_option('display.max_rows', None)\n",
    "# Set the display option to a large value to prevent text wrapping\n",
    "pd.set_option('display.max_colwidth', None)"
   ]
  },
  {
   "cell_type": "markdown",
   "id": "77ee5cb4-c99b-4f82-9dd1-e71da956334c",
   "metadata": {},
   "source": [
    "#### 1. Read all CEO sample files\n",
    "##### download your CEO sample files from collect.earth and upload to SEPAL using FileZilla. add as many files as you have projects"
   ]
  },
  {
   "cell_type": "code",
   "execution_count": 2,
   "id": "2f92ebcf-d20e-4abd-bef0-ef2fd89febc2",
   "metadata": {},
   "outputs": [],
   "source": [
    "ceo1 = pd.read_csv('/home/sepal-user/COCAFORI/ceo-COCAFORI-validation-1-couverture-du-sol-2020-sample-data.csv')\n",
    "ceo2 = pd.read_csv('/home/sepal-user/COCAFORI/ceo-COCAFORI-validation-2-couverture-du-sol-2020-sample-data.csv')\n",
    "ceo3 = pd.read_csv('/home/sepal-user/COCAFORI/ceo-COCAFORI-validation-3-couverture-du-sol-2020-sample-data.csv')\n",
    "ceo4 = pd.read_csv('/home/sepal-user/COCAFORI/ceo-COCAFORI-validation-4-couverture-du-sol-2020-sample-data.csv')\n",
    "ceo5 = pd.read_csv('/home/sepal-user/COCAFORI/ceo-COCAFORI-validation-5-couverture-du-sol-2020-sample-data.csv')\n",
    "ceo6 = pd.read_csv('/home/sepal-user/COCAFORI/ceo-COCAFORI-validation-6-couverture-du-sol-2020-sample-data.csv')"
   ]
  },
  {
   "cell_type": "code",
   "execution_count": 3,
   "id": "8cc53ad7-3162-4f2b-8236-55a8f6f2053b",
   "metadata": {},
   "outputs": [],
   "source": [
    "# output file cleaned CEO validated data file with select columns\n",
    "ceo_data_out =  '/home/sepal-user/COCAFORI/CMR_LC_validated.csv'"
   ]
  },
  {
   "cell_type": "code",
   "execution_count": 4,
   "id": "fa2b80f6-6b43-4ad1-a418-addfd1b4f956",
   "metadata": {},
   "outputs": [],
   "source": [
    "ceo_files = [ceo1,ceo2,ceo3,ceo4,ceo5,ceo6]"
   ]
  },
  {
   "cell_type": "markdown",
   "id": "443fea2d-4c60-43f5-9072-e7ba8ef39aca",
   "metadata": {},
   "source": [
    "### end of parameters"
   ]
  },
  {
   "cell_type": "code",
   "execution_count": 5,
   "id": "92ab0b01-3ddc-45ee-9f5e-e8c7883bf915",
   "metadata": {},
   "outputs": [
    {
     "name": "stdout",
     "output_type": "stream",
     "text": [
      "['plotid', 'sampleid', 'sample_internal_id', 'lon', 'lat', 'email', 'flagged', 'collection_time', 'analysis_duration', 'imagery_title', 'imagery_attributions', 'sample_geom', 'pl_index', 'pl_jrcmap', 'pl_tcc', 'pl_classification', 'Type GIEC', 'Type de terre forestière', 'Type de terres cultivées', 'Type de terres humides', 'Commentaires']\n"
     ]
    }
   ],
   "source": [
    "column_names = ceo1.columns.tolist()\n",
    "# Print the list of column names\n",
    "print(column_names)"
   ]
  },
  {
   "cell_type": "markdown",
   "id": "ec23c455-0eda-43a4-9faa-50ad11f37f93",
   "metadata": {},
   "source": [
    "##### clean files"
   ]
  },
  {
   "cell_type": "code",
   "execution_count": 6,
   "id": "ad7c23f7-8e2c-43b2-bf9a-5289f700d5d6",
   "metadata": {},
   "outputs": [
    {
     "name": "stdout",
     "output_type": "stream",
     "text": [
      "ceo 1 # of validated points: 576, # of not validated points: 0\n",
      "ceo 2 # of validated points: 801, # of not validated points: 0\n",
      "ceo 3 # of validated points: 500, # of not validated points: 0\n",
      "ceo 4 # of validated points: 130, # of not validated points: 0\n",
      "ceo 5 # of validated points: 143, # of not validated points: 0\n",
      "ceo 6 # of validated points: 267, # of not validated points: 0\n"
     ]
    }
   ],
   "source": [
    "# List to store the modified DataFrames\n",
    "modified_ceo_files = []\n",
    "\n",
    "# Initialize collection counter\n",
    "collection_counter = 1\n",
    "\n",
    "for i, ceo in enumerate(ceo_files):\n",
    "       \n",
    "    # Sort the DataFrame by 'date' in descending order\n",
    "    ceo.sort_values(by='collection_time', ascending=True, inplace=True)\n",
    "\n",
    "    # Remove duplicates keeping the last occurrence (the most recent date)\n",
    "    ceo.drop_duplicates(subset='plotid', keep='first', inplace=True)\n",
    "\n",
    "    # Reset the index\n",
    "    ceo.reset_index(drop=True, inplace=True)\n",
    "    \n",
    "    # Add 'collection' column with an increasing number\n",
    "    ceo['collection'] = collection_counter\n",
    "    \n",
    "    # Add 'interpreted' column with 1 when 'email' is not null, otherwise 0\n",
    "    ceo['interpreted'] = np.where(ceo['email'].notna(), 1, 0)\n",
    "    \n",
    "    # Calculate total count for each 'interpreted' value\n",
    "    interpreted_counts = ceo['interpreted'].value_counts().to_dict()\n",
    "    \n",
    "    # Append the modified DataFrame to the list\n",
    "    modified_ceo_files.append(ceo)\n",
    "    \n",
    "    # Print count for the current DataFrame\n",
    "    print(f\"ceo {i + 1} # of validated points: {interpreted_counts.get(1, 0)}, # of not validated points: {interpreted_counts.get(0, 0)}\")\n",
    "    \n",
    "    # Increment the collection counter\n",
    "    collection_counter += 1\n",
    "\n",
    "# Concatenate the modified DataFrames into one merged DataFrame\n",
    "merged_ceo = pd.concat(modified_ceo_files, ignore_index=True)\n",
    "\n",
    "\n",
    "# Specify the columns you want to keep in the merged DataFrame\n",
    "columns_to_keep = ['plotid', 'sampleid', 'sample_internal_id', 'lon', 'lat', 'flagged', \n",
    "                   'collection_time', 'sample_geom', \n",
    "                   'pl_index', 'pl_jrcmap', 'pl_tcc', 'Type GIEC', 'Type de terre forestière', \n",
    "                   'Type de terres cultivées', 'Type de terres humides', 'collection', 'interpreted']\n",
    "\n",
    "# Select only the specified columns\n",
    "merged_ceo = merged_ceo[columns_to_keep]\n",
    "\n",
    "# Create a dictionary to map old column names to new column names\n",
    "column_mapping = {\n",
    "    'Type GIEC': 'IPCC_Ref', \n",
    "    \"Type de terre forestière\": 'FType_2020_Ref',\n",
    "    \"Type de terres cultivées\": 'AgType_2020_Ref', \n",
    "    'Type de terres humides': 'HumType_2020_Ref', \n",
    "\n",
    "}\n",
    "\n",
    "# Use the rename() method to rename the columns\n",
    "merged_ceo = merged_ceo.rename(columns=column_mapping)"
   ]
  },
  {
   "cell_type": "code",
   "execution_count": 7,
   "id": "49978c58-0e99-468d-9371-62b0e74b0393",
   "metadata": {},
   "outputs": [
    {
     "data": {
      "text/html": [
       "<div>\n",
       "<style scoped>\n",
       "    .dataframe tbody tr th:only-of-type {\n",
       "        vertical-align: middle;\n",
       "    }\n",
       "\n",
       "    .dataframe tbody tr th {\n",
       "        vertical-align: top;\n",
       "    }\n",
       "\n",
       "    .dataframe thead th {\n",
       "        text-align: right;\n",
       "    }\n",
       "</style>\n",
       "<table border=\"1\" class=\"dataframe\">\n",
       "  <thead>\n",
       "    <tr style=\"text-align: right;\">\n",
       "      <th></th>\n",
       "      <th>plotid</th>\n",
       "      <th>sampleid</th>\n",
       "      <th>sample_internal_id</th>\n",
       "      <th>lon</th>\n",
       "      <th>lat</th>\n",
       "      <th>flagged</th>\n",
       "      <th>collection_time</th>\n",
       "      <th>sample_geom</th>\n",
       "      <th>pl_index</th>\n",
       "      <th>pl_jrcmap</th>\n",
       "      <th>pl_tcc</th>\n",
       "      <th>IPCC_Ref</th>\n",
       "      <th>FType_2020_Ref</th>\n",
       "      <th>AgType_2020_Ref</th>\n",
       "      <th>HumType_2020_Ref</th>\n",
       "      <th>collection</th>\n",
       "      <th>interpreted</th>\n",
       "    </tr>\n",
       "  </thead>\n",
       "  <tbody>\n",
       "    <tr>\n",
       "      <th>0</th>\n",
       "      <td>4</td>\n",
       "      <td>4</td>\n",
       "      <td>760021835</td>\n",
       "      <td>14.298574</td>\n",
       "      <td>7.776715</td>\n",
       "      <td>False</td>\n",
       "      <td>2024-07-12 11:10</td>\n",
       "      <td>POINT(14.29857421 7.776715415)</td>\n",
       "      <td>361</td>\n",
       "      <td>1.0</td>\n",
       "      <td>90.0</td>\n",
       "      <td>Terres Forestières</td>\n",
       "      <td>Forêt Claire (30-60% TCC) sans perturbation</td>\n",
       "      <td>NaN</td>\n",
       "      <td>NaN</td>\n",
       "      <td>1</td>\n",
       "      <td>1</td>\n",
       "    </tr>\n",
       "    <tr>\n",
       "      <th>1</th>\n",
       "      <td>2</td>\n",
       "      <td>2</td>\n",
       "      <td>760022043</td>\n",
       "      <td>13.156815</td>\n",
       "      <td>9.444887</td>\n",
       "      <td>False</td>\n",
       "      <td>2024-07-12 11:10</td>\n",
       "      <td>POINT(13.15681548 9.444886897)</td>\n",
       "      <td>569</td>\n",
       "      <td>1.0</td>\n",
       "      <td>80.0</td>\n",
       "      <td>Terres Herbacées</td>\n",
       "      <td>NaN</td>\n",
       "      <td>NaN</td>\n",
       "      <td>NaN</td>\n",
       "      <td>1</td>\n",
       "      <td>1</td>\n",
       "    </tr>\n",
       "    <tr>\n",
       "      <th>2</th>\n",
       "      <td>6</td>\n",
       "      <td>6</td>\n",
       "      <td>760022039</td>\n",
       "      <td>13.759585</td>\n",
       "      <td>8.647183</td>\n",
       "      <td>False</td>\n",
       "      <td>2024-07-12 11:11</td>\n",
       "      <td>POINT(13.75958504 8.647182925)</td>\n",
       "      <td>565</td>\n",
       "      <td>1.0</td>\n",
       "      <td>70.0</td>\n",
       "      <td>Terres Herbacées</td>\n",
       "      <td>NaN</td>\n",
       "      <td>NaN</td>\n",
       "      <td>NaN</td>\n",
       "      <td>1</td>\n",
       "      <td>1</td>\n",
       "    </tr>\n",
       "    <tr>\n",
       "      <th>3</th>\n",
       "      <td>7</td>\n",
       "      <td>7</td>\n",
       "      <td>760021989</td>\n",
       "      <td>14.740545</td>\n",
       "      <td>11.144499</td>\n",
       "      <td>False</td>\n",
       "      <td>2024-07-12 11:11</td>\n",
       "      <td>POINT(14.74054533 11.14449941)</td>\n",
       "      <td>515</td>\n",
       "      <td>1.0</td>\n",
       "      <td>60.0</td>\n",
       "      <td>Terres Herbacées</td>\n",
       "      <td>NaN</td>\n",
       "      <td>NaN</td>\n",
       "      <td>NaN</td>\n",
       "      <td>1</td>\n",
       "      <td>1</td>\n",
       "    </tr>\n",
       "    <tr>\n",
       "      <th>4</th>\n",
       "      <td>8</td>\n",
       "      <td>8</td>\n",
       "      <td>760021562</td>\n",
       "      <td>13.101120</td>\n",
       "      <td>4.402643</td>\n",
       "      <td>False</td>\n",
       "      <td>2024-07-12 11:12</td>\n",
       "      <td>POINT(13.10111994 4.402643207)</td>\n",
       "      <td>88</td>\n",
       "      <td>1.0</td>\n",
       "      <td>100.0</td>\n",
       "      <td>Terres Forestières</td>\n",
       "      <td>Forêt Dense (&gt;60% TCC) sans perturbation</td>\n",
       "      <td>NaN</td>\n",
       "      <td>NaN</td>\n",
       "      <td>1</td>\n",
       "      <td>1</td>\n",
       "    </tr>\n",
       "  </tbody>\n",
       "</table>\n",
       "</div>"
      ],
      "text/plain": [
       "   plotid  sampleid  sample_internal_id        lon        lat  flagged  \\\n",
       "0       4         4           760021835  14.298574   7.776715    False   \n",
       "1       2         2           760022043  13.156815   9.444887    False   \n",
       "2       6         6           760022039  13.759585   8.647183    False   \n",
       "3       7         7           760021989  14.740545  11.144499    False   \n",
       "4       8         8           760021562  13.101120   4.402643    False   \n",
       "\n",
       "    collection_time                     sample_geom pl_index  pl_jrcmap  \\\n",
       "0  2024-07-12 11:10  POINT(14.29857421 7.776715415)      361        1.0   \n",
       "1  2024-07-12 11:10  POINT(13.15681548 9.444886897)      569        1.0   \n",
       "2  2024-07-12 11:11  POINT(13.75958504 8.647182925)      565        1.0   \n",
       "3  2024-07-12 11:11  POINT(14.74054533 11.14449941)      515        1.0   \n",
       "4  2024-07-12 11:12  POINT(13.10111994 4.402643207)       88        1.0   \n",
       "\n",
       "   pl_tcc            IPCC_Ref                               FType_2020_Ref  \\\n",
       "0    90.0  Terres Forestières  Forêt Claire (30-60% TCC) sans perturbation   \n",
       "1    80.0    Terres Herbacées                                          NaN   \n",
       "2    70.0    Terres Herbacées                                          NaN   \n",
       "3    60.0    Terres Herbacées                                          NaN   \n",
       "4   100.0  Terres Forestières     Forêt Dense (>60% TCC) sans perturbation   \n",
       "\n",
       "  AgType_2020_Ref HumType_2020_Ref  collection  interpreted  \n",
       "0             NaN              NaN           1            1  \n",
       "1             NaN              NaN           1            1  \n",
       "2             NaN              NaN           1            1  \n",
       "3             NaN              NaN           1            1  \n",
       "4             NaN              NaN           1            1  "
      ]
     },
     "execution_count": 7,
     "metadata": {},
     "output_type": "execute_result"
    }
   ],
   "source": [
    "merged_ceo.head()"
   ]
  },
  {
   "cell_type": "code",
   "execution_count": 8,
   "id": "ea574f59-71d0-42ad-b53d-bff66f4d67e3",
   "metadata": {},
   "outputs": [
    {
     "data": {
      "text/plain": [
       "2417"
      ]
     },
     "execution_count": 8,
     "metadata": {},
     "output_type": "execute_result"
    }
   ],
   "source": [
    "len(merged_ceo)"
   ]
  },
  {
   "cell_type": "code",
   "execution_count": 9,
   "id": "02e2b4e8-1e43-4f94-97d3-33611bf8bf1f",
   "metadata": {},
   "outputs": [
    {
     "data": {
      "text/html": [
       "<div>\n",
       "<style scoped>\n",
       "    .dataframe tbody tr th:only-of-type {\n",
       "        vertical-align: middle;\n",
       "    }\n",
       "\n",
       "    .dataframe tbody tr th {\n",
       "        vertical-align: top;\n",
       "    }\n",
       "\n",
       "    .dataframe thead th {\n",
       "        text-align: right;\n",
       "    }\n",
       "</style>\n",
       "<table border=\"1\" class=\"dataframe\">\n",
       "  <thead>\n",
       "    <tr style=\"text-align: right;\">\n",
       "      <th>interpreted</th>\n",
       "      <th>1</th>\n",
       "    </tr>\n",
       "    <tr>\n",
       "      <th>IPCC_Ref</th>\n",
       "      <th></th>\n",
       "    </tr>\n",
       "  </thead>\n",
       "  <tbody>\n",
       "    <tr>\n",
       "      <th>Autres Terres</th>\n",
       "      <td>13</td>\n",
       "    </tr>\n",
       "    <tr>\n",
       "      <th>Surfaces Humaines</th>\n",
       "      <td>80</td>\n",
       "    </tr>\n",
       "    <tr>\n",
       "      <th>Terres Cultivées</th>\n",
       "      <td>171</td>\n",
       "    </tr>\n",
       "    <tr>\n",
       "      <th>Terres Forestières</th>\n",
       "      <td>1368</td>\n",
       "    </tr>\n",
       "    <tr>\n",
       "      <th>Terres Herbacées</th>\n",
       "      <td>111</td>\n",
       "    </tr>\n",
       "    <tr>\n",
       "      <th>Terres Herbacées et Savanes</th>\n",
       "      <td>589</td>\n",
       "    </tr>\n",
       "    <tr>\n",
       "      <th>Terres Humides</th>\n",
       "      <td>85</td>\n",
       "    </tr>\n",
       "  </tbody>\n",
       "</table>\n",
       "</div>"
      ],
      "text/plain": [
       "interpreted                     1\n",
       "IPCC_Ref                         \n",
       "Autres Terres                  13\n",
       "Surfaces Humaines              80\n",
       "Terres Cultivées              171\n",
       "Terres Forestières           1368\n",
       "Terres Herbacées              111\n",
       "Terres Herbacées et Savanes   589\n",
       "Terres Humides                 85"
      ]
     },
     "execution_count": 9,
     "metadata": {},
     "output_type": "execute_result"
    }
   ],
   "source": [
    "pd.pivot_table(merged_ceo,values='plotid',index=['IPCC_Ref'],columns=['interpreted'],aggfunc=\"count\")"
   ]
  },
  {
   "cell_type": "code",
   "execution_count": 10,
   "id": "3c9f8e55-e75e-4d40-a06d-dd8010214f12",
   "metadata": {},
   "outputs": [
    {
     "data": {
      "text/html": [
       "<div>\n",
       "<style scoped>\n",
       "    .dataframe tbody tr th:only-of-type {\n",
       "        vertical-align: middle;\n",
       "    }\n",
       "\n",
       "    .dataframe tbody tr th {\n",
       "        vertical-align: top;\n",
       "    }\n",
       "\n",
       "    .dataframe thead th {\n",
       "        text-align: right;\n",
       "    }\n",
       "</style>\n",
       "<table border=\"1\" class=\"dataframe\">\n",
       "  <thead>\n",
       "    <tr style=\"text-align: right;\">\n",
       "      <th>interpreted</th>\n",
       "      <th>1</th>\n",
       "    </tr>\n",
       "    <tr>\n",
       "      <th>FType_2020_Ref</th>\n",
       "      <th></th>\n",
       "    </tr>\n",
       "  </thead>\n",
       "  <tbody>\n",
       "    <tr>\n",
       "      <th>Forêt Claire (30-60% TCC) sans perturbation</th>\n",
       "      <td>218</td>\n",
       "    </tr>\n",
       "    <tr>\n",
       "      <th>Forêt Dense (&gt;60% TCC) sans perturbation</th>\n",
       "      <td>797</td>\n",
       "    </tr>\n",
       "    <tr>\n",
       "      <th>Forêt Secondaire/Dégradée avec perturbation depuis 2000</th>\n",
       "      <td>146</td>\n",
       "    </tr>\n",
       "    <tr>\n",
       "      <th>Mangrove</th>\n",
       "      <td>19</td>\n",
       "    </tr>\n",
       "    <tr>\n",
       "      <th>Savane Boisée (10-30% TCC) sans perturbation</th>\n",
       "      <td>188</td>\n",
       "    </tr>\n",
       "  </tbody>\n",
       "</table>\n",
       "</div>"
      ],
      "text/plain": [
       "interpreted                                                1\n",
       "FType_2020_Ref                                              \n",
       "Forêt Claire (30-60% TCC) sans perturbation              218\n",
       "Forêt Dense (>60% TCC) sans perturbation                 797\n",
       "Forêt Secondaire/Dégradée avec perturbation depuis 2000  146\n",
       "Mangrove                                                  19\n",
       "Savane Boisée (10-30% TCC) sans perturbation             188"
      ]
     },
     "execution_count": 10,
     "metadata": {},
     "output_type": "execute_result"
    }
   ],
   "source": [
    "pd.pivot_table(merged_ceo,values='plotid',index=['FType_2020_Ref'],columns=['interpreted'],aggfunc=\"count\")"
   ]
  },
  {
   "cell_type": "code",
   "execution_count": 11,
   "id": "dfbce703-7623-41cc-a75f-87a1a2cb5873",
   "metadata": {},
   "outputs": [
    {
     "data": {
      "text/html": [
       "<div>\n",
       "<style scoped>\n",
       "    .dataframe tbody tr th:only-of-type {\n",
       "        vertical-align: middle;\n",
       "    }\n",
       "\n",
       "    .dataframe tbody tr th {\n",
       "        vertical-align: top;\n",
       "    }\n",
       "\n",
       "    .dataframe thead th {\n",
       "        text-align: right;\n",
       "    }\n",
       "</style>\n",
       "<table border=\"1\" class=\"dataframe\">\n",
       "  <thead>\n",
       "    <tr style=\"text-align: right;\">\n",
       "      <th>interpreted</th>\n",
       "      <th>1</th>\n",
       "    </tr>\n",
       "    <tr>\n",
       "      <th>AgType_2020_Ref</th>\n",
       "      <th></th>\n",
       "    </tr>\n",
       "  </thead>\n",
       "  <tbody>\n",
       "    <tr>\n",
       "      <th>Agriculure (cacao, huile de palme ou autre)</th>\n",
       "      <td>156</td>\n",
       "    </tr>\n",
       "    <tr>\n",
       "      <th>Plantation forestière</th>\n",
       "      <td>15</td>\n",
       "    </tr>\n",
       "  </tbody>\n",
       "</table>\n",
       "</div>"
      ],
      "text/plain": [
       "interpreted                                    1\n",
       "AgType_2020_Ref                                 \n",
       "Agriculure (cacao, huile de palme ou autre)  156\n",
       "Plantation forestière                         15"
      ]
     },
     "execution_count": 11,
     "metadata": {},
     "output_type": "execute_result"
    }
   ],
   "source": [
    "pd.pivot_table(merged_ceo,values='plotid',index=['AgType_2020_Ref'],columns=['interpreted'],aggfunc=\"count\")"
   ]
  },
  {
   "cell_type": "code",
   "execution_count": 12,
   "id": "796f423f-3296-424b-bfe9-b3cf0b76bc2f",
   "metadata": {},
   "outputs": [
    {
     "data": {
      "text/html": [
       "<div>\n",
       "<style scoped>\n",
       "    .dataframe tbody tr th:only-of-type {\n",
       "        vertical-align: middle;\n",
       "    }\n",
       "\n",
       "    .dataframe tbody tr th {\n",
       "        vertical-align: top;\n",
       "    }\n",
       "\n",
       "    .dataframe thead th {\n",
       "        text-align: right;\n",
       "    }\n",
       "</style>\n",
       "<table border=\"1\" class=\"dataframe\">\n",
       "  <thead>\n",
       "    <tr style=\"text-align: right;\">\n",
       "      <th>interpreted</th>\n",
       "      <th>1</th>\n",
       "    </tr>\n",
       "    <tr>\n",
       "      <th>HumType_2020_Ref</th>\n",
       "      <th></th>\n",
       "    </tr>\n",
       "  </thead>\n",
       "  <tbody>\n",
       "    <tr>\n",
       "      <th>Eau</th>\n",
       "      <td>39</td>\n",
       "    </tr>\n",
       "    <tr>\n",
       "      <th>Marécages</th>\n",
       "      <td>46</td>\n",
       "    </tr>\n",
       "  </tbody>\n",
       "</table>\n",
       "</div>"
      ],
      "text/plain": [
       "interpreted        1\n",
       "HumType_2020_Ref    \n",
       "Eau               39\n",
       "Marécages         46"
      ]
     },
     "execution_count": 12,
     "metadata": {},
     "output_type": "execute_result"
    }
   ],
   "source": [
    "pd.pivot_table(merged_ceo,values='plotid',index=['HumType_2020_Ref'],columns=['interpreted'],aggfunc=\"count\")"
   ]
  },
  {
   "cell_type": "code",
   "execution_count": 13,
   "id": "3750eddd-e79f-4ddc-b5e0-9807632e5d1e",
   "metadata": {},
   "outputs": [
    {
     "name": "stdout",
     "output_type": "stream",
     "text": [
      "IPCC_2020_Code_Ref\n",
      "10    1368\n",
      "30     700\n",
      "20     171\n",
      "40      85\n",
      "50      80\n",
      "60      13\n",
      "Name: count, dtype: int64\n"
     ]
    }
   ],
   "source": [
    "def y(x):\n",
    "  if x['IPCC_Ref'] == 'Terres Forestières': return 10\n",
    "  elif x['IPCC_Ref'] == 'Terres Cultivées' : return 20\n",
    "  elif x['IPCC_Ref'] == 'Terres Herbacées' or x['IPCC_Ref'] == 'Terres Herbacées et Savanes' : return 30\n",
    "  elif x['IPCC_Ref'] == 'Terres Humides' : return 40\n",
    "  elif x['IPCC_Ref'] == 'Surfaces Humaines' : return 50\n",
    "  elif x['IPCC_Ref'] == 'Autres Terres' : return 60\n",
    "  else: return 0\n",
    "\n",
    "merged_ceo['IPCC_2020_Code_Ref'] = merged_ceo.apply(y, axis=1)\n",
    "\n",
    "annual_counts = merged_ceo['IPCC_2020_Code_Ref'].value_counts()\n",
    "print(annual_counts)"
   ]
  },
  {
   "cell_type": "code",
   "execution_count": 14,
   "id": "b1fc60c8-024f-4697-a232-e5a13ef02256",
   "metadata": {},
   "outputs": [
    {
     "name": "stdout",
     "output_type": "stream",
     "text": [
      "FNF_2020_Ref\n",
      "1    1368\n",
      "0    1049\n",
      "Name: count, dtype: int64\n"
     ]
    }
   ],
   "source": [
    "def y(x):\n",
    "  if x['IPCC_2020_Code_Ref'] == 10: return 1\n",
    "  else: return 0\n",
    "\n",
    "merged_ceo['FNF_2020_Ref'] = merged_ceo.apply(y, axis=1)\n",
    "\n",
    "annual_counts = merged_ceo['FNF_2020_Ref'].value_counts()\n",
    "print(annual_counts)"
   ]
  },
  {
   "cell_type": "code",
   "execution_count": 15,
   "id": "9a7830b7-9406-40ac-a2c3-d56ed651052e",
   "metadata": {},
   "outputs": [
    {
     "name": "stdout",
     "output_type": "stream",
     "text": [
      "FType_2020_Code_Ref\n",
      "0     1049\n",
      "11     797\n",
      "12     218\n",
      "13     188\n",
      "15     146\n",
      "14      19\n",
      "Name: count, dtype: int64\n"
     ]
    }
   ],
   "source": [
    "def y(x):\n",
    "  if x['FType_2020_Ref'] == 'Forêt Dense (>60% TCC) sans perturbation': return 11\n",
    "  elif x['FType_2020_Ref'] == 'Forêt Claire (30-60% TCC) sans perturbation' : return 12\n",
    "  elif x['FType_2020_Ref'] == 'Savane Boisée (10-30% TCC) sans perturbation' : return 13\n",
    "  elif x['FType_2020_Ref'] == 'Mangrove ' : return 14\n",
    "  elif x['FType_2020_Ref'] == 'Forêt Secondaire/Dégradée avec perturbation depuis 2000' : return 15\n",
    "  else: return 0\n",
    "\n",
    "merged_ceo['FType_2020_Code_Ref'] = merged_ceo.apply(y, axis=1)\n",
    "\n",
    "annual_counts = merged_ceo['FType_2020_Code_Ref'].value_counts()\n",
    "print(annual_counts)"
   ]
  },
  {
   "cell_type": "code",
   "execution_count": 16,
   "id": "b480504d-f91f-4f60-a963-e6d1afaf55b6",
   "metadata": {},
   "outputs": [
    {
     "name": "stdout",
     "output_type": "stream",
     "text": [
      "AgType_2020_Code_Ref\n",
      "0     2246\n",
      "22     156\n",
      "21      15\n",
      "Name: count, dtype: int64\n"
     ]
    }
   ],
   "source": [
    "def y(x):\n",
    "  if x['AgType_2020_Ref'] == 'Agriculure (cacao, huile de palme ou autre)': return 22\n",
    "  elif x['AgType_2020_Ref'] == 'Plantation forestière' : return 21\n",
    "  else: return 0\n",
    "\n",
    "merged_ceo['AgType_2020_Code_Ref'] = merged_ceo.apply(y, axis=1)\n",
    "\n",
    "annual_counts = merged_ceo['AgType_2020_Code_Ref'].value_counts()\n",
    "print(annual_counts)"
   ]
  },
  {
   "cell_type": "code",
   "execution_count": 17,
   "id": "c2c97df2-4382-4025-9dfc-ebf185567ea6",
   "metadata": {},
   "outputs": [
    {
     "name": "stdout",
     "output_type": "stream",
     "text": [
      "HumType_2020_Code_Ref\n",
      "0     2332\n",
      "41      46\n",
      "42      39\n",
      "Name: count, dtype: int64\n"
     ]
    }
   ],
   "source": [
    "def y(x):\n",
    "  if x['HumType_2020_Ref'] == 'Eau': return 42\n",
    "  elif x['HumType_2020_Ref'] == 'Marécages' : return 41\n",
    "  else: return 0\n",
    "\n",
    "merged_ceo['HumType_2020_Code_Ref'] = merged_ceo.apply(y, axis=1)\n",
    "\n",
    "annual_counts = merged_ceo['HumType_2020_Code_Ref'].value_counts()\n",
    "print(annual_counts)"
   ]
  },
  {
   "cell_type": "code",
   "execution_count": 18,
   "id": "16e9a3c1-83c1-4377-b189-a5a00e993749",
   "metadata": {},
   "outputs": [],
   "source": [
    "# Define the function to set Class_Code based on conditions\n",
    "def set_class_code(row):\n",
    "    if row['FType_2020_Code_Ref'] != 0:\n",
    "        return row['FType_2020_Code_Ref']\n",
    "    elif row['AgType_2020_Code_Ref'] != 0:\n",
    "        return row['AgType_2020_Code_Ref']\n",
    "    elif row['HumType_2020_Code_Ref'] != 0:\n",
    "        return row['HumType_2020_Code_Ref']\n",
    "    else:\n",
    "        return row['IPCC_2020_Code_Ref']\n",
    "\n",
    "# Apply the function to each row\n",
    "merged_ceo['LC_2020_Code_Ref'] = merged_ceo.apply(set_class_code, axis=1)"
   ]
  },
  {
   "cell_type": "code",
   "execution_count": 19,
   "id": "3002cb2e-49bf-4425-b6a7-f6067f12834e",
   "metadata": {},
   "outputs": [
    {
     "data": {
      "text/html": [
       "<div>\n",
       "<style scoped>\n",
       "    .dataframe tbody tr th:only-of-type {\n",
       "        vertical-align: middle;\n",
       "    }\n",
       "\n",
       "    .dataframe tbody tr th {\n",
       "        vertical-align: top;\n",
       "    }\n",
       "\n",
       "    .dataframe thead th {\n",
       "        text-align: right;\n",
       "    }\n",
       "</style>\n",
       "<table border=\"1\" class=\"dataframe\">\n",
       "  <thead>\n",
       "    <tr style=\"text-align: right;\">\n",
       "      <th>interpreted</th>\n",
       "      <th>1</th>\n",
       "    </tr>\n",
       "    <tr>\n",
       "      <th>LC_2020_Code_Ref</th>\n",
       "      <th></th>\n",
       "    </tr>\n",
       "  </thead>\n",
       "  <tbody>\n",
       "    <tr>\n",
       "      <th>11</th>\n",
       "      <td>797</td>\n",
       "    </tr>\n",
       "    <tr>\n",
       "      <th>12</th>\n",
       "      <td>218</td>\n",
       "    </tr>\n",
       "    <tr>\n",
       "      <th>13</th>\n",
       "      <td>188</td>\n",
       "    </tr>\n",
       "    <tr>\n",
       "      <th>14</th>\n",
       "      <td>19</td>\n",
       "    </tr>\n",
       "    <tr>\n",
       "      <th>15</th>\n",
       "      <td>146</td>\n",
       "    </tr>\n",
       "    <tr>\n",
       "      <th>21</th>\n",
       "      <td>15</td>\n",
       "    </tr>\n",
       "    <tr>\n",
       "      <th>22</th>\n",
       "      <td>156</td>\n",
       "    </tr>\n",
       "    <tr>\n",
       "      <th>30</th>\n",
       "      <td>700</td>\n",
       "    </tr>\n",
       "    <tr>\n",
       "      <th>41</th>\n",
       "      <td>46</td>\n",
       "    </tr>\n",
       "    <tr>\n",
       "      <th>42</th>\n",
       "      <td>39</td>\n",
       "    </tr>\n",
       "    <tr>\n",
       "      <th>50</th>\n",
       "      <td>80</td>\n",
       "    </tr>\n",
       "    <tr>\n",
       "      <th>60</th>\n",
       "      <td>13</td>\n",
       "    </tr>\n",
       "  </tbody>\n",
       "</table>\n",
       "</div>"
      ],
      "text/plain": [
       "interpreted         1\n",
       "LC_2020_Code_Ref     \n",
       "11                797\n",
       "12                218\n",
       "13                188\n",
       "14                 19\n",
       "15                146\n",
       "21                 15\n",
       "22                156\n",
       "30                700\n",
       "41                 46\n",
       "42                 39\n",
       "50                 80\n",
       "60                 13"
      ]
     },
     "execution_count": 19,
     "metadata": {},
     "output_type": "execute_result"
    }
   ],
   "source": [
    "pd.pivot_table(merged_ceo,values='plotid',index=['LC_2020_Code_Ref'],columns=['interpreted'],aggfunc=\"count\")"
   ]
  },
  {
   "cell_type": "code",
   "execution_count": 20,
   "id": "4875ef95-654d-410d-b074-4ab5ed8e2f65",
   "metadata": {},
   "outputs": [],
   "source": [
    "# export\n",
    "merged_ceo.index.name = 'index'\n",
    "merged_ceo.to_csv(ceo_data_out,index=True)"
   ]
  },
  {
   "cell_type": "code",
   "execution_count": null,
   "id": "f7d0f60f-b145-4b74-8ec9-e83cfc8cec2f",
   "metadata": {},
   "outputs": [],
   "source": []
  }
 ],
 "metadata": {
  "kernelspec": {
   "display_name": "Python 3",
   "language": "python",
   "name": "python3"
  },
  "language_info": {
   "codemirror_mode": {
    "name": "ipython",
    "version": 3
   },
   "file_extension": ".py",
   "mimetype": "text/x-python",
   "name": "python",
   "nbconvert_exporter": "python",
   "pygments_lexer": "ipython3",
   "version": "3.10.12"
  }
 },
 "nbformat": 4,
 "nbformat_minor": 5
}
