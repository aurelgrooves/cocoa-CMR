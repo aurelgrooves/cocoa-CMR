{
 "cells": [
  {
   "cell_type": "code",
   "execution_count": 1,
   "id": "7bf7c187-ac38-4590-a5a0-b6c7643cbf7a",
   "metadata": {},
   "outputs": [],
   "source": [
    "import ee\n",
    "import geemap\n",
    "ee.Authenticate()\n",
    "ee.Initialize()\n",
    "\n",
    "\n",
    "import pandas as pd\n",
    "import geopandas as gpd\n",
    "import numpy as np \n",
    "from ipyleaflet import CircleMarker\n",
    "import seaborn as sns\n",
    "from matplotlib import pyplot as plt\n",
    "from sklearn.metrics import confusion_matrix\n",
    "from shapely import wkt  # For converting text to geometry\n",
    "\n",
    "pd.options.display.float_format = '{:.3f}'.format"
   ]
  },
  {
   "cell_type": "code",
   "execution_count": 2,
   "id": "87792c43-fce7-43bb-b0a9-8b85ce6cb05c",
   "metadata": {},
   "outputs": [
    {
     "data": {
      "text/html": [
       "\n",
       "            <style>\n",
       "                .geemap-dark {\n",
       "                    --jp-widgets-color: white;\n",
       "                    --jp-widgets-label-color: white;\n",
       "                    --jp-ui-font-color1: white;\n",
       "                    --jp-layout-color2: #454545;\n",
       "                    background-color: #383838;\n",
       "                }\n",
       "\n",
       "                .geemap-dark .jupyter-button {\n",
       "                    --jp-layout-color3: #383838;\n",
       "                }\n",
       "\n",
       "                .geemap-colab {\n",
       "                    background-color: var(--colab-primary-surface-color, white);\n",
       "                }\n",
       "\n",
       "                .geemap-colab .jupyter-button {\n",
       "                    --jp-layout-color3: var(--colab-primary-surface-color, white);\n",
       "                }\n",
       "            </style>\n",
       "            "
      ],
      "text/plain": [
       "<IPython.core.display.HTML object>"
      ]
     },
     "metadata": {},
     "output_type": "display_data"
    }
   ],
   "source": [
    "ref_map = pd.read_csv('/home/sepal-user/COCAFORI/CMR_2020_LC_types_ceo.csv')"
   ]
  },
  {
   "cell_type": "code",
   "execution_count": 3,
   "id": "8c363135-298a-4d47-9d7a-f6dcb9f159bc",
   "metadata": {},
   "outputs": [
    {
     "data": {
      "text/html": [
       "\n",
       "            <style>\n",
       "                .geemap-dark {\n",
       "                    --jp-widgets-color: white;\n",
       "                    --jp-widgets-label-color: white;\n",
       "                    --jp-ui-font-color1: white;\n",
       "                    --jp-layout-color2: #454545;\n",
       "                    background-color: #383838;\n",
       "                }\n",
       "\n",
       "                .geemap-dark .jupyter-button {\n",
       "                    --jp-layout-color3: #383838;\n",
       "                }\n",
       "\n",
       "                .geemap-colab {\n",
       "                    background-color: var(--colab-primary-surface-color, white);\n",
       "                }\n",
       "\n",
       "                .geemap-colab .jupyter-button {\n",
       "                    --jp-layout-color3: var(--colab-primary-surface-color, white);\n",
       "                }\n",
       "            </style>\n",
       "            "
      ],
      "text/plain": [
       "<IPython.core.display.HTML object>"
      ]
     },
     "metadata": {},
     "output_type": "display_data"
    }
   ],
   "source": [
    "ref_map_gdf = gpd.GeoDataFrame(ref_map)\n",
    "# Convert 'geometry' column from string to actual geometry objects\n",
    "ref_map_gdf['geometry'] = ref_map_gdf['geometry'].apply(wkt.loads)\n",
    "# Set 'geometry' as the active geometry column\n",
    "ref_map_gdf = ref_map_gdf.set_geometry('geometry')"
   ]
  },
  {
   "cell_type": "code",
   "execution_count": 4,
   "id": "77d3b12b-ba80-42ad-ae64-ff3331673487",
   "metadata": {},
   "outputs": [
    {
     "data": {
      "text/html": [
       "\n",
       "            <style>\n",
       "                .geemap-dark {\n",
       "                    --jp-widgets-color: white;\n",
       "                    --jp-widgets-label-color: white;\n",
       "                    --jp-ui-font-color1: white;\n",
       "                    --jp-layout-color2: #454545;\n",
       "                    background-color: #383838;\n",
       "                }\n",
       "\n",
       "                .geemap-dark .jupyter-button {\n",
       "                    --jp-layout-color3: #383838;\n",
       "                }\n",
       "\n",
       "                .geemap-colab {\n",
       "                    background-color: var(--colab-primary-surface-color, white);\n",
       "                }\n",
       "\n",
       "                .geemap-colab .jupyter-button {\n",
       "                    --jp-layout-color3: var(--colab-primary-surface-color, white);\n",
       "                }\n",
       "            </style>\n",
       "            "
      ],
      "text/plain": [
       "<IPython.core.display.HTML object>"
      ]
     },
     "metadata": {},
     "output_type": "display_data"
    }
   ],
   "source": [
    "ref_map_gdf['lon'] = ref_map_gdf.geometry.x\n",
    "ref_map_gdf['lat'] = ref_map_gdf.geometry.y"
   ]
  },
  {
   "cell_type": "code",
   "execution_count": 5,
   "id": "0a84638c-8d6c-43dd-97da-1105bdd93a72",
   "metadata": {},
   "outputs": [
    {
     "data": {
      "text/html": [
       "\n",
       "            <style>\n",
       "                .geemap-dark {\n",
       "                    --jp-widgets-color: white;\n",
       "                    --jp-widgets-label-color: white;\n",
       "                    --jp-ui-font-color1: white;\n",
       "                    --jp-layout-color2: #454545;\n",
       "                    background-color: #383838;\n",
       "                }\n",
       "\n",
       "                .geemap-dark .jupyter-button {\n",
       "                    --jp-layout-color3: #383838;\n",
       "                }\n",
       "\n",
       "                .geemap-colab {\n",
       "                    background-color: var(--colab-primary-surface-color, white);\n",
       "                }\n",
       "\n",
       "                .geemap-colab .jupyter-button {\n",
       "                    --jp-layout-color3: var(--colab-primary-surface-color, white);\n",
       "                }\n",
       "            </style>\n",
       "            "
      ],
      "text/plain": [
       "<IPython.core.display.HTML object>"
      ]
     },
     "metadata": {},
     "output_type": "display_data"
    },
    {
     "data": {
      "text/html": [
       "<div>\n",
       "<style scoped>\n",
       "    .dataframe tbody tr th:only-of-type {\n",
       "        vertical-align: middle;\n",
       "    }\n",
       "\n",
       "    .dataframe tbody tr th {\n",
       "        vertical-align: top;\n",
       "    }\n",
       "\n",
       "    .dataframe thead th {\n",
       "        text-align: right;\n",
       "    }\n",
       "</style>\n",
       "<table border=\"1\" class=\"dataframe\">\n",
       "  <thead>\n",
       "    <tr style=\"text-align: right;\">\n",
       "      <th></th>\n",
       "      <th>geometry</th>\n",
       "      <th>FNF_2020_Ref</th>\n",
       "      <th>LC_2020_Code_Map</th>\n",
       "      <th>LC_2020_Code_Ref</th>\n",
       "      <th>collection</th>\n",
       "      <th>FNF_2020_Map</th>\n",
       "      <th>index</th>\n",
       "      <th>plotid</th>\n",
       "      <th>sampleid</th>\n",
       "      <th>lon</th>\n",
       "      <th>lat</th>\n",
       "    </tr>\n",
       "  </thead>\n",
       "  <tbody>\n",
       "    <tr>\n",
       "      <th>0</th>\n",
       "      <td>POINT (14.29857 7.77672)</td>\n",
       "      <td>1</td>\n",
       "      <td>11</td>\n",
       "      <td>12</td>\n",
       "      <td>1</td>\n",
       "      <td>1</td>\n",
       "      <td>0</td>\n",
       "      <td>4</td>\n",
       "      <td>4</td>\n",
       "      <td>14.299</td>\n",
       "      <td>7.777</td>\n",
       "    </tr>\n",
       "    <tr>\n",
       "      <th>1</th>\n",
       "      <td>POINT (13.15682 9.44489)</td>\n",
       "      <td>0</td>\n",
       "      <td>30</td>\n",
       "      <td>30</td>\n",
       "      <td>1</td>\n",
       "      <td>0</td>\n",
       "      <td>1</td>\n",
       "      <td>2</td>\n",
       "      <td>2</td>\n",
       "      <td>13.157</td>\n",
       "      <td>9.445</td>\n",
       "    </tr>\n",
       "    <tr>\n",
       "      <th>2</th>\n",
       "      <td>POINT (13.75959 8.64718)</td>\n",
       "      <td>0</td>\n",
       "      <td>30</td>\n",
       "      <td>30</td>\n",
       "      <td>1</td>\n",
       "      <td>0</td>\n",
       "      <td>2</td>\n",
       "      <td>6</td>\n",
       "      <td>6</td>\n",
       "      <td>13.760</td>\n",
       "      <td>8.647</td>\n",
       "    </tr>\n",
       "    <tr>\n",
       "      <th>3</th>\n",
       "      <td>POINT (14.74055 11.1445)</td>\n",
       "      <td>0</td>\n",
       "      <td>30</td>\n",
       "      <td>30</td>\n",
       "      <td>1</td>\n",
       "      <td>0</td>\n",
       "      <td>3</td>\n",
       "      <td>7</td>\n",
       "      <td>7</td>\n",
       "      <td>14.741</td>\n",
       "      <td>11.144</td>\n",
       "    </tr>\n",
       "    <tr>\n",
       "      <th>4</th>\n",
       "      <td>POINT (13.10112 4.40264)</td>\n",
       "      <td>1</td>\n",
       "      <td>11</td>\n",
       "      <td>11</td>\n",
       "      <td>1</td>\n",
       "      <td>1</td>\n",
       "      <td>4</td>\n",
       "      <td>8</td>\n",
       "      <td>8</td>\n",
       "      <td>13.101</td>\n",
       "      <td>4.403</td>\n",
       "    </tr>\n",
       "  </tbody>\n",
       "</table>\n",
       "</div>"
      ],
      "text/plain": [
       "                   geometry  FNF_2020_Ref  LC_2020_Code_Map  LC_2020_Code_Ref  \\\n",
       "0  POINT (14.29857 7.77672)             1                11                12   \n",
       "1  POINT (13.15682 9.44489)             0                30                30   \n",
       "2  POINT (13.75959 8.64718)             0                30                30   \n",
       "3  POINT (14.74055 11.1445)             0                30                30   \n",
       "4  POINT (13.10112 4.40264)             1                11                11   \n",
       "\n",
       "   collection  FNF_2020_Map  index  plotid  sampleid    lon    lat  \n",
       "0           1             1      0       4         4 14.299  7.777  \n",
       "1           1             0      1       2         2 13.157  9.445  \n",
       "2           1             0      2       6         6 13.760  8.647  \n",
       "3           1             0      3       7         7 14.741 11.144  \n",
       "4           1             1      4       8         8 13.101  4.403  "
      ]
     },
     "execution_count": 5,
     "metadata": {},
     "output_type": "execute_result"
    }
   ],
   "source": [
    "ref_map_gdf.head()"
   ]
  },
  {
   "cell_type": "code",
   "execution_count": 6,
   "id": "344b8fcb-94b0-4113-aa66-a03f14c88f3a",
   "metadata": {},
   "outputs": [
    {
     "data": {
      "text/html": [
       "\n",
       "            <style>\n",
       "                .geemap-dark {\n",
       "                    --jp-widgets-color: white;\n",
       "                    --jp-widgets-label-color: white;\n",
       "                    --jp-ui-font-color1: white;\n",
       "                    --jp-layout-color2: #454545;\n",
       "                    background-color: #383838;\n",
       "                }\n",
       "\n",
       "                .geemap-dark .jupyter-button {\n",
       "                    --jp-layout-color3: #383838;\n",
       "                }\n",
       "\n",
       "                .geemap-colab {\n",
       "                    background-color: var(--colab-primary-surface-color, white);\n",
       "                }\n",
       "\n",
       "                .geemap-colab .jupyter-button {\n",
       "                    --jp-layout-color3: var(--colab-primary-surface-color, white);\n",
       "                }\n",
       "            </style>\n",
       "            "
      ],
      "text/plain": [
       "<IPython.core.display.HTML object>"
      ]
     },
     "metadata": {},
     "output_type": "display_data"
    }
   ],
   "source": [
    "# Define conditions and corresponding values\n",
    "conditions = [\n",
    "    (ref_map_gdf['LC_2020_Code_Map'].between(10, 19)), \n",
    "    (ref_map_gdf['LC_2020_Code_Map'].between(20, 29)),  \n",
    "    (ref_map_gdf['LC_2020_Code_Map'].between(30, 39)),  \n",
    "    (ref_map_gdf['LC_2020_Code_Map'].between(40, 49)),  \n",
    "    (ref_map_gdf['LC_2020_Code_Map'].between(50, 59)),  \n",
    "    (ref_map_gdf['LC_2020_Code_Map'].between(60, 69)),  \n",
    "]\n",
    "\n",
    "values = [10, 20, 30, 40, 50, 60]\n",
    "\n",
    "# Assign values based on conditions\n",
    "ref_map_gdf['IPCC_2020_Code_Map'] = np.select(conditions, values, default=np.nan)  # Default to NaN if no condition is met"
   ]
  },
  {
   "cell_type": "code",
   "execution_count": 7,
   "id": "112f38f7-adfb-40b8-acf6-071cd63c2c72",
   "metadata": {},
   "outputs": [
    {
     "data": {
      "text/html": [
       "\n",
       "            <style>\n",
       "                .geemap-dark {\n",
       "                    --jp-widgets-color: white;\n",
       "                    --jp-widgets-label-color: white;\n",
       "                    --jp-ui-font-color1: white;\n",
       "                    --jp-layout-color2: #454545;\n",
       "                    background-color: #383838;\n",
       "                }\n",
       "\n",
       "                .geemap-dark .jupyter-button {\n",
       "                    --jp-layout-color3: #383838;\n",
       "                }\n",
       "\n",
       "                .geemap-colab {\n",
       "                    background-color: var(--colab-primary-surface-color, white);\n",
       "                }\n",
       "\n",
       "                .geemap-colab .jupyter-button {\n",
       "                    --jp-layout-color3: var(--colab-primary-surface-color, white);\n",
       "                }\n",
       "            </style>\n",
       "            "
      ],
      "text/plain": [
       "<IPython.core.display.HTML object>"
      ]
     },
     "metadata": {},
     "output_type": "display_data"
    }
   ],
   "source": [
    "# Define conditions and corresponding values\n",
    "conditions = [\n",
    "    (ref_map_gdf['LC_2020_Code_Ref'].between(10, 19)), \n",
    "    (ref_map_gdf['LC_2020_Code_Ref'].between(20, 29)),  \n",
    "    (ref_map_gdf['LC_2020_Code_Ref'].between(30, 39)),  \n",
    "    (ref_map_gdf['LC_2020_Code_Ref'].between(40, 49)),  \n",
    "    (ref_map_gdf['LC_2020_Code_Ref'].between(50, 59)),  \n",
    "    (ref_map_gdf['LC_2020_Code_Ref'].between(60, 69)),  \n",
    "]\n",
    "\n",
    "values = [10, 20, 30, 40, 50, 60]\n",
    "\n",
    "# Assign values based on conditions\n",
    "ref_map_gdf['IPCC_2020_Code_Ref'] = np.select(conditions, values, default=np.nan)  # Default to NaN if no condition is met"
   ]
  },
  {
   "cell_type": "code",
   "execution_count": 8,
   "id": "c5b69156-a3d3-4aab-97aa-97081a93e7bb",
   "metadata": {},
   "outputs": [
    {
     "data": {
      "text/html": [
       "\n",
       "            <style>\n",
       "                .geemap-dark {\n",
       "                    --jp-widgets-color: white;\n",
       "                    --jp-widgets-label-color: white;\n",
       "                    --jp-ui-font-color1: white;\n",
       "                    --jp-layout-color2: #454545;\n",
       "                    background-color: #383838;\n",
       "                }\n",
       "\n",
       "                .geemap-dark .jupyter-button {\n",
       "                    --jp-layout-color3: #383838;\n",
       "                }\n",
       "\n",
       "                .geemap-colab {\n",
       "                    background-color: var(--colab-primary-surface-color, white);\n",
       "                }\n",
       "\n",
       "                .geemap-colab .jupyter-button {\n",
       "                    --jp-layout-color3: var(--colab-primary-surface-color, white);\n",
       "                }\n",
       "            </style>\n",
       "            "
      ],
      "text/plain": [
       "<IPython.core.display.HTML object>"
      ]
     },
     "metadata": {},
     "output_type": "display_data"
    }
   ],
   "source": [
    "ref_map_gdf['IPCC_agree'] = (ref_map_gdf['IPCC_2020_Code_Map'] == ref_map_gdf['IPCC_2020_Code_Ref']).astype(int)\n",
    "ref_map_gdf['LC_agree'] = (ref_map_gdf['LC_2020_Code_Map'] == ref_map_gdf['LC_2020_Code_Ref']).astype(int)\n",
    "ref_map_gdf['FNF_agree'] = (ref_map_gdf['FNF_2020_Map'] == ref_map_gdf['FNF_2020_Ref']).astype(int)"
   ]
  },
  {
   "cell_type": "code",
   "execution_count": 9,
   "id": "305acfbc-a663-4fd2-ba44-969a91bbe0ce",
   "metadata": {},
   "outputs": [
    {
     "data": {
      "text/html": [
       "\n",
       "            <style>\n",
       "                .geemap-dark {\n",
       "                    --jp-widgets-color: white;\n",
       "                    --jp-widgets-label-color: white;\n",
       "                    --jp-ui-font-color1: white;\n",
       "                    --jp-layout-color2: #454545;\n",
       "                    background-color: #383838;\n",
       "                }\n",
       "\n",
       "                .geemap-dark .jupyter-button {\n",
       "                    --jp-layout-color3: #383838;\n",
       "                }\n",
       "\n",
       "                .geemap-colab {\n",
       "                    background-color: var(--colab-primary-surface-color, white);\n",
       "                }\n",
       "\n",
       "                .geemap-colab .jupyter-button {\n",
       "                    --jp-layout-color3: var(--colab-primary-surface-color, white);\n",
       "                }\n",
       "            </style>\n",
       "            "
      ],
      "text/plain": [
       "<IPython.core.display.HTML object>"
      ]
     },
     "metadata": {},
     "output_type": "display_data"
    },
    {
     "data": {
      "text/html": [
       "<div>\n",
       "<style scoped>\n",
       "    .dataframe tbody tr th:only-of-type {\n",
       "        vertical-align: middle;\n",
       "    }\n",
       "\n",
       "    .dataframe tbody tr th {\n",
       "        vertical-align: top;\n",
       "    }\n",
       "\n",
       "    .dataframe thead th {\n",
       "        text-align: right;\n",
       "    }\n",
       "</style>\n",
       "<table border=\"1\" class=\"dataframe\">\n",
       "  <thead>\n",
       "    <tr style=\"text-align: right;\">\n",
       "      <th></th>\n",
       "      <th>geometry</th>\n",
       "      <th>FNF_2020_Ref</th>\n",
       "      <th>LC_2020_Code_Map</th>\n",
       "      <th>LC_2020_Code_Ref</th>\n",
       "      <th>collection</th>\n",
       "      <th>FNF_2020_Map</th>\n",
       "      <th>index</th>\n",
       "      <th>plotid</th>\n",
       "      <th>sampleid</th>\n",
       "      <th>lon</th>\n",
       "      <th>lat</th>\n",
       "      <th>IPCC_2020_Code_Map</th>\n",
       "      <th>IPCC_2020_Code_Ref</th>\n",
       "      <th>IPCC_agree</th>\n",
       "      <th>LC_agree</th>\n",
       "      <th>FNF_agree</th>\n",
       "    </tr>\n",
       "  </thead>\n",
       "  <tbody>\n",
       "    <tr>\n",
       "      <th>0</th>\n",
       "      <td>POINT (14.29857 7.77672)</td>\n",
       "      <td>1</td>\n",
       "      <td>11</td>\n",
       "      <td>12</td>\n",
       "      <td>1</td>\n",
       "      <td>1</td>\n",
       "      <td>0</td>\n",
       "      <td>4</td>\n",
       "      <td>4</td>\n",
       "      <td>14.299</td>\n",
       "      <td>7.777</td>\n",
       "      <td>10.000</td>\n",
       "      <td>10.000</td>\n",
       "      <td>1</td>\n",
       "      <td>0</td>\n",
       "      <td>1</td>\n",
       "    </tr>\n",
       "    <tr>\n",
       "      <th>1</th>\n",
       "      <td>POINT (13.15682 9.44489)</td>\n",
       "      <td>0</td>\n",
       "      <td>30</td>\n",
       "      <td>30</td>\n",
       "      <td>1</td>\n",
       "      <td>0</td>\n",
       "      <td>1</td>\n",
       "      <td>2</td>\n",
       "      <td>2</td>\n",
       "      <td>13.157</td>\n",
       "      <td>9.445</td>\n",
       "      <td>30.000</td>\n",
       "      <td>30.000</td>\n",
       "      <td>1</td>\n",
       "      <td>1</td>\n",
       "      <td>1</td>\n",
       "    </tr>\n",
       "    <tr>\n",
       "      <th>2</th>\n",
       "      <td>POINT (13.75959 8.64718)</td>\n",
       "      <td>0</td>\n",
       "      <td>30</td>\n",
       "      <td>30</td>\n",
       "      <td>1</td>\n",
       "      <td>0</td>\n",
       "      <td>2</td>\n",
       "      <td>6</td>\n",
       "      <td>6</td>\n",
       "      <td>13.760</td>\n",
       "      <td>8.647</td>\n",
       "      <td>30.000</td>\n",
       "      <td>30.000</td>\n",
       "      <td>1</td>\n",
       "      <td>1</td>\n",
       "      <td>1</td>\n",
       "    </tr>\n",
       "    <tr>\n",
       "      <th>3</th>\n",
       "      <td>POINT (14.74055 11.1445)</td>\n",
       "      <td>0</td>\n",
       "      <td>30</td>\n",
       "      <td>30</td>\n",
       "      <td>1</td>\n",
       "      <td>0</td>\n",
       "      <td>3</td>\n",
       "      <td>7</td>\n",
       "      <td>7</td>\n",
       "      <td>14.741</td>\n",
       "      <td>11.144</td>\n",
       "      <td>30.000</td>\n",
       "      <td>30.000</td>\n",
       "      <td>1</td>\n",
       "      <td>1</td>\n",
       "      <td>1</td>\n",
       "    </tr>\n",
       "    <tr>\n",
       "      <th>4</th>\n",
       "      <td>POINT (13.10112 4.40264)</td>\n",
       "      <td>1</td>\n",
       "      <td>11</td>\n",
       "      <td>11</td>\n",
       "      <td>1</td>\n",
       "      <td>1</td>\n",
       "      <td>4</td>\n",
       "      <td>8</td>\n",
       "      <td>8</td>\n",
       "      <td>13.101</td>\n",
       "      <td>4.403</td>\n",
       "      <td>10.000</td>\n",
       "      <td>10.000</td>\n",
       "      <td>1</td>\n",
       "      <td>1</td>\n",
       "      <td>1</td>\n",
       "    </tr>\n",
       "  </tbody>\n",
       "</table>\n",
       "</div>"
      ],
      "text/plain": [
       "                   geometry  FNF_2020_Ref  LC_2020_Code_Map  LC_2020_Code_Ref  \\\n",
       "0  POINT (14.29857 7.77672)             1                11                12   \n",
       "1  POINT (13.15682 9.44489)             0                30                30   \n",
       "2  POINT (13.75959 8.64718)             0                30                30   \n",
       "3  POINT (14.74055 11.1445)             0                30                30   \n",
       "4  POINT (13.10112 4.40264)             1                11                11   \n",
       "\n",
       "   collection  FNF_2020_Map  index  plotid  sampleid    lon    lat  \\\n",
       "0           1             1      0       4         4 14.299  7.777   \n",
       "1           1             0      1       2         2 13.157  9.445   \n",
       "2           1             0      2       6         6 13.760  8.647   \n",
       "3           1             0      3       7         7 14.741 11.144   \n",
       "4           1             1      4       8         8 13.101  4.403   \n",
       "\n",
       "   IPCC_2020_Code_Map  IPCC_2020_Code_Ref  IPCC_agree  LC_agree  FNF_agree  \n",
       "0              10.000              10.000           1         0          1  \n",
       "1              30.000              30.000           1         1          1  \n",
       "2              30.000              30.000           1         1          1  \n",
       "3              30.000              30.000           1         1          1  \n",
       "4              10.000              10.000           1         1          1  "
      ]
     },
     "execution_count": 9,
     "metadata": {},
     "output_type": "execute_result"
    }
   ],
   "source": [
    "ref_map_gdf.head()"
   ]
  },
  {
   "cell_type": "code",
   "execution_count": 10,
   "id": "9990d748-3837-4159-a0d0-c5effb54ec76",
   "metadata": {},
   "outputs": [
    {
     "data": {
      "text/html": [
       "\n",
       "            <style>\n",
       "                .geemap-dark {\n",
       "                    --jp-widgets-color: white;\n",
       "                    --jp-widgets-label-color: white;\n",
       "                    --jp-ui-font-color1: white;\n",
       "                    --jp-layout-color2: #454545;\n",
       "                    background-color: #383838;\n",
       "                }\n",
       "\n",
       "                .geemap-dark .jupyter-button {\n",
       "                    --jp-layout-color3: #383838;\n",
       "                }\n",
       "\n",
       "                .geemap-colab {\n",
       "                    background-color: var(--colab-primary-surface-color, white);\n",
       "                }\n",
       "\n",
       "                .geemap-colab .jupyter-button {\n",
       "                    --jp-layout-color3: var(--colab-primary-surface-color, white);\n",
       "                }\n",
       "            </style>\n",
       "            "
      ],
      "text/plain": [
       "<IPython.core.display.HTML object>"
      ]
     },
     "metadata": {},
     "output_type": "display_data"
    },
    {
     "data": {
      "text/plain": [
       "LC_agree\n",
       "1    1489\n",
       "0     928\n",
       "Name: count, dtype: int64"
      ]
     },
     "execution_count": 10,
     "metadata": {},
     "output_type": "execute_result"
    }
   ],
   "source": [
    "ref_map_gdf['LC_agree'].value_counts(dropna=False)"
   ]
  },
  {
   "cell_type": "code",
   "execution_count": 11,
   "id": "d2c530c2-9b43-43f2-bfa3-70aeb0a9e028",
   "metadata": {},
   "outputs": [
    {
     "data": {
      "text/html": [
       "\n",
       "            <style>\n",
       "                .geemap-dark {\n",
       "                    --jp-widgets-color: white;\n",
       "                    --jp-widgets-label-color: white;\n",
       "                    --jp-ui-font-color1: white;\n",
       "                    --jp-layout-color2: #454545;\n",
       "                    background-color: #383838;\n",
       "                }\n",
       "\n",
       "                .geemap-dark .jupyter-button {\n",
       "                    --jp-layout-color3: #383838;\n",
       "                }\n",
       "\n",
       "                .geemap-colab {\n",
       "                    background-color: var(--colab-primary-surface-color, white);\n",
       "                }\n",
       "\n",
       "                .geemap-colab .jupyter-button {\n",
       "                    --jp-layout-color3: var(--colab-primary-surface-color, white);\n",
       "                }\n",
       "            </style>\n",
       "            "
      ],
      "text/plain": [
       "<IPython.core.display.HTML object>"
      ]
     },
     "metadata": {},
     "output_type": "display_data"
    },
    {
     "data": {
      "text/plain": [
       "IPCC_agree\n",
       "1    1891\n",
       "0     526\n",
       "Name: count, dtype: int64"
      ]
     },
     "execution_count": 11,
     "metadata": {},
     "output_type": "execute_result"
    }
   ],
   "source": [
    "ref_map_gdf['IPCC_agree'].value_counts(dropna=False)"
   ]
  },
  {
   "cell_type": "code",
   "execution_count": 12,
   "id": "cb58c0e0-afbe-4ecd-90ab-286e967bed7c",
   "metadata": {},
   "outputs": [
    {
     "data": {
      "text/html": [
       "\n",
       "            <style>\n",
       "                .geemap-dark {\n",
       "                    --jp-widgets-color: white;\n",
       "                    --jp-widgets-label-color: white;\n",
       "                    --jp-ui-font-color1: white;\n",
       "                    --jp-layout-color2: #454545;\n",
       "                    background-color: #383838;\n",
       "                }\n",
       "\n",
       "                .geemap-dark .jupyter-button {\n",
       "                    --jp-layout-color3: #383838;\n",
       "                }\n",
       "\n",
       "                .geemap-colab {\n",
       "                    background-color: var(--colab-primary-surface-color, white);\n",
       "                }\n",
       "\n",
       "                .geemap-colab .jupyter-button {\n",
       "                    --jp-layout-color3: var(--colab-primary-surface-color, white);\n",
       "                }\n",
       "            </style>\n",
       "            "
      ],
      "text/plain": [
       "<IPython.core.display.HTML object>"
      ]
     },
     "metadata": {},
     "output_type": "display_data"
    }
   ],
   "source": [
    "ref_map_gdf = ref_map_gdf.set_crs(\"EPSG:4326\", inplace=False)"
   ]
  },
  {
   "cell_type": "code",
   "execution_count": 13,
   "id": "d0a01411-ffe4-453f-a837-dd94d69dd136",
   "metadata": {},
   "outputs": [
    {
     "data": {
      "text/html": [
       "\n",
       "            <style>\n",
       "                .geemap-dark {\n",
       "                    --jp-widgets-color: white;\n",
       "                    --jp-widgets-label-color: white;\n",
       "                    --jp-ui-font-color1: white;\n",
       "                    --jp-layout-color2: #454545;\n",
       "                    background-color: #383838;\n",
       "                }\n",
       "\n",
       "                .geemap-dark .jupyter-button {\n",
       "                    --jp-layout-color3: #383838;\n",
       "                }\n",
       "\n",
       "                .geemap-colab {\n",
       "                    background-color: var(--colab-primary-surface-color, white);\n",
       "                }\n",
       "\n",
       "                .geemap-colab .jupyter-button {\n",
       "                    --jp-layout-color3: var(--colab-primary-surface-color, white);\n",
       "                }\n",
       "            </style>\n",
       "            "
      ],
      "text/plain": [
       "<IPython.core.display.HTML object>"
      ]
     },
     "metadata": {},
     "output_type": "display_data"
    }
   ],
   "source": [
    "# Initialize Earth Engine\n",
    "ee.Initialize()\n",
    "\n",
    "# Create the map\n",
    "Map = geemap.Map(center=[0, 15], zoom=4)\n",
    "\n",
    "# Load the GEE landcover image\n",
    "landcover = ee.Image(\"projects/ee-cocoacmr/assets/outputs/CMR_LC_2020\")  # replace with your asset\n",
    "\n",
    "# Landcover visualization\n",
    "landcover_vis = {\n",
    "    'min': 11,\n",
    "    'max': 60,\n",
    "    'palette': [\n",
    "        '#157A46', '#83C16F', '#9E8826', '#9e40b8', '#998056', '#000000', '#000000', '#000000',\n",
    "        '#000000', '#000000', '#A52A2A', '#AEDF18', '#000000', '#000000', '#000000', '#000000',\n",
    "        '#000000', '#000000', '#000000', '#C1D3AE', '#000000', '#000000', '#000000', '#000000',\n",
    "        '#000000', '#000000', '#000000', '#000000', '#000000', '#544C90', '#1B2FEA', '#000000',\n",
    "        '#000000', '#000000', '#000000', '#000000', '#000000', '#000000', '#784a50', '#000000',\n",
    "        '#000000', '#000000', '#000000', '#000000', '#000000', '#000000', '#000000', '#000000',\n",
    "        '#d9d2d0'\n",
    "    ]\n",
    "}\n",
    "\n",
    "# Add landcover to map\n",
    "Map.addLayer(landcover, landcover_vis, \"Landcover\")\n",
    "\n",
    "# --- Load your point layer ---\n",
    "# Example: ref_map_gdf = gpd.read_file(\"your_file.geojson\")\n",
    "\n",
    "# Convert LC_agree to colors\n",
    "# Map LC_agree values to color strings\n",
    "ref_map_gdf['color'] = ref_map_gdf['LC_agree'].map({0: '#000000', 1: '#544C90'})\n",
    "\n",
    "Map.add_gdf(ref_map_gdf, layer_name='Ref Points', info_mode='on_hover', style={\n",
    "    'color': 'color',\n",
    "    'radius': 5,\n",
    "    'fillOpacity': 0.8\n",
    "})\n",
    "\n",
    "\n",
    "# Show the map\n",
    "#Map\n"
   ]
  },
  {
   "cell_type": "markdown",
   "id": "7cd4e888-c9b9-47d2-83db-ae5959d138c7",
   "metadata": {},
   "source": [
    "##### add admin attributes"
   ]
  },
  {
   "cell_type": "code",
   "execution_count": 14,
   "id": "ae25069e-111a-4633-bd46-7303c9681c73",
   "metadata": {},
   "outputs": [
    {
     "data": {
      "text/html": [
       "\n",
       "            <style>\n",
       "                .geemap-dark {\n",
       "                    --jp-widgets-color: white;\n",
       "                    --jp-widgets-label-color: white;\n",
       "                    --jp-ui-font-color1: white;\n",
       "                    --jp-layout-color2: #454545;\n",
       "                    background-color: #383838;\n",
       "                }\n",
       "\n",
       "                .geemap-dark .jupyter-button {\n",
       "                    --jp-layout-color3: #383838;\n",
       "                }\n",
       "\n",
       "                .geemap-colab {\n",
       "                    background-color: var(--colab-primary-surface-color, white);\n",
       "                }\n",
       "\n",
       "                .geemap-colab .jupyter-button {\n",
       "                    --jp-layout-color3: var(--colab-primary-surface-color, white);\n",
       "                }\n",
       "            </style>\n",
       "            "
      ],
      "text/plain": [
       "<IPython.core.display.HTML object>"
      ]
     },
     "metadata": {},
     "output_type": "display_data"
    },
    {
     "data": {
      "text/html": [
       "<div>\n",
       "<style scoped>\n",
       "    .dataframe tbody tr th:only-of-type {\n",
       "        vertical-align: middle;\n",
       "    }\n",
       "\n",
       "    .dataframe tbody tr th {\n",
       "        vertical-align: top;\n",
       "    }\n",
       "\n",
       "    .dataframe thead th {\n",
       "        text-align: right;\n",
       "    }\n",
       "</style>\n",
       "<table border=\"1\" class=\"dataframe\">\n",
       "  <thead>\n",
       "    <tr style=\"text-align: right;\">\n",
       "      <th></th>\n",
       "      <th>Shape_Leng</th>\n",
       "      <th>Shape_Area</th>\n",
       "      <th>ADM1_EN</th>\n",
       "      <th>ADM1_FR</th>\n",
       "      <th>ADM1_PCODE</th>\n",
       "      <th>ADM1_REF</th>\n",
       "      <th>ADM1ALT1EN</th>\n",
       "      <th>ADM1ALT2EN</th>\n",
       "      <th>ADM1ALT1FR</th>\n",
       "      <th>ADM1ALT2FR</th>\n",
       "      <th>ADM0_EN</th>\n",
       "      <th>ADM0_FR</th>\n",
       "      <th>ADM0_PCODE</th>\n",
       "      <th>date</th>\n",
       "      <th>validOn</th>\n",
       "      <th>validTo</th>\n",
       "      <th>geometry</th>\n",
       "    </tr>\n",
       "  </thead>\n",
       "  <tbody>\n",
       "    <tr>\n",
       "      <th>0</th>\n",
       "      <td>15.151</td>\n",
       "      <td>5.236</td>\n",
       "      <td>Adamawa</td>\n",
       "      <td>Adamaoua</td>\n",
       "      <td>CM001</td>\n",
       "      <td>None</td>\n",
       "      <td>None</td>\n",
       "      <td>None</td>\n",
       "      <td>None</td>\n",
       "      <td>None</td>\n",
       "      <td>Cameroon</td>\n",
       "      <td>Cameroun (le)</td>\n",
       "      <td>CM</td>\n",
       "      <td>2018-12-17</td>\n",
       "      <td>2019-01-04</td>\n",
       "      <td>NaT</td>\n",
       "      <td>POLYGON ((12.28874 8.1817, 12.28379 8.16514, 1...</td>\n",
       "    </tr>\n",
       "    <tr>\n",
       "      <th>1</th>\n",
       "      <td>16.171</td>\n",
       "      <td>5.602</td>\n",
       "      <td>Centre</td>\n",
       "      <td>Centre</td>\n",
       "      <td>CM002</td>\n",
       "      <td>None</td>\n",
       "      <td>None</td>\n",
       "      <td>None</td>\n",
       "      <td>None</td>\n",
       "      <td>None</td>\n",
       "      <td>Cameroon</td>\n",
       "      <td>Cameroun (le)</td>\n",
       "      <td>CM</td>\n",
       "      <td>2018-12-17</td>\n",
       "      <td>2019-01-04</td>\n",
       "      <td>NaT</td>\n",
       "      <td>POLYGON ((11.99753 6.26224, 11.99793 6.25936, ...</td>\n",
       "    </tr>\n",
       "    <tr>\n",
       "      <th>2</th>\n",
       "      <td>18.826</td>\n",
       "      <td>8.957</td>\n",
       "      <td>East</td>\n",
       "      <td>Est</td>\n",
       "      <td>CM003</td>\n",
       "      <td>None</td>\n",
       "      <td>None</td>\n",
       "      <td>None</td>\n",
       "      <td>None</td>\n",
       "      <td>None</td>\n",
       "      <td>Cameroon</td>\n",
       "      <td>Cameroun (le)</td>\n",
       "      <td>CM</td>\n",
       "      <td>2018-12-17</td>\n",
       "      <td>2019-01-04</td>\n",
       "      <td>NaT</td>\n",
       "      <td>POLYGON ((14.39484 6.06262, 14.39542 6.06071, ...</td>\n",
       "    </tr>\n",
       "    <tr>\n",
       "      <th>3</th>\n",
       "      <td>13.273</td>\n",
       "      <td>2.827</td>\n",
       "      <td>Far-North</td>\n",
       "      <td>Extrême-Nord</td>\n",
       "      <td>CM004</td>\n",
       "      <td>None</td>\n",
       "      <td>None</td>\n",
       "      <td>None</td>\n",
       "      <td>None</td>\n",
       "      <td>None</td>\n",
       "      <td>Cameroon</td>\n",
       "      <td>Cameroun (le)</td>\n",
       "      <td>CM</td>\n",
       "      <td>2018-12-17</td>\n",
       "      <td>2019-01-04</td>\n",
       "      <td>NaT</td>\n",
       "      <td>POLYGON ((14.53742 12.94356, 14.54344 12.93673...</td>\n",
       "    </tr>\n",
       "    <tr>\n",
       "      <th>4</th>\n",
       "      <td>10.673</td>\n",
       "      <td>1.646</td>\n",
       "      <td>Littoral</td>\n",
       "      <td>Littoral</td>\n",
       "      <td>CM005</td>\n",
       "      <td>None</td>\n",
       "      <td>None</td>\n",
       "      <td>None</td>\n",
       "      <td>None</td>\n",
       "      <td>None</td>\n",
       "      <td>Cameroon</td>\n",
       "      <td>Cameroun (le)</td>\n",
       "      <td>CM</td>\n",
       "      <td>2018-12-17</td>\n",
       "      <td>2019-01-04</td>\n",
       "      <td>NaT</td>\n",
       "      <td>POLYGON ((9.84789 5.33234, 9.84934 5.32882, 9....</td>\n",
       "    </tr>\n",
       "  </tbody>\n",
       "</table>\n",
       "</div>"
      ],
      "text/plain": [
       "   Shape_Leng  Shape_Area    ADM1_EN       ADM1_FR ADM1_PCODE ADM1_REF  \\\n",
       "0      15.151       5.236    Adamawa      Adamaoua      CM001     None   \n",
       "1      16.171       5.602     Centre        Centre      CM002     None   \n",
       "2      18.826       8.957       East           Est      CM003     None   \n",
       "3      13.273       2.827  Far-North  Extrême-Nord      CM004     None   \n",
       "4      10.673       1.646   Littoral      Littoral      CM005     None   \n",
       "\n",
       "  ADM1ALT1EN ADM1ALT2EN ADM1ALT1FR ADM1ALT2FR   ADM0_EN        ADM0_FR  \\\n",
       "0       None       None       None       None  Cameroon  Cameroun (le)   \n",
       "1       None       None       None       None  Cameroon  Cameroun (le)   \n",
       "2       None       None       None       None  Cameroon  Cameroun (le)   \n",
       "3       None       None       None       None  Cameroon  Cameroun (le)   \n",
       "4       None       None       None       None  Cameroon  Cameroun (le)   \n",
       "\n",
       "  ADM0_PCODE       date    validOn validTo  \\\n",
       "0         CM 2018-12-17 2019-01-04     NaT   \n",
       "1         CM 2018-12-17 2019-01-04     NaT   \n",
       "2         CM 2018-12-17 2019-01-04     NaT   \n",
       "3         CM 2018-12-17 2019-01-04     NaT   \n",
       "4         CM 2018-12-17 2019-01-04     NaT   \n",
       "\n",
       "                                            geometry  \n",
       "0  POLYGON ((12.28874 8.1817, 12.28379 8.16514, 1...  \n",
       "1  POLYGON ((11.99753 6.26224, 11.99793 6.25936, ...  \n",
       "2  POLYGON ((14.39484 6.06262, 14.39542 6.06071, ...  \n",
       "3  POLYGON ((14.53742 12.94356, 14.54344 12.93673...  \n",
       "4  POLYGON ((9.84789 5.33234, 9.84934 5.32882, 9....  "
      ]
     },
     "execution_count": 14,
     "metadata": {},
     "output_type": "execute_result"
    }
   ],
   "source": [
    "poly = \"/home/sepal-user/admin/cmr_admbnda_adm1_inc_20180104.shp\"\n",
    "poly_shp = gpd.read_file(poly)\n",
    "poly_shp.head()"
   ]
  },
  {
   "cell_type": "code",
   "execution_count": 15,
   "id": "9eed145e-7345-41e4-b054-f23406ede6ba",
   "metadata": {},
   "outputs": [
    {
     "data": {
      "text/html": [
       "\n",
       "            <style>\n",
       "                .geemap-dark {\n",
       "                    --jp-widgets-color: white;\n",
       "                    --jp-widgets-label-color: white;\n",
       "                    --jp-ui-font-color1: white;\n",
       "                    --jp-layout-color2: #454545;\n",
       "                    background-color: #383838;\n",
       "                }\n",
       "\n",
       "                .geemap-dark .jupyter-button {\n",
       "                    --jp-layout-color3: #383838;\n",
       "                }\n",
       "\n",
       "                .geemap-colab {\n",
       "                    background-color: var(--colab-primary-surface-color, white);\n",
       "                }\n",
       "\n",
       "                .geemap-colab .jupyter-button {\n",
       "                    --jp-layout-color3: var(--colab-primary-surface-color, white);\n",
       "                }\n",
       "            </style>\n",
       "            "
      ],
      "text/plain": [
       "<IPython.core.display.HTML object>"
      ]
     },
     "metadata": {},
     "output_type": "display_data"
    }
   ],
   "source": [
    "# from the table above, identify the column name you want to associate\n",
    "admin_name = 'ADM1_EN'\n",
    "new_name = 'Region'"
   ]
  },
  {
   "cell_type": "code",
   "execution_count": 16,
   "id": "10dea98e-ec4d-402e-b9d0-8d2e26a4c759",
   "metadata": {},
   "outputs": [
    {
     "data": {
      "text/html": [
       "\n",
       "            <style>\n",
       "                .geemap-dark {\n",
       "                    --jp-widgets-color: white;\n",
       "                    --jp-widgets-label-color: white;\n",
       "                    --jp-ui-font-color1: white;\n",
       "                    --jp-layout-color2: #454545;\n",
       "                    background-color: #383838;\n",
       "                }\n",
       "\n",
       "                .geemap-dark .jupyter-button {\n",
       "                    --jp-layout-color3: #383838;\n",
       "                }\n",
       "\n",
       "                .geemap-colab {\n",
       "                    background-color: var(--colab-primary-surface-color, white);\n",
       "                }\n",
       "\n",
       "                .geemap-colab .jupyter-button {\n",
       "                    --jp-layout-color3: var(--colab-primary-surface-color, white);\n",
       "                }\n",
       "            </style>\n",
       "            "
      ],
      "text/plain": [
       "<IPython.core.display.HTML object>"
      ]
     },
     "metadata": {},
     "output_type": "display_data"
    },
    {
     "name": "stdout",
     "output_type": "stream",
     "text": [
      "Current CRS: EPSG:4326\n"
     ]
    }
   ],
   "source": [
    "poly_crs = poly_shp.crs\n",
    "print(\"Current CRS:\", poly_crs)"
   ]
  },
  {
   "cell_type": "code",
   "execution_count": 17,
   "id": "9e2feef4-f997-4f07-b4ee-b35bf5704987",
   "metadata": {},
   "outputs": [
    {
     "data": {
      "text/html": [
       "\n",
       "            <style>\n",
       "                .geemap-dark {\n",
       "                    --jp-widgets-color: white;\n",
       "                    --jp-widgets-label-color: white;\n",
       "                    --jp-ui-font-color1: white;\n",
       "                    --jp-layout-color2: #454545;\n",
       "                    background-color: #383838;\n",
       "                }\n",
       "\n",
       "                .geemap-dark .jupyter-button {\n",
       "                    --jp-layout-color3: #383838;\n",
       "                }\n",
       "\n",
       "                .geemap-colab {\n",
       "                    background-color: var(--colab-primary-surface-color, white);\n",
       "                }\n",
       "\n",
       "                .geemap-colab .jupyter-button {\n",
       "                    --jp-layout-color3: var(--colab-primary-surface-color, white);\n",
       "                }\n",
       "            </style>\n",
       "            "
      ],
      "text/plain": [
       "<IPython.core.display.HTML object>"
      ]
     },
     "metadata": {},
     "output_type": "display_data"
    }
   ],
   "source": [
    "poly_shp = poly_shp.to_crs(ref_map_gdf.crs)"
   ]
  },
  {
   "cell_type": "code",
   "execution_count": 18,
   "id": "9b593852-c08a-4ba7-b6cf-a9a4447b2966",
   "metadata": {},
   "outputs": [
    {
     "data": {
      "text/html": [
       "\n",
       "            <style>\n",
       "                .geemap-dark {\n",
       "                    --jp-widgets-color: white;\n",
       "                    --jp-widgets-label-color: white;\n",
       "                    --jp-ui-font-color1: white;\n",
       "                    --jp-layout-color2: #454545;\n",
       "                    background-color: #383838;\n",
       "                }\n",
       "\n",
       "                .geemap-dark .jupyter-button {\n",
       "                    --jp-layout-color3: #383838;\n",
       "                }\n",
       "\n",
       "                .geemap-colab {\n",
       "                    background-color: var(--colab-primary-surface-color, white);\n",
       "                }\n",
       "\n",
       "                .geemap-colab .jupyter-button {\n",
       "                    --jp-layout-color3: var(--colab-primary-surface-color, white);\n",
       "                }\n",
       "            </style>\n",
       "            "
      ],
      "text/plain": [
       "<IPython.core.display.HTML object>"
      ]
     },
     "metadata": {},
     "output_type": "display_data"
    },
    {
     "data": {
      "text/html": [
       "<div>\n",
       "<style scoped>\n",
       "    .dataframe tbody tr th:only-of-type {\n",
       "        vertical-align: middle;\n",
       "    }\n",
       "\n",
       "    .dataframe tbody tr th {\n",
       "        vertical-align: top;\n",
       "    }\n",
       "\n",
       "    .dataframe thead th {\n",
       "        text-align: right;\n",
       "    }\n",
       "</style>\n",
       "<table border=\"1\" class=\"dataframe\">\n",
       "  <thead>\n",
       "    <tr style=\"text-align: right;\">\n",
       "      <th></th>\n",
       "      <th>geometry</th>\n",
       "      <th>FNF_2020_Ref</th>\n",
       "      <th>LC_2020_Code_Map</th>\n",
       "      <th>LC_2020_Code_Ref</th>\n",
       "      <th>collection</th>\n",
       "      <th>FNF_2020_Map</th>\n",
       "      <th>index</th>\n",
       "      <th>plotid</th>\n",
       "      <th>sampleid</th>\n",
       "      <th>lon</th>\n",
       "      <th>lat</th>\n",
       "      <th>IPCC_2020_Code_Map</th>\n",
       "      <th>IPCC_2020_Code_Ref</th>\n",
       "      <th>IPCC_agree</th>\n",
       "      <th>LC_agree</th>\n",
       "      <th>FNF_agree</th>\n",
       "      <th>color</th>\n",
       "      <th>ADM1_EN</th>\n",
       "    </tr>\n",
       "  </thead>\n",
       "  <tbody>\n",
       "    <tr>\n",
       "      <th>0</th>\n",
       "      <td>POINT (1591710 862592.576)</td>\n",
       "      <td>1</td>\n",
       "      <td>11</td>\n",
       "      <td>12</td>\n",
       "      <td>1</td>\n",
       "      <td>1</td>\n",
       "      <td>0</td>\n",
       "      <td>4</td>\n",
       "      <td>4</td>\n",
       "      <td>14.299</td>\n",
       "      <td>7.777</td>\n",
       "      <td>10.000</td>\n",
       "      <td>10.000</td>\n",
       "      <td>1</td>\n",
       "      <td>0</td>\n",
       "      <td>1</td>\n",
       "      <td>#000000</td>\n",
       "      <td>North</td>\n",
       "    </tr>\n",
       "    <tr>\n",
       "      <th>1</th>\n",
       "      <td>POINT (1464610 1049187.28)</td>\n",
       "      <td>0</td>\n",
       "      <td>30</td>\n",
       "      <td>30</td>\n",
       "      <td>1</td>\n",
       "      <td>0</td>\n",
       "      <td>1</td>\n",
       "      <td>2</td>\n",
       "      <td>2</td>\n",
       "      <td>13.157</td>\n",
       "      <td>9.445</td>\n",
       "      <td>30.000</td>\n",
       "      <td>30.000</td>\n",
       "      <td>1</td>\n",
       "      <td>1</td>\n",
       "      <td>1</td>\n",
       "      <td>#544C90</td>\n",
       "      <td>North</td>\n",
       "    </tr>\n",
       "    <tr>\n",
       "      <th>2</th>\n",
       "      <td>POINT (1531710 959855.302)</td>\n",
       "      <td>0</td>\n",
       "      <td>30</td>\n",
       "      <td>30</td>\n",
       "      <td>1</td>\n",
       "      <td>0</td>\n",
       "      <td>2</td>\n",
       "      <td>6</td>\n",
       "      <td>6</td>\n",
       "      <td>13.760</td>\n",
       "      <td>8.647</td>\n",
       "      <td>30.000</td>\n",
       "      <td>30.000</td>\n",
       "      <td>1</td>\n",
       "      <td>1</td>\n",
       "      <td>1</td>\n",
       "      <td>#544C90</td>\n",
       "      <td>North</td>\n",
       "    </tr>\n",
       "    <tr>\n",
       "      <th>3</th>\n",
       "      <td>POINT (1640910 1240244.04)</td>\n",
       "      <td>0</td>\n",
       "      <td>30</td>\n",
       "      <td>30</td>\n",
       "      <td>1</td>\n",
       "      <td>0</td>\n",
       "      <td>3</td>\n",
       "      <td>7</td>\n",
       "      <td>7</td>\n",
       "      <td>14.741</td>\n",
       "      <td>11.144</td>\n",
       "      <td>30.000</td>\n",
       "      <td>30.000</td>\n",
       "      <td>1</td>\n",
       "      <td>1</td>\n",
       "      <td>1</td>\n",
       "      <td>#544C90</td>\n",
       "      <td>Far-North</td>\n",
       "    </tr>\n",
       "    <tr>\n",
       "      <th>4</th>\n",
       "      <td>POINT (1458410.001 487305.28)</td>\n",
       "      <td>1</td>\n",
       "      <td>11</td>\n",
       "      <td>11</td>\n",
       "      <td>1</td>\n",
       "      <td>1</td>\n",
       "      <td>4</td>\n",
       "      <td>8</td>\n",
       "      <td>8</td>\n",
       "      <td>13.101</td>\n",
       "      <td>4.403</td>\n",
       "      <td>10.000</td>\n",
       "      <td>10.000</td>\n",
       "      <td>1</td>\n",
       "      <td>1</td>\n",
       "      <td>1</td>\n",
       "      <td>#544C90</td>\n",
       "      <td>East</td>\n",
       "    </tr>\n",
       "  </tbody>\n",
       "</table>\n",
       "</div>"
      ],
      "text/plain": [
       "                        geometry  FNF_2020_Ref  LC_2020_Code_Map  \\\n",
       "0     POINT (1591710 862592.576)             1                11   \n",
       "1     POINT (1464610 1049187.28)             0                30   \n",
       "2     POINT (1531710 959855.302)             0                30   \n",
       "3     POINT (1640910 1240244.04)             0                30   \n",
       "4  POINT (1458410.001 487305.28)             1                11   \n",
       "\n",
       "   LC_2020_Code_Ref  collection  FNF_2020_Map  index  plotid  sampleid    lon  \\\n",
       "0                12           1             1      0       4         4 14.299   \n",
       "1                30           1             0      1       2         2 13.157   \n",
       "2                30           1             0      2       6         6 13.760   \n",
       "3                30           1             0      3       7         7 14.741   \n",
       "4                11           1             1      4       8         8 13.101   \n",
       "\n",
       "     lat  IPCC_2020_Code_Map  IPCC_2020_Code_Ref  IPCC_agree  LC_agree  \\\n",
       "0  7.777              10.000              10.000           1         0   \n",
       "1  9.445              30.000              30.000           1         1   \n",
       "2  8.647              30.000              30.000           1         1   \n",
       "3 11.144              30.000              30.000           1         1   \n",
       "4  4.403              10.000              10.000           1         1   \n",
       "\n",
       "   FNF_agree    color    ADM1_EN  \n",
       "0          1  #000000      North  \n",
       "1          1  #544C90      North  \n",
       "2          1  #544C90      North  \n",
       "3          1  #544C90  Far-North  \n",
       "4          1  #544C90       East  "
      ]
     },
     "execution_count": 18,
     "metadata": {},
     "output_type": "execute_result"
    }
   ],
   "source": [
    "# Reproject both GeoDataFrames to the same projected CRS (e.g., EPSG:3395 for World Mercator)\n",
    "gdf = ref_map_gdf\n",
    "gdf = gdf.to_crs(\"EPSG:3395\")\n",
    "poly_shp = poly_shp.to_crs(\"EPSG:3395\")\n",
    "\n",
    "# Step 1: Perform the spatial join for intersecting points\n",
    "joined_data_intersecting = gpd.sjoin(gdf, poly_shp[[admin_name, 'geometry']], how=\"left\", predicate=\"within\", lsuffix='left', rsuffix='right')\n",
    "\n",
    "# Drop the 'index_right' column if it exists, to avoid conflicts\n",
    "if 'index_right' in joined_data_intersecting.columns:\n",
    "    joined_data_intersecting = joined_data_intersecting.drop(columns='index_right')\n",
    "\n",
    "# Step 2: Identify points without an intersection (NaN values in the Admin_Name column)\n",
    "no_intersection_points = joined_data_intersecting[joined_data_intersecting[admin_name].isna()]\n",
    "\n",
    "# Step 3: Perform the nearest spatial join for points without an intersection\n",
    "nearest_join = gpd.sjoin_nearest(no_intersection_points.drop(columns=admin_name), poly_shp[[admin_name, 'geometry']], how=\"left\", distance_col=\"distance_to_polygon\")\n",
    "\n",
    "# Drop the 'index_right' column if it exists in the nearest join result\n",
    "if 'index_right' in nearest_join.columns:\n",
    "    nearest_join = nearest_join.drop(columns='index_right')\n",
    "\n",
    "# Step 4: Combine intersecting and nearest joined data into one GeoDataFrame\n",
    "# Retain only the specified `admin_name` column from `poly_shp`\n",
    "joined_data_combined = pd.concat([\n",
    "    joined_data_intersecting.dropna(subset=[admin_name]),\n",
    "    nearest_join\n",
    "])\n",
    "\n",
    "# Select only the columns from `gdf` plus `admin_name`\n",
    "columns_to_keep = list(gdf.columns) + [admin_name]\n",
    "joined_data = joined_data_combined[columns_to_keep]\n",
    "\n",
    "# Display the resulting GeoDataFrame\n",
    "joined_data.head()"
   ]
  },
  {
   "cell_type": "code",
   "execution_count": 19,
   "id": "e6ae4757-c439-4eb7-852e-fa2bb6bc8e44",
   "metadata": {},
   "outputs": [
    {
     "data": {
      "text/html": [
       "\n",
       "            <style>\n",
       "                .geemap-dark {\n",
       "                    --jp-widgets-color: white;\n",
       "                    --jp-widgets-label-color: white;\n",
       "                    --jp-ui-font-color1: white;\n",
       "                    --jp-layout-color2: #454545;\n",
       "                    background-color: #383838;\n",
       "                }\n",
       "\n",
       "                .geemap-dark .jupyter-button {\n",
       "                    --jp-layout-color3: #383838;\n",
       "                }\n",
       "\n",
       "                .geemap-colab {\n",
       "                    background-color: var(--colab-primary-surface-color, white);\n",
       "                }\n",
       "\n",
       "                .geemap-colab .jupyter-button {\n",
       "                    --jp-layout-color3: var(--colab-primary-surface-color, white);\n",
       "                }\n",
       "            </style>\n",
       "            "
      ],
      "text/plain": [
       "<IPython.core.display.HTML object>"
      ]
     },
     "metadata": {},
     "output_type": "display_data"
    },
    {
     "data": {
      "text/plain": [
       "ADM1_EN\n",
       "East          479\n",
       "North         449\n",
       "Adamawa       345\n",
       "Centre        326\n",
       "Far-North     239\n",
       "South         173\n",
       "North-West    117\n",
       "South-West    112\n",
       "Littoral       93\n",
       "West           84\n",
       "Name: count, dtype: int64"
      ]
     },
     "execution_count": 19,
     "metadata": {},
     "output_type": "execute_result"
    }
   ],
   "source": [
    "joined_data[admin_name].value_counts(dropna=False)"
   ]
  },
  {
   "cell_type": "code",
   "execution_count": 20,
   "id": "ff612acd-f961-4be7-9c7f-60ce0a40a24e",
   "metadata": {},
   "outputs": [
    {
     "data": {
      "text/html": [
       "\n",
       "            <style>\n",
       "                .geemap-dark {\n",
       "                    --jp-widgets-color: white;\n",
       "                    --jp-widgets-label-color: white;\n",
       "                    --jp-ui-font-color1: white;\n",
       "                    --jp-layout-color2: #454545;\n",
       "                    background-color: #383838;\n",
       "                }\n",
       "\n",
       "                .geemap-dark .jupyter-button {\n",
       "                    --jp-layout-color3: #383838;\n",
       "                }\n",
       "\n",
       "                .geemap-colab {\n",
       "                    background-color: var(--colab-primary-surface-color, white);\n",
       "                }\n",
       "\n",
       "                .geemap-colab .jupyter-button {\n",
       "                    --jp-layout-color3: var(--colab-primary-surface-color, white);\n",
       "                }\n",
       "            </style>\n",
       "            "
      ],
      "text/plain": [
       "<IPython.core.display.HTML object>"
      ]
     },
     "metadata": {},
     "output_type": "display_data"
    }
   ],
   "source": [
    "# Rename columns\n",
    "column_mapping = {\n",
    "   admin_name: new_name\n",
    "#    'NAME_2': 'Territoire',\n",
    "#    'Unnamed: 0':'Index'\n",
    "}\n",
    "\n",
    "# Use the rename() method to rename columns\n",
    "joined_data.rename(columns=column_mapping, inplace=True)"
   ]
  },
  {
   "cell_type": "code",
   "execution_count": 21,
   "id": "0af27b04-afbc-4f88-99dc-313985fe1e75",
   "metadata": {},
   "outputs": [
    {
     "data": {
      "text/html": [
       "\n",
       "            <style>\n",
       "                .geemap-dark {\n",
       "                    --jp-widgets-color: white;\n",
       "                    --jp-widgets-label-color: white;\n",
       "                    --jp-ui-font-color1: white;\n",
       "                    --jp-layout-color2: #454545;\n",
       "                    background-color: #383838;\n",
       "                }\n",
       "\n",
       "                .geemap-dark .jupyter-button {\n",
       "                    --jp-layout-color3: #383838;\n",
       "                }\n",
       "\n",
       "                .geemap-colab {\n",
       "                    background-color: var(--colab-primary-surface-color, white);\n",
       "                }\n",
       "\n",
       "                .geemap-colab .jupyter-button {\n",
       "                    --jp-layout-color3: var(--colab-primary-surface-color, white);\n",
       "                }\n",
       "            </style>\n",
       "            "
      ],
      "text/plain": [
       "<IPython.core.display.HTML object>"
      ]
     },
     "metadata": {},
     "output_type": "display_data"
    },
    {
     "name": "stdout",
     "output_type": "stream",
     "text": [
      "['geometry', 'FNF_2020_Ref', 'LC_2020_Code_Map', 'LC_2020_Code_Ref', 'collection', 'FNF_2020_Map', 'index', 'plotid', 'sampleid', 'lon', 'lat', 'IPCC_2020_Code_Map', 'IPCC_2020_Code_Ref', 'IPCC_agree', 'LC_agree', 'FNF_agree', 'color', 'Region']\n"
     ]
    }
   ],
   "source": [
    "print(joined_data.columns.tolist())"
   ]
  },
  {
   "cell_type": "code",
   "execution_count": 22,
   "id": "a6788912-7770-4e8a-b2b5-3308011734c6",
   "metadata": {},
   "outputs": [
    {
     "data": {
      "text/html": [
       "\n",
       "            <style>\n",
       "                .geemap-dark {\n",
       "                    --jp-widgets-color: white;\n",
       "                    --jp-widgets-label-color: white;\n",
       "                    --jp-ui-font-color1: white;\n",
       "                    --jp-layout-color2: #454545;\n",
       "                    background-color: #383838;\n",
       "                }\n",
       "\n",
       "                .geemap-dark .jupyter-button {\n",
       "                    --jp-layout-color3: #383838;\n",
       "                }\n",
       "\n",
       "                .geemap-colab {\n",
       "                    background-color: var(--colab-primary-surface-color, white);\n",
       "                }\n",
       "\n",
       "                .geemap-colab .jupyter-button {\n",
       "                    --jp-layout-color3: var(--colab-primary-surface-color, white);\n",
       "                }\n",
       "            </style>\n",
       "            "
      ],
      "text/plain": [
       "<IPython.core.display.HTML object>"
      ]
     },
     "metadata": {},
     "output_type": "display_data"
    }
   ],
   "source": [
    "joined_data = joined_data.drop(columns=['color'])"
   ]
  },
  {
   "cell_type": "code",
   "execution_count": 23,
   "id": "96b33691-0355-41b6-b916-d7d5a934a634",
   "metadata": {},
   "outputs": [
    {
     "data": {
      "text/html": [
       "\n",
       "            <style>\n",
       "                .geemap-dark {\n",
       "                    --jp-widgets-color: white;\n",
       "                    --jp-widgets-label-color: white;\n",
       "                    --jp-ui-font-color1: white;\n",
       "                    --jp-layout-color2: #454545;\n",
       "                    background-color: #383838;\n",
       "                }\n",
       "\n",
       "                .geemap-dark .jupyter-button {\n",
       "                    --jp-layout-color3: #383838;\n",
       "                }\n",
       "\n",
       "                .geemap-colab {\n",
       "                    background-color: var(--colab-primary-surface-color, white);\n",
       "                }\n",
       "\n",
       "                .geemap-colab .jupyter-button {\n",
       "                    --jp-layout-color3: var(--colab-primary-surface-color, white);\n",
       "                }\n",
       "            </style>\n",
       "            "
      ],
      "text/plain": [
       "<IPython.core.display.HTML object>"
      ]
     },
     "metadata": {},
     "output_type": "display_data"
    }
   ],
   "source": [
    "joined_data.to_csv('/home/sepal-user/COCAFORI/CMR_2020_LC_types_ceo_ref_val.csv',index=True)"
   ]
  },
  {
   "cell_type": "code",
   "execution_count": null,
   "id": "ab2dfe69-904d-4887-8d92-18b37ca29042",
   "metadata": {},
   "outputs": [],
   "source": []
  }
 ],
 "metadata": {
  "kernelspec": {
   "display_name": "Python 3",
   "language": "python",
   "name": "python3"
  },
  "language_info": {
   "codemirror_mode": {
    "name": "ipython",
    "version": 3
   },
   "file_extension": ".py",
   "mimetype": "text/x-python",
   "name": "python",
   "nbconvert_exporter": "python",
   "pygments_lexer": "ipython3",
   "version": "3.10.12"
  }
 },
 "nbformat": 4,
 "nbformat_minor": 5
}
